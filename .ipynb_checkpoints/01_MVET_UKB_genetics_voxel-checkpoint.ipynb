{
 "cells": [
  {
   "cell_type": "markdown",
   "id": "fe0b0884",
   "metadata": {},
   "source": [
    "# UKB CNV analysis\n",
    "In this script we make a voxel based analysis for participants with certain CNVs."
   ]
  },
  {
   "cell_type": "code",
   "execution_count": 1,
   "id": "6648ca50",
   "metadata": {
    "ExecuteTime": {
     "end_time": "2024-07-30T11:26:44.603796Z",
     "start_time": "2024-07-30T11:26:37.762118Z"
    },
    "run_control": {
     "marked": true
    }
   },
   "outputs": [],
   "source": [
    "import pandas as pd\n",
    "from matplotlib import pyplot as plt\n",
    "import numpy as np\n",
    "import seaborn as sns\n",
    "from scipy.stats import mannwhitneyu\n",
    "import os\n",
    "from pathlib import Path\n",
    "import joypy\n",
    "import scipy.stats\n",
    "import nibabel as nib\n",
    "from nilearn import datasets, plotting\n",
    "import sys\n",
    "from pcntoolkit.dataio.fileio import save as ptksave\n",
    "from pcntoolkit.dataio.fileio import load as ptkload\n",
    "import xml.etree.ElementTree as ET\n",
    "from wordcloud import WordCloud\n",
    "from scipy.stats import spearmanr\n",
    "from sklearn.decomposition import PCA\n",
    "from sklearn.model_selection import train_test_split\n",
    "from sklearn.linear_model import ElasticNet\n",
    "from sklearn.metrics import mean_squared_error, mean_absolute_error, r2_score\n",
    "from sklearn.preprocessing import StandardScaler\n",
    "from scipy.stats import pearsonr\n",
    "from matplotlib import rcParams\n",
    "import glob\n",
    "from statsmodels.stats.multitest import multipletests\n"
   ]
  },
  {
   "cell_type": "code",
   "execution_count": 2,
   "id": "ff636464",
   "metadata": {
    "ExecuteTime": {
     "end_time": "2024-07-30T11:26:44.635907Z",
     "start_time": "2024-07-30T11:26:44.605594Z"
    },
    "run_control": {
     "marked": true
    }
   },
   "outputs": [
    {
     "data": {
      "text/plain": [
       "<Figure size 432x288 with 0 Axes>"
      ]
     },
     "metadata": {},
     "output_type": "display_data"
    }
   ],
   "source": [
    "sns.set(style='whitegrid')\n",
    "sns.despine()\n",
    "rcParams['font.family'] = \"sans-serif\"\n",
    "rcParams['font.sans-serif'] = \"Arial\"\n",
    "colors = ['#2e3037', '#90e6e2', '#666666', '#f35b6a', '#fbb2b9', '#999fa9', '#39c0ba', '#e2e7ee', '#2e3037',\n",
    "'#90e6e2', '#666666', '#f35b6a', '#fbb2b9', '#999fa9', '#39c0ba', '#e2e7ee']\n",
    "save_path = '/home/preclineu/chafra/Desktop/figures/UKB/'\n",
    "plot = False\n",
    "customPalette = sns.set_palette(sns.color_palette(colors))"
   ]
  },
  {
   "cell_type": "code",
   "execution_count": 3,
   "id": "58ee9787",
   "metadata": {
    "ExecuteTime": {
     "end_time": "2024-07-30T11:26:44.652289Z",
     "start_time": "2024-07-30T11:26:44.639963Z"
    }
   },
   "outputs": [],
   "source": [
    "def calibration_descriptives(x):\n",
    "  n = np.shape(x)[0]\n",
    "  m1 = np.mean(x)\n",
    "  m2 = sum((x-m1)**2)\n",
    "  m3 = sum((x-m1)**3)\n",
    "  m4 = sum((x-m1)**4)\n",
    "  s1 = np.std(x)\n",
    "  skew = n*m3/(n-1)/(n-2)/s1**3\n",
    "  sdskew = np.sqrt( 6*n*(n-1) / ((n-2)*(n+1)*(n+3)) )\n",
    "  kurtosis = (n*(n+1)*m4 - 3*m2**2*(n-1)) / ((n-1)*(n-2)*(n-3)*s1**4)\n",
    "  sdkurtosis = np.sqrt( 4*(n**2-1) * sdskew**2 / ((n-3)*(n+5)) )\n",
    "  semean = np.sqrt(np.var(x)/n)\n",
    "  sesd = s1/np.sqrt(2*(n-1))\n",
    "  cd = [skew, sdskew, kurtosis, sdkurtosis, semean, sesd]\n",
    "  return cd"
   ]
  },
  {
   "cell_type": "markdown",
   "id": "9ea9f6d3",
   "metadata": {},
   "source": [
    "# Preperation data"
   ]
  },
  {
   "cell_type": "code",
   "execution_count": 4,
   "id": "e36a1e5b",
   "metadata": {
    "ExecuteTime": {
     "end_time": "2024-07-30T11:26:45.565072Z",
     "start_time": "2024-07-30T11:26:44.657309Z"
    },
    "tags": []
   },
   "outputs": [
    {
     "name": "stderr",
     "output_type": "stream",
     "text": [
      "/home/preclineu/chafra/.conda/envs/char/lib/python3.8/site-packages/openpyxl/worksheet/_reader.py:312: UserWarning: Unknown extension is not supported and will be removed\n",
      "  warn(msg)\n"
     ]
    }
   ],
   "source": [
    "UKB_cnv = pd.read_csv('/project_freenas/3022017.02/UKB/phenotypes/return_cnv/CNV_pathogenic_150k_14421.csv')\n",
    "UKB_genetics = pd.read_csv('/project_freenas/3022017.02/UKB/phenotypes/ukbreturn783/Summary_statistics_14421.csv', sep=\",\", index_col=0)\n",
    "CNV_summary = pd.read_excel('/project_freenas/3022017.02/UKB/phenotypes/ukbreturn783/1-s2.0-S0006322316327111-mmc2.xlsx')\n",
    "CNV_sub_index = [int(var.split('_')[0]) for var in UKB_cnv['cel_files']]\n",
    "UKB_cnv['sub_index'] = CNV_sub_index\n",
    "UKB_cnv = UKB_cnv.set_index('sub_index')"
   ]
  },
  {
   "cell_type": "markdown",
   "id": "fd7d1319-fa3c-4c25-9da4-89fa3b10b1a4",
   "metadata": {},
   "source": [
    "## CNV to model"
   ]
  },
  {
   "cell_type": "code",
   "execution_count": 5,
   "id": "22cccba3",
   "metadata": {
    "ExecuteTime": {
     "end_time": "2024-07-30T11:26:45.571968Z",
     "start_time": "2024-07-30T11:26:45.566390Z"
    }
   },
   "outputs": [],
   "source": [
    "cnv_to_model = '1q21.1del'\n",
    "#cnv_to_model = '1q21.1dup'\n",
    "#cnv_to_model = '15q11.2del'\n",
    "#cnv_to_model = '15q11.2dup'\n",
    "#cnv_to_model = '16p11.2del'\n",
    "#cnv_to_model = '16p11.2dup'\n",
    "#cnv_to_model = '16p13.11del'\n",
    "#cnv_to_model = '16p13.11dup'"
   ]
  },
  {
   "cell_type": "code",
   "execution_count": 6,
   "id": "3cdfdb8a-0a20-498f-bbd9-70ba00061202",
   "metadata": {
    "ExecuteTime": {
     "end_time": "2024-07-30T11:26:45.817153Z",
     "start_time": "2024-07-30T11:26:45.573288Z"
    }
   },
   "outputs": [],
   "source": [
    "# Drop non-unique rows based on index for UKB_cnv\n",
    "duplicated_index = UKB_cnv.index.duplicated()\n",
    "df = UKB_cnv['Pathogenic_CNV']\n",
    "UKB_cnv_unique = df.groupby(df.index).apply(lambda x: ','.join(x))"
   ]
  },
  {
   "cell_type": "code",
   "execution_count": 7,
   "id": "936640fe-e028-447f-8332-85860ed2857a",
   "metadata": {
    "ExecuteTime": {
     "end_time": "2024-07-30T11:26:45.876443Z",
     "start_time": "2024-07-30T11:26:45.821818Z"
    }
   },
   "outputs": [],
   "source": [
    "# Find the intersection of indices between UKB_cnv_unique and UKB_genetics\n",
    "idx_cnv = np.intersect1d(UKB_cnv_unique.index, UKB_genetics.index)\n",
    "# Select the common indices from UKB_cnv_unique and UKB_genetics and concatenate them horizontally\n",
    "concatenated_CNV_data = pd.concat([UKB_cnv_unique.loc[idx_cnv], UKB_genetics.loc[idx_cnv]], axis=1)"
   ]
  },
  {
   "cell_type": "code",
   "execution_count": 8,
   "id": "afb511e0",
   "metadata": {
    "ExecuteTime": {
     "end_time": "2024-07-30T11:26:59.783431Z",
     "start_time": "2024-07-30T11:26:45.882265Z"
    }
   },
   "outputs": [
    {
     "name": "stdout",
     "output_type": "stream",
     "text": [
      "Number participants and voxels test-set: (9992, 228453)\n"
     ]
    }
   ],
   "source": [
    "Z_df = pd.read_pickle('/project_cephfs/3022017.06/projects/wholebrain_blr/lifespan/aff+nonlin_jac_char/vox_powell_01/Z_estimate.pkl')\n",
    "print(f'Number participants and voxels test-set: {np.shape(Z_df)}')"
   ]
  },
  {
   "cell_type": "code",
   "execution_count": 9,
   "id": "1636ef56",
   "metadata": {
    "ExecuteTime": {
     "end_time": "2024-07-30T11:26:59.866411Z",
     "start_time": "2024-07-30T11:26:59.790603Z"
    }
   },
   "outputs": [],
   "source": [
    "root_dir = '/project_cephfs/3022017.06/projects/wholebrain_blr/lifespan/'\n",
    "proc_dir = os.path.join(root_dir,'aff+nonlin_jac_char')\n",
    "df_tr = pd.read_csv(os.path.join(proc_dir,'dem_tr_01.csv'))\n",
    "df_te = pd.read_csv(os.path.join(proc_dir,'dem_te_01.csv'))"
   ]
  },
  {
   "cell_type": "code",
   "execution_count": 10,
   "id": "0002435e",
   "metadata": {
    "ExecuteTime": {
     "end_time": "2024-07-30T11:26:59.883789Z",
     "start_time": "2024-07-30T11:26:59.869985Z"
    },
    "run_control": {
     "marked": true
    }
   },
   "outputs": [],
   "source": [
    "if plot:\n",
    "    df = pd.concat([df_tr, df_te])\n",
    "    dfs = [rows for _, rows in df.groupby('sex')]\n",
    "    dfs[0].rename(columns={'age': 'female'}, inplace=True)\n",
    "    dfs[1].rename(columns={'age': 'male'}, inplace=True)\n",
    "    df2 = pd.concat([dfs[0], dfs[1]])\n",
    "    site_counts = df2['site'].value_counts()  \n",
    "    plt.figure(figsize=(40,10), dpi=300)\n",
    "    fig, axes = joypy.joyplot(df2, column=['female', 'male'], by=\"site\", ylim='own', figsize=(12, 8), legend=True,\n",
    "                              color=['#f35b6a', '#39c0ba'], alpha=0.5)\n",
    "    plt.title('Full sample age distribution', fontweight='bold', fontsize=20)\n",
    "    plt.xlabel('Age', color='black', fontsize=20)\n",
    "    plt.ylabel('Site ({} subjects)'.format(len(df2)), color='black', fontsize=20)\n",
    "    plt.xticks(fontsize=20)  # Set x-ticks font size\n",
    "    plt.yticks(fontsize=20)  # Set y-ticks font size\n",
    "    plt.legend(fontsize=20)\n",
    "    #plt.savefig('/home/preclineu/chafra/Desktop/figures/UKB/'+'full_voxel_sample_dist'+'.png',dpi=300,bbox_inches='tight')"
   ]
  },
  {
   "cell_type": "code",
   "execution_count": 11,
   "id": "88937dc3",
   "metadata": {
    "ExecuteTime": {
     "end_time": "2024-07-30T11:26:59.893964Z",
     "start_time": "2024-07-30T11:26:59.885745Z"
    }
   },
   "outputs": [],
   "source": [
    "Z_df.set_index(df_te['sub_id'], inplace=True)"
   ]
  },
  {
   "cell_type": "markdown",
   "id": "b0cc9eb7",
   "metadata": {},
   "source": [
    "Match the indexes from the CNVs to the imaging indexes, as UKB changes the indexes per dataset."
   ]
  },
  {
   "cell_type": "code",
   "execution_count": 12,
   "id": "eecda95b",
   "metadata": {
    "ExecuteTime": {
     "end_time": "2024-07-30T11:29:20.118477Z",
     "start_time": "2024-07-30T11:26:59.897375Z"
    }
   },
   "outputs": [
    {
     "name": "stdout",
     "output_type": "stream",
     "text": [
      "Max explained variance: 0    0.523905\n",
      "dtype: float64\n"
     ]
    }
   ],
   "source": [
    "EXPV = pd.read_pickle(proc_dir + '/vox_powell_01/EXPV_estimate.pkl') \n",
    "MSLL = pd.read_pickle(proc_dir + '/vox_powell_01/MSLL_estimate.pkl') \n",
    "BIC = pd.read_pickle(proc_dir + '/vox_powell_01/BIC_estimate.pkl') \n",
    "NLL = pd.read_pickle(proc_dir + '/vox_powell_01/NLL_estimate.pkl') \n",
    "skew = pd.DataFrame(Z_df.skew(axis=0))\n",
    "kurtosis = pd.DataFrame(Z_df.kurtosis(axis=0))\n",
    "print(f'Max explained variance: {EXPV.max()}')"
   ]
  },
  {
   "cell_type": "code",
   "execution_count": 13,
   "id": "5d8034d9",
   "metadata": {
    "ExecuteTime": {
     "end_time": "2024-07-30T11:29:20.142816Z",
     "start_time": "2024-07-30T11:29:20.123180Z"
    }
   },
   "outputs": [
    {
     "name": "stdout",
     "output_type": "stream",
     "text": [
      "Total number of voxels:0    227083\n",
      "dtype: int64\n",
      "Number of voxels removed: 0    1370\n",
      "dtype: int64\n"
     ]
    }
   ],
   "source": [
    "# Remove voxels if they have really large outlier values, showing a bad fit\n",
    "index1 = skew>-5\n",
    "index2 = kurtosis<10\n",
    "index = np.logical_and(index1,index2)\n",
    "print(f'Total number of voxels:{np.sum(index)}')\n",
    "print(f'Number of voxels removed: {np.sum(~index)}')"
   ]
  },
  {
   "cell_type": "code",
   "execution_count": 14,
   "id": "dae657f4",
   "metadata": {
    "ExecuteTime": {
     "end_time": "2024-07-30T11:29:22.435636Z",
     "start_time": "2024-07-30T11:29:20.147738Z"
    }
   },
   "outputs": [],
   "source": [
    "combined_df = pd.concat([EXPV, MSLL, skew, kurtosis], axis=1)\n",
    "combined_df.to_csv('/home/preclineu/chafra/Desktop/data/NMH/sourcedatafig3.txt', sep='\\t', index=False, header=True)"
   ]
  },
  {
   "cell_type": "code",
   "execution_count": 15,
   "id": "c7b3ae85",
   "metadata": {
    "ExecuteTime": {
     "end_time": "2024-07-30T11:29:22.448239Z",
     "start_time": "2024-07-30T11:29:22.436976Z"
    }
   },
   "outputs": [],
   "source": [
    "if plot:\n",
    "    font_size = 30\n",
    "    fig, my_grid = plt.subplots(nrows=1, ncols=4, figsize=(30,10), sharey=True)\n",
    "    \n",
    "    # Plot 1\n",
    "    g1 = sns.histplot(EXPV[index], x=0, bins = 100, multiple=\"stack\", kde=True, ax=my_grid[0], color = '#666666') \n",
    "    g1.set_title('Explained Variance', fontweight=\"bold\", fontsize=font_size)\n",
    "    g1.set_xlabel('$R^2$', fontsize=font_size)\n",
    "    # Plot 2\n",
    "    g2 = sns.histplot(MSLL[index], x=0, bins = 100,  multiple=\"stack\", kde=True, ax=my_grid[1], color = '#666666') \n",
    "    g2.set_title('Mean standardized log-loss', fontweight=\"bold\", fontsize=font_size)\n",
    "    g2.set_xlabel('MSLL', fontsize=font_size)\n",
    "    # Plot 4\n",
    "    g4 = sns.histplot(skew[index], x=0, bins = 100,  multiple=\"stack\", kde=True, ax=my_grid[3], color = '#666666') \n",
    "    g4.set_title('Skewness', fontweight=\"bold\", fontsize=font_size)\n",
    "    g4.set_xlabel('Skewness', fontsize=font_size)\n",
    "    # Plot 5\n",
    "    g5 = sns.histplot(kurtosis[index], x=0, bins = 100,  multiple=\"stack\", kde=True, ax=my_grid[2], color = '#666666')  \n",
    "    g5.set_title('Kurtosis', fontweight=\"bold\", fontsize=font_size)\n",
    "    g5.set_xlabel('Kurtosis', fontsize=font_size)\n",
    "\n",
    "    # Setting the y-label and tick font size for all plots\n",
    "    for ax in my_grid:\n",
    "        ax.set_ylabel('Frequency', fontsize=font_size)\n",
    "        ax.tick_params(axis='both', which='major', labelsize=font_size)\n",
    "\n",
    "    #fig.savefig(save_path+'hist_res.png', dpi=300, bbox_inches = 'tight')"
   ]
  },
  {
   "cell_type": "markdown",
   "id": "45caba53",
   "metadata": {},
   "source": [
    "## Filter CNV file\n",
    "We filter the CNVs based on criteria esablished in the paper: 'Cognitive Performance Among Carriers of Pathogenic Copy Number Variants: Analysis of 152,000 UK Biobank Subjects'."
   ]
  },
  {
   "cell_type": "code",
   "execution_count": 16,
   "id": "7d3a9f55",
   "metadata": {
    "ExecuteTime": {
     "end_time": "2024-07-30T11:29:22.662663Z",
     "start_time": "2024-07-30T11:29:22.452829Z"
    }
   },
   "outputs": [],
   "source": [
    "UKB_genetics['NumCNV_in_this_person'] = pd.to_numeric(UKB_genetics['NumCNV_in_this_person'], errors='coerce')\n",
    "if plot:\n",
    "    sns.histplot(data=UKB_genetics[UKB_genetics[\"NumCNV_in_this_person\"]<120], x=\"NumCNV_in_this_person\", bins = 40, multiple=\"stack\", kde=False, palette = ['#f35b6a', '#39c0ba', '#666666'], hue = 'computed_gender') \n",
    "    plt.title('Number of CNVs per person', fontweight = \"bold\")\n",
    "    plt.xlabel('Number of CNVs per person')\n",
    "    #plt.savefig(save_path+'hist_cnv.png',dpi=300, bbox_inches = 'tight')"
   ]
  },
  {
   "cell_type": "code",
   "execution_count": 17,
   "id": "a01d0018",
   "metadata": {
    "ExecuteTime": {
     "end_time": "2024-07-30T11:29:23.139266Z",
     "start_time": "2024-07-30T11:29:22.667283Z"
    }
   },
   "outputs": [],
   "source": [
    "UKB_genetics = UKB_genetics.dropna()\n",
    "UKB_genetics['call_rate'] = UKB_genetics['call_rate'].astype(float)\n",
    "UKB_genetics['WavinessFactor'] = UKB_genetics['WavinessFactor'].astype(float)\n",
    "UKB_genetics['LRR_SD'] = UKB_genetics['LRR_SD'].astype('float')\n",
    "if plot:\n",
    "    plt.figure()\n",
    "    sns.histplot(data=UKB_genetics, x=\"call_rate\", bins = 40, multiple=\"stack\", kde=False)\n",
    "    plt.xlabel('genotype call rate (%)')\n",
    "    plt.title('Genotype call rate', fontweight='bold')\n",
    "    #plt.savefig(save_path+'call_rate.png',dpi=300, bbox_inches = 'tight')\n",
    "    \n",
    "    plt.figure()\n",
    "    sns.histplot(data=UKB_genetics, x=\"WavinessFactor\", bins = 50, multiple=\"stack\", kde=False)\n",
    "    plt.xlabel('Waviness factor')\n",
    "    plt.title('Waviness factor', fontweight='bold')\n",
    "    #plt.savefig(save_path+'wavinessfactor.png',dpi=300, bbox_inches = 'tight')\n",
    "    \n",
    "    plt.figure()\n",
    "    sns.histplot(data=UKB_genetics, x=\"LRR_SD\", bins = 50, multiple=\"stack\", kde=False)\n",
    "    plt.xlabel('LRR SD')\n",
    "    plt.title('LRR SD', fontweight='bold')\n",
    "    #plt.savefig(save_path+'LRR_sd.png',dpi=300, bbox_inches = 'tight')"
   ]
  },
  {
   "cell_type": "code",
   "execution_count": 18,
   "id": "75adc267",
   "metadata": {
    "ExecuteTime": {
     "end_time": "2024-07-30T11:29:23.179536Z",
     "start_time": "2024-07-30T11:29:23.143982Z"
    }
   },
   "outputs": [],
   "source": [
    "# Define the filtering criteria\n",
    "cnv_threshold = 30\n",
    "call_rate_threshold = 0.96\n",
    "waviness_factor_threshold = 0.03\n",
    "\n",
    "UKB_genetics_filtered = UKB_genetics[(UKB_genetics['NumCNV_in_this_person'] <= cnv_threshold) &\n",
    "(UKB_genetics['call_rate'] >= call_rate_threshold) &\n",
    "(UKB_genetics['WavinessFactor'].between(-waviness_factor_threshold, waviness_factor_threshold))]"
   ]
  },
  {
   "cell_type": "markdown",
   "id": "96e5bb27",
   "metadata": {},
   "source": [
    "No subjects were removed in the UKB_cnv file using the filtering method for the entire genetics sample"
   ]
  },
  {
   "cell_type": "markdown",
   "id": "cd1aaf0c",
   "metadata": {},
   "source": [
    "## Change index\n",
    "Within the UKB you will get multiple keys per dataset so we have to match these."
   ]
  },
  {
   "cell_type": "code",
   "execution_count": 19,
   "id": "6d99fd3a",
   "metadata": {
    "ExecuteTime": {
     "end_time": "2024-07-30T11:29:23.500783Z",
     "start_time": "2024-07-30T11:29:23.180894Z"
    }
   },
   "outputs": [
    {
     "name": "stdout",
     "output_type": "stream",
     "text": [
      "Number of CNVs present in UKB: 70\n"
     ]
    }
   ],
   "source": [
    "key2 = pd.read_csv('/project_freenas/3022017.02/UKB/docs/ukb23668bridge14421.txt', sep=' ', header=None, index_col = 1)\n",
    "key2\n",
    "UKB_cnv['sub_index2']= key2.loc[list(UKB_cnv.index)]\n",
    "UKB_cnv = UKB_cnv.set_index('sub_index2')\n",
    "print(f\"Number of CNVs present in UKB: {len(UKB_cnv['Pathogenic_CNV'].unique())}\")"
   ]
  },
  {
   "cell_type": "code",
   "execution_count": 20,
   "id": "323672c2-dc21-415c-9845-44673c9c6d68",
   "metadata": {
    "ExecuteTime": {
     "end_time": "2024-07-30T11:29:23.509236Z",
     "start_time": "2024-07-30T11:29:23.505006Z"
    }
   },
   "outputs": [],
   "source": [
    "if plot:\n",
    "    plt.figure(figsize=(10,15))\n",
    "    sns.histplot(data=concatenated_CNV_data, x=\"NumCNV_in_this_person\", bins = 20, multiple=\"stack\", kde=False, palette = ['#f35b6a', '#39c0ba', '#666666'], hue = 'computed_gender') \n",
    "    plt.title('Number of CNVs per person', fontweight = \"bold\")\n",
    "    plt.xlabel('Number of CNVs per person')\n",
    "    #plt.savefig(save_path+'number_cnv.png',dpi=300, bbox_inches = 'tight')"
   ]
  },
  {
   "cell_type": "code",
   "execution_count": 21,
   "id": "0fdcb126",
   "metadata": {
    "ExecuteTime": {
     "end_time": "2024-07-30T11:29:23.529381Z",
     "start_time": "2024-07-30T11:29:23.513871Z"
    }
   },
   "outputs": [],
   "source": [
    "if plot:\n",
    "    plt.figure(figsize=(10,25))\n",
    "    concatenated_CNV_data['Pathogenic_CNV'].value_counts().plot(kind='barh', color=colors[2])\n",
    "    plt.title('Number participants with specific CNV', fontweight = \"bold\")\n",
    "    plt.xlabel('Number participants with specific CNV')\n",
    "    #plt.savefig(save_path+'barh_cnv_all.png',dpi=300, bbox_inches = 'tight')"
   ]
  },
  {
   "cell_type": "code",
   "execution_count": 22,
   "id": "f7183f28-dc9b-4fb5-b6d7-fe1f9c26368c",
   "metadata": {
    "ExecuteTime": {
     "end_time": "2024-07-30T11:29:23.545116Z",
     "start_time": "2024-07-30T11:29:23.530901Z"
    }
   },
   "outputs": [],
   "source": [
    "if plot:\n",
    "    plt.figure(figsize=(12, 30))\n",
    "    value_counts = concatenated_CNV_data['Pathogenic_CNV'].value_counts()\n",
    "    # Filter the value counts to keep only those with more than 1 count\n",
    "    value_counts_filtered = value_counts[value_counts > 2]\n",
    "    value_counts_filtered.plot(kind='barh', color=colors[2])\n",
    "    plt.title('Number of participants with specific CNV', fontsize=20, fontweight=\"bold\")\n",
    "    plt.xlabel('Number of participants with specific CNV', fontsize=20)\n",
    "    plt.ylabel('CNV Type', fontsize=20)  \n",
    "    plt.xticks(fontsize=20) \n",
    "    plt.yticks(fontsize=20) \n",
    "    #plt.savefig(save_path + 'barh_cnv.png', dpi=300, bbox_inches='tight')\n",
    "    plt.show()"
   ]
  },
  {
   "cell_type": "markdown",
   "id": "4273605c",
   "metadata": {},
   "source": [
    "### Pick CNV"
   ]
  },
  {
   "cell_type": "code",
   "execution_count": 23,
   "id": "726ac9b7",
   "metadata": {
    "ExecuteTime": {
     "end_time": "2024-07-30T11:29:23.562814Z",
     "start_time": "2024-07-30T11:29:23.549040Z"
    }
   },
   "outputs": [],
   "source": [
    "Pathogenic_CNV = list(UKB_cnv['Pathogenic_CNV'].unique())"
   ]
  },
  {
   "cell_type": "code",
   "execution_count": 24,
   "id": "484860eb",
   "metadata": {
    "ExecuteTime": {
     "end_time": "2024-07-30T11:29:23.620200Z",
     "start_time": "2024-07-30T11:29:23.565002Z"
    },
    "run_control": {
     "marked": true
    },
    "tags": []
   },
   "outputs": [],
   "source": [
    "if plot:\n",
    "    plt.figure()\n",
    "    sns.pairplot(Z_df.iloc[:,80:90], palette = ['#f35b6a', '#39c0ba', '#666666'])\n",
    "    #plt.savefig(save_path+'pairplot.png',dpi=300)"
   ]
  },
  {
   "cell_type": "markdown",
   "id": "4b7ec9d7",
   "metadata": {},
   "source": [
    "Check specific participants with a lot of outliers"
   ]
  },
  {
   "cell_type": "code",
   "execution_count": 25,
   "id": "8c3226c4",
   "metadata": {
    "ExecuteTime": {
     "end_time": "2024-07-30T11:30:42.904491Z",
     "start_time": "2024-07-30T11:29:23.621586Z"
    }
   },
   "outputs": [],
   "source": [
    "deviation_counts = pd.DataFrame(index = Z_df.index)\n",
    "deviation_counts['positive_count'] = Z_df[Z_df>=2].count(axis=1)\n",
    "deviation_counts['negative_count'] = Z_df[Z_df<-2].count(axis=1)\n",
    "#deviation_counts.index = Z_df.index"
   ]
  },
  {
   "cell_type": "code",
   "execution_count": 26,
   "id": "8327acf5",
   "metadata": {
    "ExecuteTime": {
     "end_time": "2024-07-30T11:30:42.922386Z",
     "start_time": "2024-07-30T11:30:42.918550Z"
    }
   },
   "outputs": [],
   "source": [
    "#Z_df = Z_df[(np.sum(Z_df>7, axis=1)/624*100)<0.5]"
   ]
  },
  {
   "cell_type": "code",
   "execution_count": 27,
   "id": "3c21941d",
   "metadata": {
    "ExecuteTime": {
     "end_time": "2024-07-30T11:30:42.935754Z",
     "start_time": "2024-07-30T11:30:42.926667Z"
    }
   },
   "outputs": [],
   "source": [
    "#UKB_cnv = UKB_cnv[~UKB_cnv.index.duplicated()]"
   ]
  },
  {
   "cell_type": "code",
   "execution_count": 28,
   "id": "3bb1549a",
   "metadata": {
    "ExecuteTime": {
     "end_time": "2024-07-30T11:30:43.000467Z",
     "start_time": "2024-07-30T11:30:42.937385Z"
    }
   },
   "outputs": [],
   "source": [
    "idx = np.intersect1d(deviation_counts.index, UKB_cnv.index.astype(str))\n",
    "devation_cnv = deviation_counts.loc[idx]"
   ]
  },
  {
   "cell_type": "code",
   "execution_count": 29,
   "id": "8e2489a9",
   "metadata": {
    "ExecuteTime": {
     "end_time": "2024-07-30T11:30:43.010129Z",
     "start_time": "2024-07-30T11:30:43.005233Z"
    }
   },
   "outputs": [
    {
     "name": "stdout",
     "output_type": "stream",
     "text": [
      "Number subjects with both voxel and CNV data: 375\n"
     ]
    }
   ],
   "source": [
    "print(f'Number subjects with both voxel and CNV data: {len(devation_cnv)}')"
   ]
  },
  {
   "cell_type": "markdown",
   "id": "607da63f",
   "metadata": {},
   "source": [
    "# Demographics CNV participants"
   ]
  },
  {
   "cell_type": "code",
   "execution_count": 30,
   "id": "33a8c766",
   "metadata": {
    "ExecuteTime": {
     "end_time": "2024-07-30T11:30:43.033510Z",
     "start_time": "2024-07-30T11:30:43.014798Z"
    }
   },
   "outputs": [],
   "source": [
    "df_all = pd.concat([df_tr,df_te])\n",
    "df_all = pd.concat([df_tr,df_te])\n",
    "df_all.set_index('sub_id', inplace=True)"
   ]
  },
  {
   "cell_type": "markdown",
   "id": "855cc992",
   "metadata": {},
   "source": [
    "camcan ethnicity"
   ]
  },
  {
   "cell_type": "code",
   "execution_count": 31,
   "id": "aa5cbb6d",
   "metadata": {
    "ExecuteTime": {
     "end_time": "2024-07-30T11:30:43.067190Z",
     "start_time": "2024-07-30T11:30:43.038712Z"
    }
   },
   "outputs": [],
   "source": [
    "index_camcan = df_all.loc[df_all['site'] == 'cam'].index.str.replace('sub-', '')\n",
    "ethnicity_camcan = pd.read_csv('/home/preclineu/chafra/Desktop/data/approved_data.tsv', sep='\\t', index_col='CCID')\n",
    "ethnicity_camcan_filtered = ethnicity_camcan.loc[index_camcan]"
   ]
  },
  {
   "cell_type": "code",
   "execution_count": 32,
   "id": "17b7e5ae",
   "metadata": {
    "ExecuteTime": {
     "end_time": "2024-07-30T11:30:43.080460Z",
     "start_time": "2024-07-30T11:30:43.072264Z"
    }
   },
   "outputs": [
    {
     "name": "stdout",
     "output_type": "stream",
     "text": [
      "1.0    95.884146\n",
      "2.0     1.371951\n",
      "3.0     1.371951\n",
      "6.0     0.762195\n",
      "4.0     0.304878\n",
      "5.0     0.152439\n",
      "Name: homeint_v24, dtype: float64\n"
     ]
    }
   ],
   "source": [
    "# Calculate the count of each unique value\n",
    "value_counts = ethnicity_camcan_filtered['homeint_v24'].value_counts()\n",
    "\n",
    "# Calculate the percentage of each unique value\n",
    "value_percentages = value_counts / len(ethnicity_camcan_filtered) * 100\n",
    "\n",
    "# Print the results\n",
    "print(value_percentages)"
   ]
  },
  {
   "cell_type": "code",
   "execution_count": 33,
   "id": "3eb812a3",
   "metadata": {
    "ExecuteTime": {
     "end_time": "2024-07-30T11:30:43.107751Z",
     "start_time": "2024-07-30T11:30:43.085775Z"
    }
   },
   "outputs": [
    {
     "data": {
      "text/plain": [
       "Index(['4855285', '5514182', '4721260', '1714485', '3308070', '1857217',\n",
       "       '5253189', '3185443', '4066754', '4132323',\n",
       "       ...\n",
       "       '5884513', '5909370', '5912907', '5932564', '5947353', '5978038',\n",
       "       '5984314', '6001645', '6003965', '6018262'],\n",
       "      dtype='object', name='sub_id', length=14412)"
      ]
     },
     "execution_count": 33,
     "metadata": {},
     "output_type": "execute_result"
    }
   ],
   "source": [
    "df_all = df_all[df_all['site'].isin(['ukb-11025.0', 'ukb-11026.0', 'ukb-11027.0'])]\n",
    "df_all.index"
   ]
  },
  {
   "cell_type": "code",
   "execution_count": 34,
   "id": "30152ccb",
   "metadata": {
    "ExecuteTime": {
     "end_time": "2024-07-30T11:30:51.103929Z",
     "start_time": "2024-07-30T11:30:43.112536Z"
    }
   },
   "outputs": [
    {
     "name": "stdout",
     "output_type": "stream",
     "text": [
      "1        97.051069\n",
      "2         0.423258\n",
      "3         0.950597\n",
      "4         0.520400\n",
      "5         0.319178\n",
      "other     0.430197\n",
      "dtype: float64\n",
      "62.50464890369137\n",
      "7.478503825360091\n",
      "44.0\n",
      "80.0\n",
      "47.43963363863447\n",
      "52.56036636136553\n"
     ]
    }
   ],
   "source": [
    "ethnicity = pd.read_csv(\n",
    "    '/project_freenas/3022017.02/UKB/phenotypes/current/02_genetics.csv',\n",
    "    usecols=['eid', '21000-0.0']).set_index('eid')\n",
    "common_index = df_all.index.astype('int64').intersection(ethnicity.index)\n",
    "ethnicity = ethnicity.loc[common_index]\n",
    "ethnicity_counts = ethnicity['21000-0.0'].value_counts()\n",
    "counts = {'1': 0, '2': 0, '3': 0, '4': 0, '5':0, 'other':0}\n",
    "\n",
    "# Iterate over index and count values, and add counts if the value starts with 1, 2, 3, 4, 5, or 6\n",
    "for index, count in ethnicity_counts.items():\n",
    "    first_digit = str(index)[0]\n",
    "    if first_digit in counts:\n",
    "        counts[first_digit] += count\n",
    "    elif first_digit == '6'or first_digit == '-1' or first_digit == '-3':\n",
    "        counts['other']+=count\n",
    "\n",
    "ethnicity_counts = pd.Series(counts)\n",
    "print(ethnicity_counts/np.shape(ethnicity)[0]*100)\n",
    "\n",
    "demographics = pd.read_csv(\n",
    "    '/project_freenas/3022017.02/UKB/phenotypes/current/99_miscellaneous.csv',\n",
    "    usecols=['eid', '54-2.0', '21003-2.0'])\n",
    "demographics['31-0.0'] = pd.read_csv(\n",
    "    '/project_freenas/3022017.02/UKB/phenotypes/funpack_nov_2021_ukb49421/01_basic_demographics.csv',\n",
    "    usecols=['31-0.0'])\n",
    "demographics = demographics[['eid', '31-0.0', '54-2.0', '21003-2.0']]\n",
    "demographics = demographics.set_index('eid')\n",
    "demographics = demographics.loc[common_index]\n",
    "\n",
    "print(demographics['21003-2.0'].mean())\n",
    "print(demographics['21003-2.0'].std())\n",
    "print(demographics['21003-2.0'].min())\n",
    "print(demographics['21003-2.0'].max())\n",
    "print(100*np.sum(demographics['31-0.0'])/np.shape(demographics)[0])\n",
    "print(100-100*np.sum(demographics['31-0.0'])/np.shape(demographics)[0])"
   ]
  },
  {
   "cell_type": "code",
   "execution_count": 35,
   "id": "52db8edd",
   "metadata": {
    "ExecuteTime": {
     "end_time": "2024-07-30T11:30:55.819343Z",
     "start_time": "2024-07-30T11:30:51.105238Z"
    }
   },
   "outputs": [
    {
     "name": "stdout",
     "output_type": "stream",
     "text": [
      "1        96.266667\n",
      "2         1.066667\n",
      "3         1.600000\n",
      "4         0.000000\n",
      "5         0.533333\n",
      "other     0.266667\n",
      "dtype: float64\n",
      "63.584\n",
      "7.482082697840636\n",
      "46.0\n",
      "80.0\n",
      "44.53333333333333\n",
      "55.46666666666667\n"
     ]
    }
   ],
   "source": [
    "common_index = devation_cnv.index.astype(int).intersection(ethnicity.index)\n",
    "ethnicity = ethnicity.loc[common_index]\n",
    "ethnicity_counts = ethnicity['21000-0.0'].value_counts()\n",
    "counts = {'1': 0, '2': 0, '3': 0, '4': 0, '5':0, 'other':0}\n",
    "\n",
    "# Iterate over index and count values, and add counts if the value starts with 1, 2, 3, 4, 5, or 6\n",
    "for index, count in ethnicity_counts.items():\n",
    "    first_digit = str(index)[0]\n",
    "    if first_digit in counts:\n",
    "        counts[first_digit] += count\n",
    "    elif first_digit == '6'or first_digit == '-1' or first_digit == '-3':\n",
    "        counts['other']+=count\n",
    "\n",
    "ethnicity_counts = pd.Series(counts)\n",
    "print(ethnicity_counts/np.shape(ethnicity)[0]*100)\n",
    "\n",
    "demographics = pd.read_csv(\n",
    "    '/project_freenas/3022017.02/UKB/phenotypes/current/99_miscellaneous.csv',\n",
    "    usecols=['eid', '54-2.0', '21003-2.0'])\n",
    "demographics['31-0.0'] = pd.read_csv(\n",
    "    '/project_freenas/3022017.02/UKB/phenotypes/funpack_nov_2021_ukb49421/01_basic_demographics.csv',\n",
    "    usecols=['31-0.0'])\n",
    "demographics = demographics[['eid', '31-0.0', '54-2.0', '21003-2.0']]\n",
    "demographics = demographics.set_index('eid')\n",
    "demographics = demographics.loc[common_index]\n",
    "\n",
    "print(demographics['21003-2.0'].mean())\n",
    "print(demographics['21003-2.0'].std())\n",
    "print(demographics['21003-2.0'].min())\n",
    "print(demographics['21003-2.0'].max())\n",
    "print(100*np.sum(demographics['31-0.0'])/np.shape(demographics)[0])\n",
    "print(100-100*np.sum(demographics['31-0.0'])/np.shape(demographics)[0])"
   ]
  },
  {
   "cell_type": "code",
   "execution_count": 36,
   "id": "0f0a4865",
   "metadata": {
    "ExecuteTime": {
     "end_time": "2024-07-30T11:31:03.413428Z",
     "start_time": "2024-07-30T11:30:55.824053Z"
    }
   },
   "outputs": [
    {
     "name": "stdout",
     "output_type": "stream",
     "text": [
      "1        96.266667\n",
      "2         1.066667\n",
      "3         1.600000\n",
      "4         0.000000\n",
      "5         0.533333\n",
      "other     0.266667\n",
      "dtype: float64\n",
      "63.584\n",
      "7.482082697840636\n",
      "46.0\n",
      "80.0\n",
      "44.53333333333333\n",
      "55.46666666666667\n"
     ]
    }
   ],
   "source": [
    "ethnicity = pd.read_csv(\n",
    "    '/project_freenas/3022017.02/UKB/phenotypes/current/02_genetics.csv',\n",
    "    usecols=['eid', '21000-0.0']).set_index('eid')\n",
    "common_index = devation_cnv.index.astype(int).intersection(ethnicity.index)\n",
    "ethnicity = ethnicity.loc[common_index]\n",
    "ethnicity_counts = ethnicity['21000-0.0'].value_counts()\n",
    "counts = {'1': 0, '2': 0, '3': 0, '4': 0, '5':0, 'other':0}\n",
    "\n",
    "# Iterate over index and count values, and add counts if the value starts with 1, 2, 3, 4, 5, or 6\n",
    "for index, count in ethnicity_counts.items():\n",
    "    first_digit = str(index)[0]\n",
    "    if first_digit in counts:\n",
    "        counts[first_digit] += count\n",
    "    elif first_digit == '6'or first_digit == '-1' or first_digit == '-3':\n",
    "        counts['other']+=count\n",
    "\n",
    "ethnicity_counts = pd.Series(counts)\n",
    "print(ethnicity_counts/np.shape(ethnicity)[0]*100)\n",
    "\n",
    "demographics = pd.read_csv(\n",
    "    '/project_freenas/3022017.02/UKB/phenotypes/current/99_miscellaneous.csv',\n",
    "    usecols=['eid', '54-2.0', '21003-2.0'])\n",
    "demographics['31-0.0'] = pd.read_csv(\n",
    "    '/project_freenas/3022017.02/UKB/phenotypes/funpack_nov_2021_ukb49421/01_basic_demographics.csv',\n",
    "    usecols=['31-0.0'])\n",
    "demographics = demographics[['eid', '31-0.0', '54-2.0', '21003-2.0']]\n",
    "demographics = demographics.set_index('eid')\n",
    "demographics = demographics.loc[common_index]\n",
    "\n",
    "print(demographics['21003-2.0'].mean())\n",
    "print(demographics['21003-2.0'].std())\n",
    "print(demographics['21003-2.0'].min())\n",
    "print(demographics['21003-2.0'].max())\n",
    "print(100*np.sum(demographics['31-0.0'])/np.shape(demographics)[0])\n",
    "print(100-100*np.sum(demographics['31-0.0'])/np.shape(demographics)[0])"
   ]
  },
  {
   "cell_type": "code",
   "execution_count": 37,
   "id": "d2f80ddd",
   "metadata": {
    "ExecuteTime": {
     "end_time": "2024-07-30T11:31:03.427442Z",
     "start_time": "2024-07-30T11:31:03.418319Z"
    }
   },
   "outputs": [],
   "source": [
    "UKB_cnv.index = UKB_cnv.index.astype(str)"
   ]
  },
  {
   "cell_type": "code",
   "execution_count": 38,
   "id": "e093df70-c4f2-42b7-8e19-8bb8c7d70db5",
   "metadata": {
    "ExecuteTime": {
     "end_time": "2024-07-30T11:31:03.461739Z",
     "start_time": "2024-07-30T11:31:03.432076Z"
    }
   },
   "outputs": [],
   "source": [
    "df = UKB_cnv['Pathogenic_CNV'][idx]\n",
    "df_combined = df.groupby(df.index).apply(lambda x: ','.join(x))\n",
    "df_combined\n",
    "devation_cnv['Pathogenic_CNV'] = df_combined"
   ]
  },
  {
   "cell_type": "code",
   "execution_count": 39,
   "id": "ae8a17ac",
   "metadata": {
    "ExecuteTime": {
     "end_time": "2024-07-30T11:31:03.469682Z",
     "start_time": "2024-07-30T11:31:03.466727Z"
    }
   },
   "outputs": [],
   "source": [
    "#deviation_counts = deviation_counts.drop(set(list(deviation_counts.index)).intersection(list(index_key[0].values)))"
   ]
  },
  {
   "cell_type": "code",
   "execution_count": 40,
   "id": "d0dac13d-577b-484c-866b-2090a4f767f4",
   "metadata": {
    "ExecuteTime": {
     "end_time": "2024-07-30T11:31:03.503099Z",
     "start_time": "2024-07-30T11:31:03.475023Z"
    }
   },
   "outputs": [
    {
     "data": {
      "text/plain": [
       "array(['15q13.3dup(CHRNA7)', 'TAR_dup', '15q11.2del', '2q13del(NPHP1)',\n",
       "       '15q11.2del,16p13.11dup', '13q12del(CRYL1)', '2q13dup',\n",
       "       '13q12.12del', '13q12.12dup', '16p12.1dup', '16p13.11dup',\n",
       "       '17p12del(HNPP)', '2q13dup(NPHP1)',\n",
       "       '15q11q13del_BP3-BP4(APBA2,TJP)', '17p13.3(YWHAE)del',\n",
       "       '16p12.1del', '2q13dup(NPHP1),15q13.3dup(CHRNA7)', '15q11.2dup',\n",
       "       '15q13.3dup', '17p12dup(CMT1A)', '15q11.2dup,15q13.3dup(CHRNA7)',\n",
       "       '16p11.2del', '1q21.1del', '2q11.2del', '7q11.23dup_distal',\n",
       "       'WBS_dup', '16p11.2dup', '16p13.11del',\n",
       "       '15q11q13dup_BP3-BP4(APBA2,TJP)', 'NRXN1del', '1q21.1dup',\n",
       "       '8p23.1dup', '22q11.2dup', '2q11.2dup',\n",
       "       '2q13del(NPHP1),13q12.12dup', '15q11.2del,16p12.1dup', '3q29del'],\n",
       "      dtype=object)"
      ]
     },
     "execution_count": 40,
     "metadata": {},
     "output_type": "execute_result"
    }
   ],
   "source": [
    "deviation_counts['CNV'] = 0\n",
    "\n",
    "deviation_counts['CNV'][idx] = UKB_cnv.loc[idx][~UKB_cnv.loc[idx].index.duplicated()]['Pathogenic_CNV']\n",
    "#deviation_counts.loc[idx, 'CNV'] = 1\n",
    "\n",
    "devation_cnv['Pathogenic_CNV'].unique()"
   ]
  },
  {
   "cell_type": "code",
   "execution_count": 41,
   "id": "51a61099",
   "metadata": {
    "ExecuteTime": {
     "end_time": "2024-07-30T11:31:03.533411Z",
     "start_time": "2024-07-30T11:31:03.507854Z"
    }
   },
   "outputs": [
    {
     "data": {
      "text/html": [
       "<div>\n",
       "<style scoped>\n",
       "    .dataframe tbody tr th:only-of-type {\n",
       "        vertical-align: middle;\n",
       "    }\n",
       "\n",
       "    .dataframe tbody tr th {\n",
       "        vertical-align: top;\n",
       "    }\n",
       "\n",
       "    .dataframe thead th {\n",
       "        text-align: right;\n",
       "    }\n",
       "</style>\n",
       "<table border=\"1\" class=\"dataframe\">\n",
       "  <thead>\n",
       "    <tr style=\"text-align: right;\">\n",
       "      <th></th>\n",
       "      <th>positive_count</th>\n",
       "      <th>negative_count</th>\n",
       "      <th>Pathogenic_CNV</th>\n",
       "    </tr>\n",
       "    <tr>\n",
       "      <th>sub_id</th>\n",
       "      <th></th>\n",
       "      <th></th>\n",
       "      <th></th>\n",
       "    </tr>\n",
       "  </thead>\n",
       "  <tbody>\n",
       "    <tr>\n",
       "      <th>5280078</th>\n",
       "      <td>5048</td>\n",
       "      <td>884</td>\n",
       "      <td>3q29del</td>\n",
       "    </tr>\n",
       "  </tbody>\n",
       "</table>\n",
       "</div>"
      ],
      "text/plain": [
       "         positive_count  negative_count Pathogenic_CNV\n",
       "sub_id                                                \n",
       "5280078            5048             884        3q29del"
      ]
     },
     "execution_count": 41,
     "metadata": {},
     "output_type": "execute_result"
    }
   ],
   "source": [
    "devation_cnv[devation_cnv['Pathogenic_CNV'] == '3q29del']"
   ]
  },
  {
   "cell_type": "code",
   "execution_count": 42,
   "id": "e677b8eb",
   "metadata": {
    "ExecuteTime": {
     "end_time": "2024-07-30T11:31:03.543332Z",
     "start_time": "2024-07-30T11:31:03.538442Z"
    }
   },
   "outputs": [],
   "source": [
    "if plot:\n",
    "    plt.figure(figsize=(10, 15))\n",
    "    devation_cnv['Pathogenic_CNV'].value_counts().plot(kind='barh', color=colors[2])\n",
    "    plt.title('Number participants CNV and neuroimaging data', fontsize=20, fontweight=\"bold\")\n",
    "    plt.xlabel('Number participants with CNV', fontsize=20)\n",
    "    plt.ylabel('CNV Type', fontsize=20)\n",
    "    plt.xticks(fontsize=20) \n",
    "    plt.yticks(fontsize=20) \n",
    "    #plt.savefig('/home/preclineu/chafra/Desktop/figures/ukb_barh_cnv.png', dpi=300, bbox_inches='tight')\n",
    "    plt.show()"
   ]
  },
  {
   "cell_type": "markdown",
   "id": "5d891843",
   "metadata": {},
   "source": [
    "## Effect size CNV on cognition"
   ]
  },
  {
   "cell_type": "code",
   "execution_count": 43,
   "id": "fe16ca55-1fd6-401d-8739-ead9779fcc23",
   "metadata": {
    "ExecuteTime": {
     "end_time": "2024-07-30T11:31:03.585843Z",
     "start_time": "2024-07-30T11:31:03.544826Z"
    }
   },
   "outputs": [],
   "source": [
    "data = [\n",
    "    ['TAR del', 'chr1:145,39??145,81', 17, '75 (0.018)', 0, -0.11, 17],\n",
    "    ['TAR dup', 'chr1:145,39??145,81', 17, '436 (0.1)', 5, -0.12, 7],\n",
    "    ['1q21.1 del', 'chr1:146,53??147,39', 9, '112 (0.027)', 7, -0.27, 28],\n",
    "    ['1q21.1 dup', 'chr1:146,53??147,39', 9, '176 (0.042)', 5, -0.08, 14],\n",
    "    ['NRXN1 del', 'chr2:50,14??51,26', 1, '162 (0.039)', 4, -0.19, 13],\n",
    "    ['2q11.2 del', 'chr2:96,74??97,68', 22, '31 (0.007)', 1, -0.13, 13],\n",
    "    ['2q13 del (NPHP1)', 'chr2:110,86??110,98', 3, '2446 (0.58)', 0, -0.01, 4],\n",
    "    ['2q13 dup (NPHP1)', 'chr2:110,86??110,98', 3, '1972 (0.47)', 0, 0.01, 9],\n",
    "    ['2q13 del', 'chr2:111,39??112,01', 3, '53 (0.013)', 3, -0.16, 17],\n",
    "    ['2q13 dup', 'chr2:111,39??112,01', 3, '71 (0.017)', 0, -0.02, 6],\n",
    "    ['2q21.1 dup', 'chr2:131,48??131,93', 5, '59 (0.014)', 0, 0.07, 9],\n",
    "    ['10q11.21q11.23 del', 'chr10:49,39??51,06', 19, '57 (0.014)', 4, -0.18, 7],\n",
    "    ['10q11.21q11.23 dup', 'chr10:49,39??51,06', 19, '41 (0.01)', 0, 0.03, 11],\n",
    "    ['13q12 del (CRYL1)', 'chr13:20,98??21,10', 2, '379 (0.09)', 1, 0.01, 6],\n",
    "    ['13q12.12 del', 'chr13:23,56??24,88', 10, '84 (0.02)', 2, -0.16, 4],\n",
    "    ['13q12.12 dup', 'chr13:23,56??24,88', 10, '233 (0.055)', 0, -0.01, 3],\n",
    "    ['15q11.2 del', 'chr15:22,81??23,09', 5, '1661 (0.39)', 9, -0.15, 8],\n",
    "    ['15q11.2 dup', 'chr15:22,81??23,09', 5, '2039 (0.48)', 5, -0.03, 5],\n",
    "    ['15q11q13 dup breakpoints 3 and 4', 'chr15:29,16??30,38', 4, '53 (0.013)', 2, -0.18, 4],\n",
    "    ['15q13.3 dup', 'chr15:31,08??32,46', 8, '240 (0.057)', 6, -0.09, 8],\n",
    "    ['15q13.3 dup (CHRNA7)', 'chr15:32,02??32,46', 1, '3023 (0.72)', 1, 0.01, 5],\n",
    "    ['16p13.11 del', 'chr16:15,51??16,29', 7, '131 (0.031)', 6, -0.26, 17],\n",
    "    ['16p13.11 dup', 'chr16:15,51??16,29', 7, '825 (0.2)', 7, -0.06, 7],\n",
    "    ['16p12.1 del', 'chr16:21,95??22,43', 8, '245 (0.058)', 7, -0.10, 11],\n",
    "    ['16p12.1 dup', 'chr16:21,95??22,43', 8, '198 (0.047)', 0, -0.09, 3],\n",
    "    ['16p11.2 distal del', 'chr16:28,82??29,05', 11, '58 (0.014)', 7, -0.41, 23],\n",
    "    ['16p11.2 distal dup', 'chr16:28,82??29,05', 11, '136 (0.032)', 4, -0.20, 11],\n",
    "    ['16p11.2 del', 'chr16:29,65??30,20', 30, '104 (0.025)', 7, -0.34, 38],\n",
    "    ['16p11.2 dup', 'chr16:29,65??30,20', 30, '134 (0.032)', 8, -0.41, 29],\n",
    "    ['17p12 del (HNPP)', 'chr17:14,14??15,43', 8, '237 (0.056)', 0, 0.01, 5],\n",
    "    ['17p12 dup (CMT1A)', 'chr17:14,14??15,43', 8, '124 (0.030)', 2, -0.04, 9],\n",
    "    ['17q12 dup', 'chr17:34,81??36,22', 17, '100 (0.024)', 4, -0.18, 14],\n",
    "    ['22q11.2 dup', 'chr22:19,04??21,47', 61, '279 (0.066)', 11, -0.32, 14]\n",
    "]\n",
    "\n",
    "columns = ['CNV locus', 'Genomic location (Mb)', 'Number of genes in CNV', 'Number of CNV carriers (%)',\n",
    "           'Number of significant results', 'Average effect size', 'Penetrance (%)']\n",
    "\n",
    "df = pd.DataFrame(data, columns=columns)\n",
    "sorted_df = df.sort_values(by='Average effect size', ascending=True)\n",
    "sorted_df.set_index(sorted_df.columns[0], inplace=True)\n",
    "\n",
    "if plot:\n",
    "    plt.figure(figsize=(8, 20))\n",
    "    colors_2 = [colors[3] if value < 0 else colors[1] for value in sorted_df['Average effect size']]\n",
    "    sorted_df['Average effect size'].plot(kind='barh', color=colors_2)  # Using 'barh' for horizontal bar plot\n",
    "    plt.xlabel('Average effect size', fontsize=20)  # Swapped x and y axis labels\n",
    "    plt.ylabel('CNV locus', fontsize=20)  # Swapped x and y axis labels\n",
    "    plt.title('Bar Plot of Average Effect Size CNV on Cognition', fontweight='bold', fontsize=20)\n",
    "    plt.xticks(fontsize=20)\n",
    "    plt.yticks(fontsize=20)\n",
    "    #plt.savefig(save_path + 'cnv_on_cog.png', dpi=300, bbox_inches='tight')\n",
    "    plt.show()"
   ]
  },
  {
   "cell_type": "code",
   "execution_count": 44,
   "id": "0a196c28",
   "metadata": {
    "ExecuteTime": {
     "end_time": "2024-07-30T11:31:03.598445Z",
     "start_time": "2024-07-30T11:31:03.590234Z"
    },
    "scrolled": true
   },
   "outputs": [],
   "source": [
    "devation_cnv[devation_cnv['Pathogenic_CNV']==cnv_to_model]\n",
    "len(devation_cnv[devation_cnv['negative_count']>50])\n",
    "with open('/home/preclineu/chafra/Desktop/data/index_csv_neg_50.txt', 'w') as file:\n",
    "    file.write('\\n'.join(str(index) for index in devation_cnv[devation_cnv['negative_count']>50].index))\n",
    "devation_cnv_l = list(devation_cnv['Pathogenic_CNV'])"
   ]
  },
  {
   "cell_type": "markdown",
   "id": "d7024a64",
   "metadata": {},
   "source": [
    "## Create brain figures"
   ]
  },
  {
   "cell_type": "code",
   "execution_count": 45,
   "id": "9037bd9b",
   "metadata": {
    "ExecuteTime": {
     "end_time": "2024-07-30T11:31:03.608502Z",
     "start_time": "2024-07-30T11:31:03.603376Z"
    },
    "scrolled": false
   },
   "outputs": [],
   "source": [
    "df_csv = devation_cnv[devation_cnv['Pathogenic_CNV'] == cnv_to_model].sort_values('negative_count')\n",
    "if plot:\n",
    "    plt.figure(figsize=(8, 6))\n",
    "    plt.axis('off')  # Remove axis labels and ticks\n",
    "    plt.table(cellText=df_csv.values, colLabels=df_csv.columns, cellLoc='center', loc='center')\n",
    "    #plt.savefig(save_path+cnv_to_model+'data.png', bbox_inches='tight', pad_inches=0, dpi=300)"
   ]
  },
  {
   "cell_type": "code",
   "execution_count": 46,
   "id": "e8cb21f1-6bdf-498b-8424-a82c047c73da",
   "metadata": {
    "ExecuteTime": {
     "end_time": "2024-07-30T11:31:15.179877Z",
     "start_time": "2024-07-30T11:31:03.613503Z"
    },
    "scrolled": true
   },
   "outputs": [],
   "source": [
    "root_dir = '/project_cephfs/3022017.06/projects/wholebrain_blr/lifespan/'\n",
    "data_dir = os.path.join(root_dir,'data/')\n",
    "ex_nii = os.path.join(data_dir, 'camcan_aff+nonlin_jac.nii.gz')\n",
    "mask_nii = '/opt/fsl/6.0.3/data/standard/MNI152_T1_2mm_brain.nii.gz'\n",
    "proc_dir = os.path.join(root_dir,'aff+nonlin_jac_char')\n",
    "\n",
    "nr = len(df_csv)\n",
    "all_z_subs = []  # List to store all z_one_sub arrays\n",
    "\n",
    "for index in df_csv.index: \n",
    "   Z_one_sub = Z_df.loc[index].values\n",
    "   Z_one_sub = Z_one_sub.reshape((len(Z_one_sub),1))\n",
    "   all_z_subs.append(Z_one_sub)\n",
    "   ptksave(Z_one_sub.T, os.path.join(save_path, cnv_to_model+'_Z_CNV_' + index + '_' + str(nr) + '.nii.gz'), example=ex_nii, mask=mask_nii)\n",
    "   nr -= 1\n",
    "\n",
    "#Compute the mean\n",
    "mean_z_sub = np.mean(np.hstack(all_z_subs), axis=1).reshape((-1, 1))\n",
    "ptksave(mean_z_sub.T, os.path.join(save_path, cnv_to_model+'_Z_CNV_mean.nii.gz'), example=ex_nii, mask=mask_nii)"
   ]
  },
  {
   "cell_type": "code",
   "execution_count": 47,
   "id": "2c56086e",
   "metadata": {
    "ExecuteTime": {
     "end_time": "2024-07-30T11:31:15.280117Z",
     "start_time": "2024-07-30T11:31:15.188015Z"
    }
   },
   "outputs": [],
   "source": [
    "negative_total_count = np.sum(np.array(all_z_subs) < -2, axis=0)\n",
    "percentage_score = (negative_total_count / np.shape(all_z_subs)[0]) * 100\n",
    "np.shape(percentage_score)\n",
    "ptksave(percentage_score.T, os.path.join(save_path, cnv_to_model+'_Z_CNV_extremes.nii.gz'), example=ex_nii, mask=mask_nii)"
   ]
  },
  {
   "cell_type": "code",
   "execution_count": 48,
   "id": "31183bd4",
   "metadata": {
    "ExecuteTime": {
     "end_time": "2024-07-30T11:31:15.377399Z",
     "start_time": "2024-07-30T11:31:15.300081Z"
    }
   },
   "outputs": [],
   "source": [
    "positive_total_count = np.sum(np.array(all_z_subs) > 2, axis=0)\n",
    "percentage_score = (positive_total_count / np.shape(all_z_subs)[0]) * 100\n",
    "np.shape(percentage_score)\n",
    "ptksave(percentage_score.T, os.path.join(save_path, cnv_to_model+'_Z_CNV_extremes_pos.nii.gz'), example=ex_nii, mask=mask_nii)"
   ]
  },
  {
   "cell_type": "markdown",
   "id": "d67b2106",
   "metadata": {},
   "source": [
    "## Create word clouds"
   ]
  },
  {
   "cell_type": "code",
   "execution_count": 49,
   "id": "54b55112",
   "metadata": {
    "ExecuteTime": {
     "end_time": "2024-07-30T11:31:15.424392Z",
     "start_time": "2024-07-30T11:31:15.397796Z"
    }
   },
   "outputs": [],
   "source": [
    "harvardoxford_map = nib.load('/opt/fsl/6.0.3/data/atlases/HarvardOxford/HarvardOxford-cort-maxprob-thr0-2mm.nii.gz')\n",
    "harvardoxford_subcortical_map = nib.load('/opt/fsl/6.0.3/data/atlases/HarvardOxford/HarvardOxford-sub-maxprob-thr0-2mm.nii.gz')\n",
    "harvardoxford_data = harvardoxford_map.get_fdata()\n",
    "harvardoxford_subcortical_data = harvardoxford_subcortical_map.get_fdata()"
   ]
  },
  {
   "cell_type": "code",
   "execution_count": 50,
   "id": "855ceb5c",
   "metadata": {
    "ExecuteTime": {
     "end_time": "2024-07-30T11:31:15.454157Z",
     "start_time": "2024-07-30T11:31:15.444214Z"
    }
   },
   "outputs": [],
   "source": [
    "# Provide the path to your XML file\n",
    "xml_file = '/opt/fsl/6.0.3/data/atlases/HarvardOxford-Cortical.xml'\n",
    "\n",
    "tree = ET.parse(xml_file)\n",
    "root = tree.getroot()\n",
    "\n",
    "# Create a list to store the labels\n",
    "labels = []\n",
    "\n",
    "# Iterate over label elements and append the text to the list\n",
    "for label_element in root.findall('data/label'):\n",
    "    label_text = label_element.text.strip()\n",
    "    labels.append(label_text)\n",
    "\n",
    "# Provide the path to your XML file\n",
    "xml_file_sub = '/opt/fsl/6.0.3/data/atlases/HarvardOxford-Subcortical.xml'\n",
    "\n",
    "tree_sub = ET.parse(xml_file_sub)\n",
    "root_sub = tree_sub.getroot()\n",
    "\n",
    "# Create a list to store the labels\n",
    "labels_sub = []\n",
    "\n",
    "# Iterate over label elements and append the text to the list\n",
    "for label_element_sub in root_sub.findall('data/label'):\n",
    "    label_text_sub = label_element_sub.text.strip()\n",
    "    labels_sub.append(label_text_sub)\n",
    "    \n",
    "# Make the labels a little smaller\n",
    "labels = [''.join(string.split()[:3]) for string in labels]\n",
    "labels_sub = [''.join(string.split()[:3]) for string in labels_sub]"
   ]
  },
  {
   "cell_type": "code",
   "execution_count": 51,
   "id": "0b315c13",
   "metadata": {
    "ExecuteTime": {
     "end_time": "2024-07-30T11:31:15.478754Z",
     "start_time": "2024-07-30T11:31:15.474428Z"
    }
   },
   "outputs": [],
   "source": [
    "class SimpleGroupedColorFunc(object):\n",
    "    def __init__(self, color_to_words, default_color):\n",
    "        self.word_to_color = {word: color\n",
    "                              for (color, words) in color_to_words.items()\n",
    "                              for word in words}\n",
    "\n",
    "        self.default_color = default_color\n",
    "\n",
    "    def __call__(self, word, **kwargs):\n",
    "        return self.word_to_color.get(word, self.default_color)"
   ]
  },
  {
   "cell_type": "code",
   "execution_count": 52,
   "id": "4559d01a",
   "metadata": {
    "ExecuteTime": {
     "end_time": "2024-07-30T11:31:15.492268Z",
     "start_time": "2024-07-30T11:31:15.487585Z"
    }
   },
   "outputs": [],
   "source": [
    "# nr = len(df_csv)\n",
    "# for index in df_csv.index: \n",
    "#     zscore_map = nib.load(os.path.join('/home/preclineu/chafra/Desktop/figures/UKB/', cnv_to_model+ '_Z_CNV_' + index + '_' + str(nr) + '.nii.gz'))\n",
    "#     zscore_data = zscore_map.get_fdata()\n",
    "#     weights = []\n",
    "#     for i in range(1,len(np.unique(harvardoxford_data))):\n",
    "#         weights.append(np.nanmean(zscore_data[harvardoxford_data == i]))\n",
    "#     weights_sub = []\n",
    "\n",
    "#     for i in range(1, len(np.unique(harvardoxford_subcortical_data))):\n",
    "#         weights_sub.append(np.nanmean(zscore_data[harvardoxford_subcortical_data == i]))\n",
    "\n",
    "#     word_frequencies_cor = {labels[i]: int(weights[i]*100) for i in range(len(labels))}\n",
    "#     word_frequencies_sub = {labels_sub[i]: int(weights_sub[i]*100) for i in range(len(labels_sub))}\n",
    "\n",
    "#     word_frequencies = {}\n",
    "#     word_frequencies.update(word_frequencies_cor)\n",
    "#     word_frequencies.update(word_frequencies_sub)\n",
    "#     word_frequencies_filtered = {key: value for key, value in word_frequencies.items() if value > 0.2 or value <-0.2}\n",
    "#     df = pd.DataFrame(word_frequencies_filtered.items(), columns=['word', 'freq'])\n",
    "\n",
    "#     df['score'] = 0\n",
    "#     df.loc[df['freq'] < 0, 'score'] = -1.6\n",
    "#     df.loc[df['freq'] > 0, 'score'] = 1.6\n",
    "#     df['freq'] = abs(df['freq'])\n",
    "#     # Generate the random frequency for each word, however, set the seed for reproducibility\n",
    "#     rs = np.random.seed(42)\n",
    "#     # Generate a word-frequency dictionary to import to the word cloud\n",
    "#     text_freq_dict = dict(zip(df.word, df.freq))\n",
    "\n",
    "#     # Generate word cloud from word-frequency dictionary\n",
    "#     wordcloud = WordCloud(background_color='white', width=1000, height=500, prefer_horizontal=1, random_state=rs)\n",
    "#     wordcloud.generate_from_frequencies(frequencies=text_freq_dict)\n",
    "\n",
    "#     pos_words = []\n",
    "#     neg_words = []\n",
    "\n",
    "#     # Categorize the words based on sentiment score, assign to appropriate list \n",
    "#     for word, sentiment in zip(df['word'], df['score']):\n",
    "#         if sentiment > 1:\n",
    "#             pos_words.append(word)\n",
    "#         elif sentiment < -1:\n",
    "#             neg_words.append(word)\n",
    "\n",
    "#     # Create a dictionary containing the colours to be used for each sentiment list\n",
    "#     color_to_words = {\n",
    "#         # green colour for positive words\n",
    "#         '#f35b6a': pos_words,\n",
    "#         # red for negative words\n",
    "#         '#39c0ba': neg_words\n",
    "#     }\n",
    "\n",
    "#     # Neutral words will be grey (with sentiment between -1 and 1 inclusive)\n",
    "#     default_color = 'grey'\n",
    "\n",
    "#     # Create a color function with simple groupded tones\n",
    "#     grouped_color_func = SimpleGroupedColorFunc(color_to_words, default_color)\n",
    "\n",
    "#     # Apply our color function to the word cloud\n",
    "#     wordcloud.recolor(color_func=grouped_color_func)\n",
    "\n",
    "#     # Plot the word cloud\n",
    "#     plt.figure()\n",
    "#     plt.imshow(wordcloud, interpolation=\"bilinear\")\n",
    "#     plt.axis(\"off\")\n",
    "#     plt.savefig(save_path+index+'_'+ cnv_to_model+str(nr)+'.png',dpi=300, bbox_inches = 'tight')\n",
    "#     plt.show()\n",
    "#     nr -= 1"
   ]
  },
  {
   "cell_type": "markdown",
   "id": "a96da9e4",
   "metadata": {},
   "source": [
    "## Plot violin and box plot deviations"
   ]
  },
  {
   "cell_type": "code",
   "execution_count": 53,
   "id": "7c31560c",
   "metadata": {
    "ExecuteTime": {
     "end_time": "2024-07-30T11:31:15.520802Z",
     "start_time": "2024-07-30T11:31:15.496699Z"
    }
   },
   "outputs": [],
   "source": [
    "deviation_counts['CNV_present'] = np.where(deviation_counts['CNV'] != 0, 1, deviation_counts['CNV'])"
   ]
  },
  {
   "cell_type": "code",
   "execution_count": 54,
   "id": "27687be4",
   "metadata": {
    "ExecuteTime": {
     "end_time": "2024-07-30T11:31:16.099116Z",
     "start_time": "2024-07-30T11:31:15.522285Z"
    },
    "scrolled": false
   },
   "outputs": [
    {
     "data": {
      "text/plain": [
       "Text(0.5, 0, 'Group ID')"
      ]
     },
     "execution_count": 54,
     "metadata": {},
     "output_type": "execute_result"
    },
    {
     "data": {
      "image/png": "[encoded data removed]",
      "text/plain": [
       "<Figure size 432x432 with 1 Axes>"
      ]
     },
     "metadata": {
      "needs_background": "light"
     },
     "output_type": "display_data"
    }
   ],
   "source": [
    "fig, ax = plt.subplots(figsize=(6,6))\n",
    "sns.violinplot(data=deviation_counts, y=\"negative_count\", x=\"CNV_present\", inner='box', ax=ax, palette = colors);\n",
    "plt.legend=False\n",
    "plt.title('Negative extreme devations scores', fontweight='bold')\n",
    "plt.ylabel('Count negative devations scores')\n",
    "plt.xlabel('Group ID')\n",
    "#plt.savefig('/home/preclineu/chafra/Desktop/figures/UKB/'+'violin_neg' + cnv_to_model+'.png',dpi=300,bbox_inches='tight')"
   ]
  },
  {
   "cell_type": "code",
   "execution_count": 55,
   "id": "4c45c1ce",
   "metadata": {
    "ExecuteTime": {
     "end_time": "2024-07-30T11:31:16.108252Z",
     "start_time": "2024-07-30T11:31:16.103515Z"
    }
   },
   "outputs": [],
   "source": [
    "deviation_counts.loc[deviation_counts[\"CNV\"] == 0, \"CNV\"] = 'No-CNV'"
   ]
  },
  {
   "cell_type": "code",
   "execution_count": 56,
   "id": "feb45090",
   "metadata": {
    "ExecuteTime": {
     "end_time": "2024-07-30T11:31:16.120380Z",
     "start_time": "2024-07-30T11:31:16.112878Z"
    }
   },
   "outputs": [],
   "source": [
    "deviation_counts['CNV_present'] = np.where(deviation_counts['CNV'] != 0, 1, deviation_counts['CNV'])"
   ]
  },
  {
   "cell_type": "code",
   "execution_count": 57,
   "id": "a63e5cfa",
   "metadata": {
    "ExecuteTime": {
     "end_time": "2024-07-30T11:31:16.135258Z",
     "start_time": "2024-07-30T11:31:16.125094Z"
    }
   },
   "outputs": [],
   "source": [
    "deviation_counts['CNV_to_model'] = 0\n",
    "deviation_counts.loc[deviation_counts['CNV'] == cnv_to_model, 'CNV_to_model'] = cnv_to_model"
   ]
  },
  {
   "cell_type": "code",
   "execution_count": 58,
   "id": "fe5659b5",
   "metadata": {
    "ExecuteTime": {
     "end_time": "2024-07-30T11:31:16.143874Z",
     "start_time": "2024-07-30T11:31:16.140262Z"
    },
    "code_folding": [
     0
    ]
   },
   "outputs": [],
   "source": [
    "# cnv_data = deviation_counts[(deviation_counts[\"CNV\"] == cnv_to_model) | (deviation_counts[\"CNV\"] == 'No-CNV')]\n",
    "\n",
    "# fig, ax = plt.subplots(figsize=(8, 6))\n",
    "# sns.boxplot(data=deviation_counts, x=\"negative_count\", y=\"CNV_to_model\", showfliers=False, ax=ax, palette=colors)\n",
    "# #sns.stripplot(y=\"CNV\", x=\"negative_count\", data=cnv_data,\n",
    "# #              size=4, color=\".3\", linewidth=0.5)\n",
    "\n",
    "# plt.title('Negative Extreme Deviation Scores ' + cnv_to_model, fontweight='bold', fontsize=18)\n",
    "# plt.xlabel('Count of Negative Deviation Scores', fontsize=18)\n",
    "# plt.ylabel('')\n",
    "# plt.xticks(fontsize=18)\n",
    "# plt.tight_layout()\n",
    "# plt.yticks(fontsize=18)\n",
    "# plt.savefig('/home/preclineu/chafra/Desktop/figures/UKB/'+'box_neg'+cnv_to_model+'.png',dpi=300,bbox_inches='tight')\n",
    "\n",
    "# cnv_data = deviation_counts[(deviation_counts[\"CNV\"] == cnv_to_model) | (deviation_counts[\"CNV\"] == 'No-CNV')]\n",
    "\n",
    "# fig, ax = plt.subplots(figsize=(8, 6))\n",
    "# sns.boxplot(data=deviation_counts, x=\"positive_count\", y=\"CNV_to_model\", showfliers=False, ax=ax, palette=colors)\n",
    "# #sns.stripplot(y=\"CNV\", x=\"negative_count\", data=cnv_data,\n",
    "# #              size=4, color=\".3\", linewidth=0.5)\n",
    "\n",
    "# plt.title('Positive Extreme Deviation Scores ' + cnv_to_model, fontweight='bold', fontsize=18)\n",
    "# plt.xlabel('Count of Positive Deviation Scores', fontsize=18)\n",
    "# plt.ylabel('')\n",
    "# plt.xticks(fontsize=18)\n",
    "# plt.tight_layout()\n",
    "# plt.yticks(fontsize=18)\n",
    "# plt.savefig('/home/preclineu/chafra/Desktop/figures/UKB/'+'box_pos'+cnv_to_model+'.png',dpi=300,bbox_inches='tight')"
   ]
  },
  {
   "cell_type": "code",
   "execution_count": 59,
   "id": "c04d770c",
   "metadata": {
    "ExecuteTime": {
     "end_time": "2024-07-30T11:31:16.901653Z",
     "start_time": "2024-07-30T11:31:16.149347Z"
    }
   },
   "outputs": [
    {
     "data": {
      "image/png": "[encoded data removed]",
      "text/plain": [
       "<Figure size 936x288 with 2 Axes>"
      ]
     },
     "metadata": {
      "needs_background": "light"
     },
     "output_type": "display_data"
    }
   ],
   "source": [
    "cnv_data = deviation_counts[(deviation_counts[\"CNV\"] == cnv_to_model) | (deviation_counts[\"CNV\"] == 'No-CNV')]\n",
    "\n",
    "fig, (ax1, ax2) = plt.subplots(nrows=1, ncols=2, figsize=(13, 4))\n",
    "\n",
    "# Negative deviations\n",
    "sns.boxplot(data=deviation_counts, x=\"negative_count\", y=\"CNV_to_model\", showfliers=False, ax=ax1, palette=['#666666', '#90e6e2'])\n",
    "ax1.set_title('Negative Extreme Deviation Scores ' + cnv_to_model, fontweight='bold', fontsize=18)\n",
    "ax1.set_xlabel('Count of Negative Deviation Scores', fontsize=18)\n",
    "ax1.set_ylabel('Group ID', fontsize=18)  # Setting y-label for the first subplot\n",
    "ax1.tick_params(axis='x', labelsize=18)\n",
    "ax1.tick_params(axis='y', labelsize=18)\n",
    "\n",
    "# Positive deviations\n",
    "sns.boxplot(data=deviation_counts, x=\"positive_count\", y=\"CNV_to_model\", showfliers=False, ax=ax2, palette=['#666666', '#f35b6a', '#fbb2b9', '#999fa9'])\n",
    "ax2.set_title('Positive Extreme Deviation Scores ' + cnv_to_model, fontweight='bold', fontsize=20)\n",
    "ax2.set_xlabel('Count of Positive Deviation Scores', fontsize=20)\n",
    "ax2.set_ylabel('')  # Removing y-label for the second subplot\n",
    "ax2.tick_params(axis='x', labelsize=20)\n",
    "ax2.tick_params(axis='y', labelsize=20)\n",
    "\n",
    "plt.tight_layout()\n",
    "plt.subplots_adjust(wspace=0.3)  # Increase space between subplots if needed\n",
    "\n",
    "# Save the combined figure\n",
    "#plt.savefig('/home/preclineu/chafra/Desktop/figures/UKB/' + 'box_combined' + cnv_to_model + '.png', dpi=300, bbox_inches='tight')"
   ]
  },
  {
   "cell_type": "code",
   "execution_count": 60,
   "id": "afa916cf",
   "metadata": {
    "ExecuteTime": {
     "end_time": "2024-07-30T11:31:16.935684Z",
     "start_time": "2024-07-30T11:31:16.919882Z"
    }
   },
   "outputs": [
    {
     "data": {
      "text/plain": [
       "sub_id\n",
       "3657322    1204\n",
       "2536505     333\n",
       "1126179    4932\n",
       "4841341    1086\n",
       "579665     3520\n",
       "           ... \n",
       "4405626    3700\n",
       "5213818    5425\n",
       "3689386     729\n",
       "3546997    1446\n",
       "4303347    1184\n",
       "Name: negative_count, Length: 9617, dtype: int64"
      ]
     },
     "execution_count": 60,
     "metadata": {},
     "output_type": "execute_result"
    }
   ],
   "source": [
    "deviation_counts[deviation_counts['CNV'] == 'No-CNV']['negative_count']\n"
   ]
  },
  {
   "cell_type": "code",
   "execution_count": 61,
   "id": "6e118ec4",
   "metadata": {
    "ExecuteTime": {
     "end_time": "2024-07-30T11:31:16.976110Z",
     "start_time": "2024-07-30T11:31:16.942462Z"
    }
   },
   "outputs": [
    {
     "name": "stdout",
     "output_type": "stream",
     "text": [
      "Min: 3\n",
      "Max: 58249\n",
      "Median: 3568.0\n",
      "Q1: 1783.0\n",
      "Q3: 6774.0\n",
      "Whisker Low: 3\n",
      "Whisker High: 14260.5\n",
      "Percentiles: 0.01      266.16\n",
      "0.05      632.60\n",
      "0.95    15649.20\n",
      "0.99    26106.72\n",
      "Name: positive_count, dtype: float64\n",
      "5\n",
      "9617\n"
     ]
    }
   ],
   "source": [
    "data = deviation_counts[deviation_counts['CNV'] == 'No-CNV']['positive_count']\n",
    "\n",
    "# Calculating the statistics\n",
    "minimum = data.min()\n",
    "maximum = data.max()\n",
    "median = data.median()\n",
    "q1 = data.quantile(0.25)  # First quartile (25th percentile)\n",
    "q3 = data.quantile(0.75)  # Third quartile (75th percentile)\n",
    "iqr = q3 - q1  # Interquartile range\n",
    "\n",
    "# Bounds of the whiskers (using 1.5*IQR rule, but not exceeding data's min/max)\n",
    "whisker_low = max(minimum, q1 - 1.5 * iqr)\n",
    "whisker_high = min(maximum, q3 + 1.5 * iqr)\n",
    "\n",
    "# Percentiles (optional, for additional insights)\n",
    "percentiles = data.quantile([0.01, 0.05, 0.95, 0.99])  # Example: 1st, 5th, 95th, 99th percentiles\n",
    "\n",
    "# Print or store the results\n",
    "print(f\"Min: {minimum}\")\n",
    "print(f\"Max: {maximum}\")\n",
    "print(f\"Median: {median}\")\n",
    "print(f\"Q1: {q1}\")\n",
    "print(f\"Q3: {q3}\")\n",
    "print(f\"Whisker Low: {whisker_low}\")\n",
    "print(f\"Whisker High: {whisker_high}\")\n",
    "print(f\"Percentiles: {percentiles}\")\n",
    "\n",
    "print(np.sum(deviation_counts['CNV'] == cnv_to_model))\n",
    "print(np.sum(deviation_counts['CNV'] == 'No-CNV'))"
   ]
  },
  {
   "cell_type": "code",
   "execution_count": 62,
   "id": "38bc543e",
   "metadata": {
    "ExecuteTime": {
     "end_time": "2024-07-30T11:31:16.986549Z",
     "start_time": "2024-07-30T11:31:16.981212Z"
    }
   },
   "outputs": [
    {
     "data": {
      "text/plain": [
       "'1q21.1del'"
      ]
     },
     "execution_count": 62,
     "metadata": {},
     "output_type": "execute_result"
    }
   ],
   "source": [
    "cnv_to_model"
   ]
  },
  {
   "cell_type": "code",
   "execution_count": 63,
   "id": "d0402044",
   "metadata": {
    "ExecuteTime": {
     "end_time": "2024-07-30T11:31:17.035031Z",
     "start_time": "2024-07-30T11:31:16.992394Z"
    }
   },
   "outputs": [
    {
     "name": "stdout",
     "output_type": "stream",
     "text": [
      "Min: 773\n",
      "Max: 16248\n",
      "Median: 3554.0\n",
      "Q1: 3304.0\n",
      "Q3: 12415.0\n",
      "Whisker Low: 773\n",
      "Whisker High: 16248\n",
      "Percentiles: 0.01      874.24\n",
      "0.05     1279.20\n",
      "0.95    15481.40\n",
      "0.99    16094.68\n",
      "Name: positive_count, dtype: float64\n",
      "5\n",
      "9617\n"
     ]
    }
   ],
   "source": [
    "data = deviation_counts[deviation_counts['CNV'] == cnv_to_model]['positive_count']\n",
    "\n",
    "# Calculating the statistics\n",
    "minimum = data.min()\n",
    "maximum = data.max()\n",
    "median = data.median()\n",
    "q1 = data.quantile(0.25)  # First quartile (25th percentile)\n",
    "q3 = data.quantile(0.75)  # Third quartile (75th percentile)\n",
    "iqr = q3 - q1  # Interquartile range\n",
    "\n",
    "# Bounds of the whiskers (using 1.5*IQR rule, but not exceeding data's min/max)\n",
    "whisker_low = max(minimum, q1 - 1.5 * iqr)\n",
    "whisker_high = min(maximum, q3 + 1.5 * iqr)\n",
    "\n",
    "# Percentiles (optional, for additional insights)\n",
    "percentiles = data.quantile([0.01, 0.05, 0.95, 0.99])  # Example: 1st, 5th, 95th, 99th percentiles\n",
    "\n",
    "# Print or store the results\n",
    "print(f\"Min: {minimum}\")\n",
    "print(f\"Max: {maximum}\")\n",
    "print(f\"Median: {median}\")\n",
    "print(f\"Q1: {q1}\")\n",
    "print(f\"Q3: {q3}\")\n",
    "print(f\"Whisker Low: {whisker_low}\")\n",
    "print(f\"Whisker High: {whisker_high}\")\n",
    "print(f\"Percentiles: {percentiles}\")\n",
    "\n",
    "print(np.sum(deviation_counts['CNV'] == cnv_to_model))\n",
    "print(np.sum(deviation_counts['CNV'] == 'No-CNV'))"
   ]
  },
  {
   "cell_type": "code",
   "execution_count": 64,
   "id": "7900947d",
   "metadata": {
    "ExecuteTime": {
     "end_time": "2024-07-30T11:31:17.081403Z",
     "start_time": "2024-07-30T11:31:17.039362Z"
    }
   },
   "outputs": [
    {
     "name": "stdout",
     "output_type": "stream",
     "text": [
      "Min: 0\n",
      "Max: 187415\n",
      "Median: 3133.0\n",
      "Q1: 1407.0\n",
      "Q3: 6266.0\n",
      "Whisker Low: 0\n",
      "Whisker High: 13554.5\n",
      "Percentiles: 0.01      117.32\n",
      "0.05      369.80\n",
      "0.95    14646.80\n",
      "0.99    25760.72\n",
      "Name: negative_count, dtype: float64\n",
      "5\n",
      "9617\n"
     ]
    }
   ],
   "source": [
    "data = deviation_counts[deviation_counts['CNV'] == 'No-CNV']['negative_count']\n",
    "\n",
    "# Calculating the statistics\n",
    "minimum = data.min()\n",
    "maximum = data.max()\n",
    "median = data.median()\n",
    "q1 = data.quantile(0.25)  # First quartile (25th percentile)\n",
    "q3 = data.quantile(0.75)  # Third quartile (75th percentile)\n",
    "iqr = q3 - q1  # Interquartile range\n",
    "\n",
    "# Bounds of the whiskers (using 1.5*IQR rule, but not exceeding data's min/max)\n",
    "whisker_low = max(minimum, q1 - 1.5 * iqr)\n",
    "whisker_high = min(maximum, q3 + 1.5 * iqr)\n",
    "\n",
    "# Percentiles (optional, for additional insights)\n",
    "percentiles = data.quantile([0.01, 0.05, 0.95, 0.99])  # Example: 1st, 5th, 95th, 99th percentiles\n",
    "\n",
    "# Print or store the results\n",
    "print(f\"Min: {minimum}\")\n",
    "print(f\"Max: {maximum}\")\n",
    "print(f\"Median: {median}\")\n",
    "print(f\"Q1: {q1}\")\n",
    "print(f\"Q3: {q3}\")\n",
    "print(f\"Whisker Low: {whisker_low}\")\n",
    "print(f\"Whisker High: {whisker_high}\")\n",
    "print(f\"Percentiles: {percentiles}\")\n",
    "\n",
    "print(np.sum(deviation_counts['CNV'] == cnv_to_model))\n",
    "print(np.sum(deviation_counts['CNV'] == 'No-CNV'))"
   ]
  },
  {
   "cell_type": "code",
   "execution_count": 65,
   "id": "70e85809",
   "metadata": {
    "ExecuteTime": {
     "end_time": "2024-07-30T11:31:17.119847Z",
     "start_time": "2024-07-30T11:31:17.086053Z"
    }
   },
   "outputs": [
    {
     "name": "stdout",
     "output_type": "stream",
     "text": [
      "Min: 236\n",
      "Max: 5378\n",
      "Median: 3080.0\n",
      "Q1: 1655.0\n",
      "Q3: 5153.0\n",
      "Whisker Low: 236\n",
      "Whisker High: 5378\n",
      "Percentiles: 0.01     292.76\n",
      "0.05     519.80\n",
      "0.95    5333.00\n",
      "0.99    5369.00\n",
      "Name: negative_count, dtype: float64\n",
      "5\n",
      "9617\n"
     ]
    }
   ],
   "source": [
    "data = deviation_counts[deviation_counts['CNV'] == cnv_to_model]['negative_count']\n",
    "\n",
    "# Calculating the statistics\n",
    "minimum = data.min()\n",
    "maximum = data.max()\n",
    "median = data.median()\n",
    "q1 = data.quantile(0.25)  # First quartile (25th percentile)\n",
    "q3 = data.quantile(0.75)  # Third quartile (75th percentile)\n",
    "iqr = q3 - q1  # Interquartile range\n",
    "\n",
    "# Bounds of the whiskers (using 1.5*IQR rule, but not exceeding data's min/max)\n",
    "whisker_low = max(minimum, q1 - 1.5 * iqr)\n",
    "whisker_high = min(maximum, q3 + 1.5 * iqr)\n",
    "\n",
    "# Percentiles (optional, for additional insights)\n",
    "percentiles = data.quantile([0.01, 0.05, 0.95, 0.99])  # Example: 1st, 5th, 95th, 99th percentiles\n",
    "\n",
    "# Print or store the results\n",
    "print(f\"Min: {minimum}\")\n",
    "print(f\"Max: {maximum}\")\n",
    "print(f\"Median: {median}\")\n",
    "print(f\"Q1: {q1}\")\n",
    "print(f\"Q3: {q3}\")\n",
    "print(f\"Whisker Low: {whisker_low}\")\n",
    "print(f\"Whisker High: {whisker_high}\")\n",
    "print(f\"Percentiles: {percentiles}\")\n",
    "\n",
    "print(np.sum(deviation_counts['CNV'] == cnv_to_model))\n",
    "print(np.sum(deviation_counts['CNV'] == 'No-CNV'))"
   ]
  },
  {
   "cell_type": "code",
   "execution_count": 66,
   "id": "b645332e",
   "metadata": {
    "ExecuteTime": {
     "end_time": "2024-07-30T11:31:17.160415Z",
     "start_time": "2024-07-30T11:31:17.124050Z"
    }
   },
   "outputs": [
    {
     "name": "stdout",
     "output_type": "stream",
     "text": [
      "Min: 236\n",
      "Max: 5378\n",
      "Median: 3080.0\n",
      "Q1: 1655.0\n",
      "Q3: 5153.0\n",
      "Whisker Low: 236\n",
      "Whisker High: 5378\n",
      "Percentiles: 0.01     292.76\n",
      "0.05     519.80\n",
      "0.95    5333.00\n",
      "0.99    5369.00\n",
      "Name: negative_count, dtype: float64\n",
      "5\n",
      "9617\n"
     ]
    }
   ],
   "source": [
    "data = deviation_counts[deviation_counts['CNV'] == cnv_to_model]['negative_count']\n",
    "\n",
    "# Calculating the statistics\n",
    "minimum = data.min()\n",
    "maximum = data.max()\n",
    "median = data.median()\n",
    "q1 = data.quantile(0.25)  # First quartile (25th percentile)\n",
    "q3 = data.quantile(0.75)  # Third quartile (75th percentile)\n",
    "iqr = q3 - q1  # Interquartile range\n",
    "\n",
    "# Bounds of the whiskers (using 1.5*IQR rule, but not exceeding data's min/max)\n",
    "whisker_low = max(minimum, q1 - 1.5 * iqr)\n",
    "whisker_high = min(maximum, q3 + 1.5 * iqr)\n",
    "\n",
    "# Percentiles (optional, for additional insights)\n",
    "percentiles = data.quantile([0.01, 0.05, 0.95, 0.99])  # Example: 1st, 5th, 95th, 99th percentiles\n",
    "\n",
    "# Print or store the results\n",
    "print(f\"Min: {minimum}\")\n",
    "print(f\"Max: {maximum}\")\n",
    "print(f\"Median: {median}\")\n",
    "print(f\"Q1: {q1}\")\n",
    "print(f\"Q3: {q3}\")\n",
    "print(f\"Whisker Low: {whisker_low}\")\n",
    "print(f\"Whisker High: {whisker_high}\")\n",
    "print(f\"Percentiles: {percentiles}\")\n",
    "\n",
    "print(np.sum(deviation_counts['CNV'] == cnv_to_model))\n",
    "print(np.sum(deviation_counts['CNV'] == 'No-CNV'))"
   ]
  },
  {
   "cell_type": "code",
   "execution_count": 67,
   "id": "17d35c21",
   "metadata": {
    "ExecuteTime": {
     "end_time": "2024-07-30T11:31:17.174656Z",
     "start_time": "2024-07-30T11:31:17.165118Z"
    }
   },
   "outputs": [
    {
     "data": {
      "text/plain": [
       "sub_id\n",
       "3657322    False\n",
       "2536505    False\n",
       "1126179    False\n",
       "4841341    False\n",
       "579665     False\n",
       "           ...  \n",
       "2065836    False\n",
       "2741161    False\n",
       "3446717    False\n",
       "3754876    False\n",
       "5266603    False\n",
       "Name: CNV, Length: 9622, dtype: bool"
      ]
     },
     "execution_count": 67,
     "metadata": {},
     "output_type": "execute_result"
    }
   ],
   "source": [
    "cnv_data['CNV'] == \"CNV_to_model\"\n"
   ]
  },
  {
   "cell_type": "code",
   "execution_count": 68,
   "id": "98dd5297",
   "metadata": {
    "ExecuteTime": {
     "end_time": "2024-07-30T11:31:17.217721Z",
     "start_time": "2024-07-30T11:31:17.195818Z"
    }
   },
   "outputs": [],
   "source": [
    "HC_pos = deviation_counts[deviation_counts['CNV_present'] == 0].positive_count.values\n",
    "D_pos = deviation_counts[deviation_counts['CNV_present'] == 1].positive_count.values\n",
    "HC_neg = deviation_counts[deviation_counts['CNV_present'] == 0].negative_count.values\n",
    "D_neg = deviation_counts[deviation_counts['CNV_present'] == 1].negative_count.values"
   ]
  },
  {
   "cell_type": "code",
   "execution_count": 69,
   "id": "18953f72",
   "metadata": {
    "ExecuteTime": {
     "end_time": "2024-07-30T11:31:17.230676Z",
     "start_time": "2024-07-30T11:31:17.225178Z"
    }
   },
   "outputs": [],
   "source": [
    "# from scipy.stats import mannwhitneyu\n",
    "# U1, p = mannwhitneyu(HC_neg, D_neg, alternative='two-sided')\n",
    "# print(U1)\n",
    "# print(p)"
   ]
  },
  {
   "cell_type": "markdown",
   "id": "de1e8395",
   "metadata": {},
   "source": [
    "## Calculate probability distribution non-normal data"
   ]
  },
  {
   "cell_type": "code",
   "execution_count": 70,
   "id": "4fc9a5eb-eb7b-46d3-b6d5-c894c83c9f58",
   "metadata": {
    "ExecuteTime": {
     "end_time": "2024-07-30T11:31:17.243968Z",
     "start_time": "2024-07-30T11:31:17.237916Z"
    }
   },
   "outputs": [],
   "source": [
    "# [a_fit, loc_fit, scale_fit] = scipy.stats.gamma.fit(deviation_counts['negative_count'])\n",
    "# print(a_fit, loc_fit)\n",
    "# x = np.linspace(np.min(deviation_counts['negative_count']), np.max(deviation_counts['negative_count']))\n",
    "\n",
    "# plt.figure\n",
    "# plt.hist(deviation_counts['negative_count'], bins=50, color = '#666666', density=True)\n",
    "# plt.plot(x, scipy.stats.gamma.pdf(x, a_fit, loc=loc_fit, scale=scale_fit),)\n",
    "# plt.xlabel('Number negative deviations')\n",
    "# plt.ylabel('Density')\n",
    "# plt.title('Negative deviations gamma distribution', fontweight='bold')\n",
    "\n",
    "# # Calculate the probability density of the value 'x'\n",
    "# probability_density = scipy.stats.gamma.pdf(7500, a=a_fit, loc=loc_fit, scale=scale_fit)\n",
    "\n",
    "# print(f\"The probability of obtaining the value {7500} by chance in the gamma distribution is {probability_density}\")"
   ]
  },
  {
   "cell_type": "markdown",
   "id": "7a45aa6b",
   "metadata": {},
   "source": [
    "Calculate the probability of a point being higher than a certain value by chance."
   ]
  },
  {
   "cell_type": "code",
   "execution_count": 71,
   "id": "76ac1ee3-74b3-47a2-809c-73668f58024a",
   "metadata": {
    "ExecuteTime": {
     "end_time": "2024-07-30T11:31:17.254713Z",
     "start_time": "2024-07-30T11:31:17.249698Z"
    }
   },
   "outputs": [],
   "source": [
    "# devation_cnv[devation_cnv['Pathogenic_CNV']==cnv_to_model].negative_count.values\n",
    "\n",
    "# fig, ax = plt.subplots(figsize=(6,6))\n",
    "# sns.violinplot(data=deviation_counts, y=\"negative_count\", x=\"CNV_present\", inner='box', ax=ax, palette = colors);\n",
    "# plt.legend=False\n",
    "# plt.title('Negative extreme devations scores', fontweight='bold')\n",
    "# plt.ylabel('Count negative devations scores')\n",
    "# plt.xlabel('Group ID')\n",
    "# plt.savefig('/home/preclineu/chafra/Desktop/figures/UKB/'+'violin_neg'+'.png',dpi=300,bbox_inches='tight')\n",
    "\n",
    "# samples_1 = scipy.stats.gamma.rvs(a=a_fit, loc=loc_fit, scale=scale_fit, size=100, random_state=0)\n",
    "# samples_2 = scipy.stats.gamma.rvs(a=a_fit, loc=loc_fit, scale=scale_fit, size=100, random_state=1)\n",
    "# df_samples = pd.DataFrame({'samples_1' : samples_1 , 'samples_2':samples_2})\n",
    "# sns.jointplot(x='samples_1', y='samples_2', data=df_samples )\n",
    "\n",
    "# probability_density = scipy.stats.gamma.pdf(50000, a=a_fit, loc=loc_fit, scale=scale_fit)*scipy.stats.gamma.pdf(40000, a=a_fit, loc=loc_fit, scale=scale_fit)\n",
    "# probability_density\n",
    "\n",
    "# scipy.stats.gamma.pdf(50000, a=a_fit, loc=loc_fit, scale=scale_fit)"
   ]
  },
  {
   "cell_type": "code",
   "execution_count": 72,
   "id": "ae7a4eb2",
   "metadata": {
    "ExecuteTime": {
     "end_time": "2024-07-30T11:31:17.265111Z",
     "start_time": "2024-07-30T11:31:17.259646Z"
    }
   },
   "outputs": [],
   "source": [
    "# [a_fit, loc_fit, scale_fit] = scipy.stats.gamma.fit(deviation_counts['negative_count'])\n",
    "# print(a_fit, loc_fit)\n",
    "\n",
    "# x = np.linspace(np.min(deviation_counts['negative_count']), np.max(deviation_counts['negative_count']))\n",
    "\n",
    "# plt.figure\n",
    "# plt.hist(deviation_counts['negative_count'], bins=50, color = '#666666', density=True)\n",
    "# plt.plot(x, scipy.stats.gamma.pdf(x, a_fit, loc=loc_fit, scale=scale_fit),)\n",
    "# plt.xlabel('Number negative deviations')\n",
    "# plt.ylabel('Density')\n",
    "# plt.title('Negative deviations gamma distribution', fontweight='bold')\n",
    "\n",
    "# j = 0\n",
    "# probability_density = []\n",
    "# p = []\n",
    "# for i in devation_cnv[devation_cnv['Pathogenic_CNV']=='1q21.1del'].negative_count.values:\n",
    "#     plt.plot([i], 1e-5, 'o', color=colors[j]) # Your original list\n",
    "#     j += 1\n",
    "#     # Calculate the cumulative probability of the value 'i' or lower\n",
    "#     cumulative_prob = scipy.stats.gamma.cdf(i, a=a_fit, loc=loc_fit, scale=scale_fit)\n",
    "#     # Calculate the p-value\n",
    "#     p.append(1 - cumulative_prob)\n",
    "#     #print(f\"The probability for a value of {i} or higher in the gamma distribution is {p}\")    \n",
    "#     probability_density.append(scipy.stats.gamma.pdf(i, a=a_fit, loc=loc_fit, scale=scale_fit))\n",
    "    \n",
    "# plt.xlabel('Number negative deviations')\n",
    "# plt.ylabel('Frequency')\n",
    "# plt.title('Number negative deviations 1q21.1del', fontweight=\"bold\")\n",
    "# plt.savefig('/home/preclineu/chafra/Desktop/figures/UKB/extreme_neg_dev_cnv_voxel.png',dpi=300, bbox_inches = 'tight')\n",
    "# plt.show()\n",
    "\n",
    "# joint_probability_density = 1\n",
    "# for num in probability_density:\n",
    "#     joint_probability_density *= num\n",
    "# print(f'Joint probability density: {joint_probability_density}')\n",
    "\n",
    "# joint_p = 1\n",
    "# for num in p:\n",
    "#     joint_p *= num\n",
    "# print(f'The probability of both events being less than or equal to their respective extreme values: {joint_p}')"
   ]
  },
  {
   "cell_type": "code",
   "execution_count": 73,
   "id": "fe29b4ce",
   "metadata": {
    "ExecuteTime": {
     "end_time": "2024-07-30T11:31:18.303828Z",
     "start_time": "2024-07-30T11:31:17.271584Z"
    },
    "code_folding": [],
    "scrolled": true
   },
   "outputs": [
    {
     "data": {
      "image/png": "[encoded data removed]",
      "text/plain": [
       "<Figure size 432x288 with 1 Axes>"
      ]
     },
     "metadata": {
      "needs_background": "light"
     },
     "output_type": "display_data"
    }
   ],
   "source": [
    "devation_cnv_l = [cnv_to_model]\n",
    "for cnv in devation_cnv_l:\n",
    "    probability_density = []\n",
    "    p = []\n",
    "    plt.figure()\n",
    "    plt.hist(deviation_counts['negative_count'], bins=200, color = '#666666')\n",
    "    j = 0\n",
    "    for i in devation_cnv[devation_cnv['Pathogenic_CNV']==cnv].negative_count.values:\n",
    "        plt.plot([i], 500, 'o') # Your original list\n",
    "        j += 1\n",
    "    plt.xlabel('Number negative deviations', fontsize=18)\n",
    "    plt.xlim([-1000,30000])\n",
    "    plt.ylabel('Frequency', fontsize=18)\n",
    "    plt.xticks(rotation = 35, fontsize=16)\n",
    "    plt.yticks(fontsize=16)\n",
    "    plt.title('Number extreme negative deviations ' + cnv, fontweight=\"bold\", fontsize=18)\n",
    "    #plt.savefig('/home/preclineu/chafra/Desktop/figures/UKB/extreme_neg_dev_cnv_voxel' + cnv + '.png',dpi=300, bbox_inches = 'tight')\n",
    "    plt.show()"
   ]
  },
  {
   "cell_type": "code",
   "execution_count": 74,
   "id": "f291e1e0",
   "metadata": {
    "ExecuteTime": {
     "end_time": "2024-07-30T11:31:18.323207Z",
     "start_time": "2024-07-30T11:31:18.308333Z"
    }
   },
   "outputs": [
    {
     "data": {
      "text/plain": [
       "array([1655, 3080, 5378, 5153,  236])"
      ]
     },
     "execution_count": 74,
     "metadata": {},
     "output_type": "execute_result"
    }
   ],
   "source": [
    "devation_cnv[devation_cnv['Pathogenic_CNV']==cnv].negative_count.values"
   ]
  },
  {
   "cell_type": "code",
   "execution_count": 75,
   "id": "b31956d2",
   "metadata": {
    "ExecuteTime": {
     "end_time": "2024-07-30T11:31:19.032408Z",
     "start_time": "2024-07-30T11:31:18.328438Z"
    }
   },
   "outputs": [
    {
     "data": {
      "image/png": "[encoded data removed]",
      "text/plain": [
       "<Figure size 432x288 with 1 Axes>"
      ]
     },
     "metadata": {
      "needs_background": "light"
     },
     "output_type": "display_data"
    }
   ],
   "source": [
    "devation_cnv_l = [cnv_to_model]\n",
    "for cnv in devation_cnv_l:\n",
    "    probability_density = []\n",
    "    p = []\n",
    "    plt.figure()\n",
    "    plt.hist(deviation_counts['positive_count'], bins=100, color = '#666666')\n",
    "    j = 0\n",
    "    for i in devation_cnv[devation_cnv['Pathogenic_CNV']==cnv].negative_count.values:\n",
    "        plt.plot([i], 400, 'o') # Your original list\n",
    "        j += 1\n",
    "    plt.xlabel('Number positive deviations', fontsize=16)\n",
    "    plt.xlim([-1000,30000])\n",
    "    plt.ylabel('Frequency', fontsize=16)\n",
    "    plt.xticks(rotation = 35, fontsize=16)\n",
    "    plt.yticks(fontsize=16)\n",
    "    plt.title('Number extreme positive deviations ' + cnv, fontweight=\"bold\", fontsize=16)\n",
    "    #plt.savefig('/home/preclineu/chafra/Desktop/figures/UKB/extreme_pos_dev_cnv_voxel' + cnv + '.png',dpi=300, bbox_inches = 'tight')\n",
    "    plt.show()"
   ]
  },
  {
   "cell_type": "code",
   "execution_count": 76,
   "id": "5d240e75",
   "metadata": {
    "ExecuteTime": {
     "end_time": "2024-07-30T11:31:19.054766Z",
     "start_time": "2024-07-30T11:31:19.051871Z"
    }
   },
   "outputs": [],
   "source": [
    "# with open('/home/preclineu/chafra/Desktop/data/index_csv_1q21_del.txt', 'w') as file:\n",
    "#     file.write('\\n'.join(str(index) for index in devation_cnv[devation_cnv['Pathogenic_CNV']=='1q21.1del'].index))"
   ]
  },
  {
   "cell_type": "code",
   "execution_count": 77,
   "id": "35d0519a",
   "metadata": {
    "ExecuteTime": {
     "end_time": "2024-07-30T11:31:19.066801Z",
     "start_time": "2024-07-30T11:31:19.059205Z"
    }
   },
   "outputs": [],
   "source": [
    "# plt.hist(deviation_counts['positive_count'], bins=50, color = '#666666')\n",
    "# for i in devation_cnv.positive_count.values:\n",
    "#      plt.plot([i], 500, 'o') # Your original list\n",
    "# plt.xlabel('Number positive deviations')\n",
    "# plt.ylabel('Frequency')\n",
    "# plt.title('Number positive deviations', fontweight=\"bold\")\n",
    "# plt.savefig('/home/preclineu/chafra/Desktop/figures/TOP/extreme_pos_dev_cnv.png',dpi=300, bbox_inches = 'tight')\n",
    "# plt.show()"
   ]
  },
  {
   "cell_type": "markdown",
   "id": "c67059f9",
   "metadata": {
    "ExecuteTime": {
     "end_time": "2023-05-11T11:26:41.478014Z",
     "start_time": "2023-05-11T11:26:34.348134Z"
    }
   },
   "source": [
    "# Box plots deviation scores"
   ]
  },
  {
   "cell_type": "code",
   "execution_count": 78,
   "id": "0e4f6fe2",
   "metadata": {
    "ExecuteTime": {
     "end_time": "2024-07-30T11:31:19.094033Z",
     "start_time": "2024-07-30T11:31:19.071832Z"
    }
   },
   "outputs": [],
   "source": [
    "deviation_counts['all_counts'] = deviation_counts['positive_count'] + deviation_counts['negative_count']\n",
    "HC_pos = deviation_counts[deviation_counts['CNV'] == 0].positive_count.values\n",
    "CNV_pos = deviation_counts[deviation_counts['CNV'] == 1].positive_count.values\n",
    "HC_neg = deviation_counts[deviation_counts['CNV'] == 0].negative_count.values\n",
    "CNV_neg = deviation_counts[deviation_counts['CNV'] == 1].negative_count.values"
   ]
  },
  {
   "cell_type": "markdown",
   "id": "2e09ce39",
   "metadata": {
    "ExecuteTime": {
     "end_time": "2023-05-11T11:26:41.478014Z",
     "start_time": "2023-05-11T11:26:34.348134Z"
    }
   },
   "source": [
    "The Mann-Whitney U test is a nonparametric test of the null hypothesis that the distribution underlying sample x is the same as the distribution underlying sample y. It is often used as a test of difference in location between distributions.\n",
    "'less': the distribution underlying x is stochastically less than the distribution underlying y, i.e. F(u) > G(u) for all u."
   ]
  },
  {
   "cell_type": "code",
   "execution_count": 79,
   "id": "6b9d636b",
   "metadata": {
    "ExecuteTime": {
     "end_time": "2024-07-30T11:31:19.101501Z",
     "start_time": "2024-07-30T11:31:19.098875Z"
    }
   },
   "outputs": [],
   "source": [
    "# U1, p = mannwhitneyu(HC_neg, CNV_neg, alternative='two-sided')\n",
    "# print(U1)\n",
    "# print(p)"
   ]
  },
  {
   "cell_type": "code",
   "execution_count": 80,
   "id": "ceb89717",
   "metadata": {
    "ExecuteTime": {
     "end_time": "2024-07-30T11:31:19.113349Z",
     "start_time": "2024-07-30T11:31:19.106154Z"
    }
   },
   "outputs": [],
   "source": [
    "# U1, p = mannwhitneyu(HC_pos, CNV_pos, alternative='two-sided')\n",
    "# print(U1)\n",
    "# print(p)"
   ]
  },
  {
   "cell_type": "code",
   "execution_count": 81,
   "id": "d00284f8",
   "metadata": {
    "ExecuteTime": {
     "end_time": "2024-07-30T11:31:20.195384Z",
     "start_time": "2024-07-30T11:31:19.117755Z"
    },
    "scrolled": false
   },
   "outputs": [
    {
     "data": {
      "text/plain": [
       "(array([ 0,  1,  2,  3,  4,  5,  6,  7,  8,  9, 10, 11, 12, 13, 14, 15, 16,\n",
       "        17, 18, 19, 20, 21, 22, 23, 24, 25, 26, 27, 28, 29, 30, 31, 32]),\n",
       " [Text(0, 0, 'No-CNV'),\n",
       "  Text(1, 0, 'NRXN1del'),\n",
       "  Text(2, 0, '15q13.3dup(CHRNA7)'),\n",
       "  Text(3, 0, '2q13dup'),\n",
       "  Text(4, 0, '15q11.2del'),\n",
       "  Text(5, 0, '2q13del(NPHP1)'),\n",
       "  Text(6, 0, '17p12dup(CMT1A)'),\n",
       "  Text(7, 0, '13q12del(CRYL1)'),\n",
       "  Text(8, 0, 'TAR_dup'),\n",
       "  Text(9, 0, '13q12.12del'),\n",
       "  Text(10, 0, '13q12.12dup'),\n",
       "  Text(11, 0, '16p12.1dup'),\n",
       "  Text(12, 0, '16p13.11dup'),\n",
       "  Text(13, 0, '17p12del(HNPP)'),\n",
       "  Text(14, 0, '2q13dup(NPHP1)'),\n",
       "  Text(15, 0, '15q11q13del_BP3-BP4(APBA2,TJP)'),\n",
       "  Text(16, 0, '17p13.3(YWHAE)del'),\n",
       "  Text(17, 0, '16p12.1del'),\n",
       "  Text(18, 0, '15q11.2dup'),\n",
       "  Text(19, 0, '15q13.3dup'),\n",
       "  Text(20, 0, '16p11.2del'),\n",
       "  Text(21, 0, '1q21.1del'),\n",
       "  Text(22, 0, '2q11.2del'),\n",
       "  Text(23, 0, '7q11.23dup_distal'),\n",
       "  Text(24, 0, 'WBS_dup'),\n",
       "  Text(25, 0, '16p11.2dup'),\n",
       "  Text(26, 0, '16p13.11del'),\n",
       "  Text(27, 0, '15q11q13dup_BP3-BP4(APBA2,TJP)'),\n",
       "  Text(28, 0, '1q21.1dup'),\n",
       "  Text(29, 0, '8p23.1dup'),\n",
       "  Text(30, 0, '22q11.2dup'),\n",
       "  Text(31, 0, '2q11.2dup'),\n",
       "  Text(32, 0, '3q29del')])"
      ]
     },
     "execution_count": 81,
     "metadata": {},
     "output_type": "execute_result"
    },
    {
     "data": {
      "image/png": "[encoded data removed]",
      "text/plain": [
       "<Figure size 720x720 with 1 Axes>"
      ]
     },
     "metadata": {
      "needs_background": "light"
     },
     "output_type": "display_data"
    }
   ],
   "source": [
    "fig, ax = plt.subplots(figsize=(10,10))\n",
    "sns.boxplot(data=deviation_counts, y=\"negative_count\", x=\"CNV\", showfliers=False, palette = colors)\n",
    "#sns.stripplot(data=deviation_counts, y=\"negative_count\", x=\"CNV\", color=colors[0], size=1, jitter=True, ax=ax)\n",
    "\n",
    "plt.title('Negative extreme devations scores', fontweight='bold', fontsize=18)\n",
    "plt.ylabel('Count negative devations scores', fontsize=18)\n",
    "plt.xlabel('Group ID', fontsize=18)\n",
    "plt.xticks(rotation=90, fontsize=16)\n",
    "#plt.savefig('/home/preclineu/chafra/Desktop/figures/UKB/'+'box_neg_voxel'+'.png',dpi=300,bbox_inches='tight')"
   ]
  },
  {
   "cell_type": "code",
   "execution_count": 82,
   "id": "8839131f",
   "metadata": {
    "ExecuteTime": {
     "end_time": "2024-07-30T11:31:20.233076Z",
     "start_time": "2024-07-30T11:31:20.206490Z"
    }
   },
   "outputs": [
    {
     "data": {
      "text/html": [
       "<div>\n",
       "<style scoped>\n",
       "    .dataframe tbody tr th:only-of-type {\n",
       "        vertical-align: middle;\n",
       "    }\n",
       "\n",
       "    .dataframe tbody tr th {\n",
       "        vertical-align: top;\n",
       "    }\n",
       "\n",
       "    .dataframe thead th {\n",
       "        text-align: right;\n",
       "    }\n",
       "</style>\n",
       "<table border=\"1\" class=\"dataframe\">\n",
       "  <thead>\n",
       "    <tr style=\"text-align: right;\">\n",
       "      <th></th>\n",
       "      <th>positive_count</th>\n",
       "      <th>negative_count</th>\n",
       "      <th>CNV</th>\n",
       "      <th>CNV_present</th>\n",
       "      <th>CNV_to_model</th>\n",
       "      <th>all_counts</th>\n",
       "    </tr>\n",
       "    <tr>\n",
       "      <th>sub_id</th>\n",
       "      <th></th>\n",
       "      <th></th>\n",
       "      <th></th>\n",
       "      <th></th>\n",
       "      <th></th>\n",
       "      <th></th>\n",
       "    </tr>\n",
       "  </thead>\n",
       "  <tbody>\n",
       "    <tr>\n",
       "      <th>3657322</th>\n",
       "      <td>2433</td>\n",
       "      <td>1204</td>\n",
       "      <td>No-CNV</td>\n",
       "      <td>1</td>\n",
       "      <td>0</td>\n",
       "      <td>3637</td>\n",
       "    </tr>\n",
       "    <tr>\n",
       "      <th>2536505</th>\n",
       "      <td>10392</td>\n",
       "      <td>333</td>\n",
       "      <td>No-CNV</td>\n",
       "      <td>1</td>\n",
       "      <td>0</td>\n",
       "      <td>10725</td>\n",
       "    </tr>\n",
       "    <tr>\n",
       "      <th>1126179</th>\n",
       "      <td>2022</td>\n",
       "      <td>4932</td>\n",
       "      <td>No-CNV</td>\n",
       "      <td>1</td>\n",
       "      <td>0</td>\n",
       "      <td>6954</td>\n",
       "    </tr>\n",
       "    <tr>\n",
       "      <th>4841341</th>\n",
       "      <td>2834</td>\n",
       "      <td>1086</td>\n",
       "      <td>No-CNV</td>\n",
       "      <td>1</td>\n",
       "      <td>0</td>\n",
       "      <td>3920</td>\n",
       "    </tr>\n",
       "    <tr>\n",
       "      <th>579665</th>\n",
       "      <td>2597</td>\n",
       "      <td>3520</td>\n",
       "      <td>No-CNV</td>\n",
       "      <td>1</td>\n",
       "      <td>0</td>\n",
       "      <td>6117</td>\n",
       "    </tr>\n",
       "    <tr>\n",
       "      <th>...</th>\n",
       "      <td>...</td>\n",
       "      <td>...</td>\n",
       "      <td>...</td>\n",
       "      <td>...</td>\n",
       "      <td>...</td>\n",
       "      <td>...</td>\n",
       "    </tr>\n",
       "    <tr>\n",
       "      <th>5978038</th>\n",
       "      <td>1521</td>\n",
       "      <td>6139</td>\n",
       "      <td>2q13del(NPHP1)</td>\n",
       "      <td>1</td>\n",
       "      <td>0</td>\n",
       "      <td>7660</td>\n",
       "    </tr>\n",
       "    <tr>\n",
       "      <th>5984314</th>\n",
       "      <td>225</td>\n",
       "      <td>13867</td>\n",
       "      <td>15q13.3dup(CHRNA7)</td>\n",
       "      <td>1</td>\n",
       "      <td>0</td>\n",
       "      <td>14092</td>\n",
       "    </tr>\n",
       "    <tr>\n",
       "      <th>6001645</th>\n",
       "      <td>1042</td>\n",
       "      <td>4734</td>\n",
       "      <td>15q13.3dup(CHRNA7)</td>\n",
       "      <td>1</td>\n",
       "      <td>0</td>\n",
       "      <td>5776</td>\n",
       "    </tr>\n",
       "    <tr>\n",
       "      <th>6003965</th>\n",
       "      <td>1216</td>\n",
       "      <td>6332</td>\n",
       "      <td>2q13del(NPHP1)</td>\n",
       "      <td>1</td>\n",
       "      <td>0</td>\n",
       "      <td>7548</td>\n",
       "    </tr>\n",
       "    <tr>\n",
       "      <th>6018262</th>\n",
       "      <td>5759</td>\n",
       "      <td>243</td>\n",
       "      <td>15q13.3dup(CHRNA7)</td>\n",
       "      <td>1</td>\n",
       "      <td>0</td>\n",
       "      <td>6002</td>\n",
       "    </tr>\n",
       "  </tbody>\n",
       "</table>\n",
       "<p>9992 rows × 6 columns</p>\n",
       "</div>"
      ],
      "text/plain": [
       "         positive_count  negative_count                 CNV CNV_present  \\\n",
       "sub_id                                                                    \n",
       "3657322            2433            1204              No-CNV           1   \n",
       "2536505           10392             333              No-CNV           1   \n",
       "1126179            2022            4932              No-CNV           1   \n",
       "4841341            2834            1086              No-CNV           1   \n",
       "579665             2597            3520              No-CNV           1   \n",
       "...                 ...             ...                 ...         ...   \n",
       "5978038            1521            6139      2q13del(NPHP1)           1   \n",
       "5984314             225           13867  15q13.3dup(CHRNA7)           1   \n",
       "6001645            1042            4734  15q13.3dup(CHRNA7)           1   \n",
       "6003965            1216            6332      2q13del(NPHP1)           1   \n",
       "6018262            5759             243  15q13.3dup(CHRNA7)           1   \n",
       "\n",
       "        CNV_to_model  all_counts  \n",
       "sub_id                            \n",
       "3657322            0        3637  \n",
       "2536505            0       10725  \n",
       "1126179            0        6954  \n",
       "4841341            0        3920  \n",
       "579665             0        6117  \n",
       "...              ...         ...  \n",
       "5978038            0        7660  \n",
       "5984314            0       14092  \n",
       "6001645            0        5776  \n",
       "6003965            0        7548  \n",
       "6018262            0        6002  \n",
       "\n",
       "[9992 rows x 6 columns]"
      ]
     },
     "execution_count": 82,
     "metadata": {},
     "output_type": "execute_result"
    }
   ],
   "source": [
    "deviation_counts"
   ]
  },
  {
   "cell_type": "code",
   "execution_count": 83,
   "id": "c59d7018",
   "metadata": {
    "ExecuteTime": {
     "end_time": "2024-07-30T11:31:20.391407Z",
     "start_time": "2024-07-30T11:31:20.237683Z"
    },
    "scrolled": true
   },
   "outputs": [
    {
     "name": "stdout",
     "output_type": "stream",
     "text": [
      "13q12.12del\n",
      "Min: 131\n",
      "Max: 131\n",
      "Median: 131.0\n",
      "\n",
      "13q12.12dup\n",
      "Min: 270\n",
      "Max: 13460\n",
      "Median: 2023.5\n",
      "\n",
      "13q12del(CRYL1)\n",
      "Min: 1262\n",
      "Max: 10068\n",
      "Median: 3103.0\n",
      "\n",
      "15q11.2del\n",
      "Min: 612\n",
      "Max: 18900\n",
      "Median: 3680.0\n",
      "\n",
      "15q11.2dup\n",
      "Min: 556\n",
      "Max: 26853\n",
      "Median: 4509.0\n",
      "\n",
      "15q11q13del_BP3-BP4(APBA2,TJP)\n",
      "Min: 3545\n",
      "Max: 3545\n",
      "Median: 3545.0\n",
      "\n",
      "15q11q13dup_BP3-BP4(APBA2,TJP)\n",
      "Min: 2298\n",
      "Max: 8582\n",
      "Median: 5440.0\n",
      "\n",
      "15q13.3dup\n",
      "Min: 1316\n",
      "Max: 8783\n",
      "Median: 5049.5\n",
      "\n",
      "15q13.3dup(CHRNA7)\n",
      "Min: 225\n",
      "Max: 42222\n",
      "Median: 3576.5\n",
      "\n",
      "16p11.2del\n",
      "Min: 1189\n",
      "Max: 1189\n",
      "Median: 1189.0\n",
      "\n",
      "16p11.2dup\n",
      "Min: 3600\n",
      "Max: 3600\n",
      "Median: 3600.0\n",
      "\n",
      "16p12.1del\n",
      "Min: 682\n",
      "Max: 8332\n",
      "Median: 3273.0\n",
      "\n",
      "16p12.1dup\n",
      "Min: 1989\n",
      "Max: 12623\n",
      "Median: 4084.0\n",
      "\n",
      "16p13.11del\n",
      "Min: 648\n",
      "Max: 19775\n",
      "Median: 1762.0\n",
      "\n",
      "16p13.11dup\n",
      "Min: 2977\n",
      "Max: 19280\n",
      "Median: 7708.0\n",
      "\n",
      "17p12del(HNPP)\n",
      "Min: 778\n",
      "Max: 32200\n",
      "Median: 4460.0\n",
      "\n",
      "17p12dup(CMT1A)\n",
      "Min: 1468\n",
      "Max: 7234\n",
      "Median: 4047.5\n",
      "\n",
      "17p13.3(YWHAE)del\n",
      "Min: 6137\n",
      "Max: 6137\n",
      "Median: 6137.0\n",
      "\n",
      "1q21.1del\n",
      "Min: 773\n",
      "Max: 16248\n",
      "Median: 3554.0\n",
      "\n",
      "1q21.1dup\n",
      "Min: 2068\n",
      "Max: 11464\n",
      "Median: 2845.0\n",
      "\n",
      "22q11.2dup\n",
      "Min: 7837\n",
      "Max: 7837\n",
      "Median: 7837.0\n",
      "\n",
      "2q11.2del\n",
      "Min: 951\n",
      "Max: 951\n",
      "Median: 951.0\n",
      "\n",
      "2q11.2dup\n",
      "Min: 5554\n",
      "Max: 26171\n",
      "Median: 5900.0\n",
      "\n",
      "2q13del(NPHP1)\n",
      "Min: 312\n",
      "Max: 18623\n",
      "Median: 3957.0\n",
      "\n",
      "2q13dup\n",
      "Min: 264\n",
      "Max: 694\n",
      "Median: 479.0\n",
      "\n",
      "2q13dup(NPHP1)\n",
      "Min: 201\n",
      "Max: 22040\n",
      "Median: 3723.0\n",
      "\n",
      "3q29del\n",
      "Min: 5048\n",
      "Max: 5048\n",
      "Median: 5048.0\n",
      "\n",
      "7q11.23dup_distal\n",
      "Min: 2113\n",
      "Max: 4840\n",
      "Median: 3476.5\n",
      "\n",
      "8p23.1dup\n",
      "Min: 3370\n",
      "Max: 3370\n",
      "Median: 3370.0\n",
      "\n",
      "NRXN1del\n",
      "Min: 2991\n",
      "Max: 11739\n",
      "Median: 7368.5\n",
      "\n",
      "No-CNV\n",
      "Min: 3\n",
      "Max: 58249\n",
      "Median: 3568.0\n",
      "\n",
      "TAR_dup\n",
      "Min: 309\n",
      "Max: 8156\n",
      "Median: 1922.0\n",
      "\n",
      "WBS_dup\n",
      "Min: 5189\n",
      "Max: 5189\n",
      "Median: 5189.0\n",
      "\n"
     ]
    }
   ],
   "source": [
    "# Group data by 'CNV'\n",
    "grouped = deviation_counts.groupby('CNV')\n",
    "\n",
    "# Function to calculate whiskers\n",
    "def calc_whiskers(values, q1, q3):\n",
    "    iqr = q3 - q1\n",
    "    whisker_low = max(values.min(), q1 - 1.5 * iqr)\n",
    "    whisker_high = min(values.max(), q3 + 1.5 * iqr)\n",
    "    return whisker_low, whisker_high\n",
    "\n",
    "# Initialize a dictionary to store results\n",
    "statistics = {}\n",
    "\n",
    "# Calculate statistics for each group\n",
    "for name, group in grouped:\n",
    "    values = group['positive_count']\n",
    "    minimum = values.min()\n",
    "    maximum = values.max()\n",
    "    median = values.median()\n",
    "    q1 = values.quantile(0.25)\n",
    "    q3 = values.quantile(0.75)\n",
    "    whisker_low, whisker_high = calc_whiskers(values, q1, q3)\n",
    "\n",
    "    # Store the results in a dictionary\n",
    "    statistics[name] = {\n",
    "        'Min': minimum,\n",
    "        'Max': maximum,\n",
    "        'Median': median,\n",
    "        'Q1': q1,\n",
    "        'Q3': q3,\n",
    "        'Whisker Low': whisker_low,\n",
    "        'Whisker High': whisker_high\n",
    "    }\n",
    "\n",
    "# Print or store the results\n",
    "for group, stats in statistics.items():\n",
    "    print(f\"{group}\")\n",
    "    print(f\"Min: {stats['Min']}\")\n",
    "    print(f\"Max: {stats['Max']}\")\n",
    "    print(f\"Median: {stats['Median']}\")\n",
    "    #print(f\"Q1: {stats['Q1']}\")\n",
    "    #print(f\"Q3: {stats['Q3']}\")\n",
    "    #print(f\"Whisker Low: {stats['Whisker Low']}\")\n",
    "    #print(f\"Whisker High: {stats['Whisker High']}\")\n",
    "    print()\n"
   ]
  },
  {
   "cell_type": "code",
   "execution_count": 84,
   "id": "1c133683",
   "metadata": {
    "ExecuteTime": {
     "end_time": "2024-07-30T11:31:21.360413Z",
     "start_time": "2024-07-30T11:31:20.412998Z"
    },
    "scrolled": false
   },
   "outputs": [
    {
     "data": {
      "text/plain": [
       "(array([ 0,  1,  2,  3,  4,  5,  6,  7,  8,  9, 10, 11, 12, 13, 14, 15, 16,\n",
       "        17, 18, 19, 20, 21, 22, 23, 24, 25, 26, 27, 28, 29, 30, 31, 32]),\n",
       " [Text(0, 0, 'No-CNV'),\n",
       "  Text(1, 0, 'NRXN1del'),\n",
       "  Text(2, 0, '15q13.3dup(CHRNA7)'),\n",
       "  Text(3, 0, '2q13dup'),\n",
       "  Text(4, 0, '15q11.2del'),\n",
       "  Text(5, 0, '2q13del(NPHP1)'),\n",
       "  Text(6, 0, '17p12dup(CMT1A)'),\n",
       "  Text(7, 0, '13q12del(CRYL1)'),\n",
       "  Text(8, 0, 'TAR_dup'),\n",
       "  Text(9, 0, '13q12.12del'),\n",
       "  Text(10, 0, '13q12.12dup'),\n",
       "  Text(11, 0, '16p12.1dup'),\n",
       "  Text(12, 0, '16p13.11dup'),\n",
       "  Text(13, 0, '17p12del(HNPP)'),\n",
       "  Text(14, 0, '2q13dup(NPHP1)'),\n",
       "  Text(15, 0, '15q11q13del_BP3-BP4(APBA2,TJP)'),\n",
       "  Text(16, 0, '17p13.3(YWHAE)del'),\n",
       "  Text(17, 0, '16p12.1del'),\n",
       "  Text(18, 0, '15q11.2dup'),\n",
       "  Text(19, 0, '15q13.3dup'),\n",
       "  Text(20, 0, '16p11.2del'),\n",
       "  Text(21, 0, '1q21.1del'),\n",
       "  Text(22, 0, '2q11.2del'),\n",
       "  Text(23, 0, '7q11.23dup_distal'),\n",
       "  Text(24, 0, 'WBS_dup'),\n",
       "  Text(25, 0, '16p11.2dup'),\n",
       "  Text(26, 0, '16p13.11del'),\n",
       "  Text(27, 0, '15q11q13dup_BP3-BP4(APBA2,TJP)'),\n",
       "  Text(28, 0, '1q21.1dup'),\n",
       "  Text(29, 0, '8p23.1dup'),\n",
       "  Text(30, 0, '22q11.2dup'),\n",
       "  Text(31, 0, '2q11.2dup'),\n",
       "  Text(32, 0, '3q29del')])"
      ]
     },
     "execution_count": 84,
     "metadata": {},
     "output_type": "execute_result"
    },
    {
     "data": {
      "image/png": "[encoded data removed]",
      "text/plain": [
       "<Figure size 720x720 with 1 Axes>"
      ]
     },
     "metadata": {
      "needs_background": "light"
     },
     "output_type": "display_data"
    }
   ],
   "source": [
    "fig, ax = plt.subplots(figsize=(10,10))\n",
    "sns.boxplot(data=deviation_counts, y=\"positive_count\", showfliers=False, x=\"CNV\", palette = colors)\n",
    "plt.title('Positive extreme devations scores', fontweight='bold', fontsize=18)\n",
    "plt.ylabel('Count positive devations scores', fontsize=18)\n",
    "plt.xlabel('Group ID', fontsize=18)\n",
    "plt.xticks(rotation=90, fontsize=16)\n",
    "#plt.savefig('/home/preclineu/chafra/Desktop/figures/UKB/'+'box_pos_voxel'+'.png',dpi=300,bbox_inches='tight')"
   ]
  },
  {
   "cell_type": "code",
   "execution_count": 85,
   "id": "174eae08",
   "metadata": {
    "ExecuteTime": {
     "end_time": "2024-07-30T11:31:21.367870Z",
     "start_time": "2024-07-30T11:31:21.365134Z"
    }
   },
   "outputs": [],
   "source": [
    "# fig, ax = plt.subplots(figsize=(20,60))\n",
    "# sns.violinplot(data=deviation_counts, x=\"negative_count\", y=\"CNV\", inner='box', ax=ax, palette = colors, cut=0);\n",
    "# plt.legend=False\n",
    "# plt.title('Negative extreme devations scores', fontweight='bold')\n",
    "# plt.ylabel('Count negative devations scores')\n",
    "# plt.xlabel('Group ID')\n",
    "# plt.savefig('/home/preclineu/chafra/Desktop/figures/UKB/'+'violin_neg'+'.png',dpi=300,bbox_inches='tight')"
   ]
  },
  {
   "cell_type": "code",
   "execution_count": 86,
   "id": "548f5fca",
   "metadata": {
    "ExecuteTime": {
     "end_time": "2024-07-30T11:31:21.382745Z",
     "start_time": "2024-07-30T11:31:21.369114Z"
    }
   },
   "outputs": [],
   "source": [
    "# fig, ax = plt.subplots(figsize=(20,60))\n",
    "# sns.violinplot(data=deviation_counts, x=\"positive_count\", y=\"CNV\", inner='box', ax=ax, palette = colors, cut=0);\n",
    "# plt.legend=False\n",
    "# plt.title('Positive extreme devations scores', fontweight='bold')\n",
    "# plt.ylabel('Count positive devations scores')\n",
    "# plt.xlabel('Group ID')\n",
    "# plt.savefig('/home/preclineu/chafra/Desktop/figures/UKB/'+'violin_pos'+'.png',dpi=300,bbox_inches='tight')"
   ]
  },
  {
   "cell_type": "code",
   "execution_count": 87,
   "id": "befdd066",
   "metadata": {
    "ExecuteTime": {
     "end_time": "2024-07-30T11:31:21.400525Z",
     "start_time": "2024-07-30T11:31:21.384241Z"
    },
    "run_control": {
     "marked": true
    }
   },
   "outputs": [],
   "source": [
    "# plt.hist(deviation_counts['positive_count'], bins=50, color = '#666666')\n",
    "# for i in devation_cnv.positive_count.values:\n",
    "#      plt.plot([i], 500, 'o') # Your original list\n",
    "# plt.xlabel('Number positive deviations')\n",
    "# plt.ylabel('Frequency')\n",
    "# plt.title('Number positive deviations', fontweight=\"bold\")\n",
    "# plt.savefig('/home/preclineu/chafra/Desktop/figures/TOP/extreme_pos_dev_cnv.png',dpi=300, bbox_inches = 'tight')\n",
    "# plt.show()\n"
   ]
  },
  {
   "cell_type": "code",
   "execution_count": 88,
   "id": "96279af3",
   "metadata": {
    "ExecuteTime": {
     "end_time": "2024-07-30T11:31:22.796256Z",
     "start_time": "2024-07-30T11:31:21.402166Z"
    }
   },
   "outputs": [
    {
     "data": {
      "text/plain": [
       "(array([ 0,  1,  2,  3,  4,  5,  6,  7,  8,  9, 10, 11, 12, 13, 14, 15, 16,\n",
       "        17, 18, 19, 20, 21, 22, 23, 24, 25, 26, 27, 28, 29, 30, 31, 32]),\n",
       " [Text(0, 0, 'No-CNV'),\n",
       "  Text(1, 0, 'NRXN1del'),\n",
       "  Text(2, 0, '15q13.3dup(CHRNA7)'),\n",
       "  Text(3, 0, '2q13dup'),\n",
       "  Text(4, 0, '15q11.2del'),\n",
       "  Text(5, 0, '2q13del(NPHP1)'),\n",
       "  Text(6, 0, '17p12dup(CMT1A)'),\n",
       "  Text(7, 0, '13q12del(CRYL1)'),\n",
       "  Text(8, 0, 'TAR_dup'),\n",
       "  Text(9, 0, '13q12.12del'),\n",
       "  Text(10, 0, '13q12.12dup'),\n",
       "  Text(11, 0, '16p12.1dup'),\n",
       "  Text(12, 0, '16p13.11dup'),\n",
       "  Text(13, 0, '17p12del(HNPP)'),\n",
       "  Text(14, 0, '2q13dup(NPHP1)'),\n",
       "  Text(15, 0, '15q11q13del_BP3-BP4(APBA2,TJP)'),\n",
       "  Text(16, 0, '17p13.3(YWHAE)del'),\n",
       "  Text(17, 0, '16p12.1del'),\n",
       "  Text(18, 0, '15q11.2dup'),\n",
       "  Text(19, 0, '15q13.3dup'),\n",
       "  Text(20, 0, '16p11.2del'),\n",
       "  Text(21, 0, '1q21.1del'),\n",
       "  Text(22, 0, '2q11.2del'),\n",
       "  Text(23, 0, '7q11.23dup_distal'),\n",
       "  Text(24, 0, 'WBS_dup'),\n",
       "  Text(25, 0, '16p11.2dup'),\n",
       "  Text(26, 0, '16p13.11del'),\n",
       "  Text(27, 0, '15q11q13dup_BP3-BP4(APBA2,TJP)'),\n",
       "  Text(28, 0, '1q21.1dup'),\n",
       "  Text(29, 0, '8p23.1dup'),\n",
       "  Text(30, 0, '22q11.2dup'),\n",
       "  Text(31, 0, '2q11.2dup'),\n",
       "  Text(32, 0, '3q29del')])"
      ]
     },
     "execution_count": 88,
     "metadata": {},
     "output_type": "execute_result"
    },
    {
     "data": {
      "image/png": "[encoded data removed]",
      "text/plain": [
       "<Figure size 1440x720 with 1 Axes>"
      ]
     },
     "metadata": {
      "needs_background": "light"
     },
     "output_type": "display_data"
    }
   ],
   "source": [
    "fig, ax = plt.subplots(figsize=(20,10))\n",
    "sns.violinplot(data=deviation_counts, y=\"positive_count\", x=\"CNV\", inner='box', ax=ax, palette = colors);\n",
    "plt.legend=False\n",
    "plt.title('Positive extreme devations scores', fontweight='bold')\n",
    "plt.ylabel('Count positive devations scores')\n",
    "plt.xlabel('Group ID')\n",
    "plt.xticks(rotation=90)\n",
    "#plt.savefig('/home/preclineu/chafra/Desktop/figures/UKB/'+'violin_pos'+'.png',dpi=300,bbox_inches='tight')"
   ]
  },
  {
   "cell_type": "markdown",
   "id": "eb67644e",
   "metadata": {},
   "source": [
    "# Correlation to behaviour"
   ]
  },
  {
   "cell_type": "code",
   "execution_count": 89,
   "id": "1754a667",
   "metadata": {
    "ExecuteTime": {
     "end_time": "2024-07-30T11:31:22.811894Z",
     "start_time": "2024-07-30T11:31:22.800517Z"
    }
   },
   "outputs": [],
   "source": [
    "def retrieve_UKBB_covariates(csv_file_path, fields_code_list, fileds_name_list, \n",
    "                             save_path = None, drop_nans = True):\n",
    "    '''\n",
    "    Example:\n",
    "        csv_file_path = '/project_freenas/3022017.02/UKB/phenotypes/ukb35187.csv'\n",
    "        save_path =  '/project_freenas/3022017.02/UKB/phenotypes/test.csv'\n",
    "        fields_code_list = ['21003-2.0', '31-0.0', '54-2.0']\n",
    "        fileds_name_list = ['age', 'gender', 'site_id']\n",
    "        \n",
    "        covariates, subs = retrieve_UKBB_covariates(csv_file_path, fields_code_list, \n",
    "                                          fileds_name_list, save_path)\n",
    "    '''\n",
    "    \n",
    "    ukbb_covariates = pd.read_csv(csv_file_path, encoding= 'unicode_escape', \n",
    "                                   usecols=['eid'] + fields_code_list)\n",
    "    if drop_nans:\n",
    "        ukbb_covariates = ukbb_covariates.dropna()\n",
    "    ukbb_subs = list(ukbb_covariates['eid'])\n",
    "    ukbb_subs = [str(u) for u in ukbb_subs]\n",
    "    ukbb_covariates['eid'] = ukbb_subs\n",
    "    ukbb_covariates = ukbb_covariates.set_index('eid')\n",
    "    c = dict()\n",
    "    for i, code in enumerate(fields_code_list):\n",
    "        c[code] = fileds_name_list[i]\n",
    "    ukbb_covariates = ukbb_covariates.rename(columns=c)\n",
    "    if save_path is not None:\n",
    "        ukbb_covariates.to_csv(save_path)\n",
    "    return ukbb_covariates, ukbb_subs"
   ]
  },
  {
   "cell_type": "code",
   "execution_count": 90,
   "id": "e0a42fb8",
   "metadata": {
    "ExecuteTime": {
     "end_time": "2024-07-30T11:31:32.197367Z",
     "start_time": "2024-07-30T11:31:22.817032Z"
    },
    "run_control": {
     "marked": true
    }
   },
   "outputs": [],
   "source": [
    "# Remove num memory, for very few participants and pros mem, as categorical\n",
    "# https://biobank.ctsu.ox.ac.uk/crystal/label.cgi?id=100026\n",
    "cp_code_list = ['4282-2.0', # Numeric memory\n",
    "                '20016-2.0', # Reasoning/fluid int\n",
    "                '20023-2.0', # Reaction time\n",
    "                '399-2.2', # Visual memory, pair matching\n",
    "                '21004-2.0', # tower_rearranging, number puzzles correct\n",
    "                #'6348-2.0', # duration trail n\n",
    "                #'6350-2.0', # duration trail a\n",
    "                '6373-2.0', # matrix pattern puzzles solved\n",
    "                '23324-2.0' # digits matched correctly\n",
    "               ] #  399 had 3 pair and 6 pair\n",
    "cp_name_list = ['numeric memory',\n",
    "                'fluid intelligence', \n",
    "                'reaction time', \n",
    "                'visual memory', \n",
    "                'tower rearranging', \n",
    "                #'trail making n', \n",
    "                #'trail making a',\n",
    "                'matrix pattern completion', \n",
    "                'symbol digit substitution'\n",
    "               ] #'numeric_memory'\n",
    "CPs, subs = retrieve_UKBB_covariates('/project_freenas/3022017.02/UKB/phenotypes/current/32_cognitive_phenotypes.csv', cp_code_list, cp_name_list)\n",
    "CPs.index = CPs.index.astype(int)"
   ]
  },
  {
   "cell_type": "markdown",
   "id": "5a3de86e",
   "metadata": {},
   "source": [
    "The trail making test contains a lot of zeros and is very non-normal so we remove the test for now."
   ]
  },
  {
   "cell_type": "code",
   "execution_count": 91,
   "id": "cd5b46ba",
   "metadata": {
    "ExecuteTime": {
     "end_time": "2024-07-30T11:31:32.222414Z",
     "start_time": "2024-07-30T11:31:32.217891Z"
    },
    "scrolled": false,
    "tags": []
   },
   "outputs": [],
   "source": [
    "if plot:\n",
    "    for cp in cp_name_list:\n",
    "        plt.figure()\n",
    "        sns.histplot(data=CPs[cp], bins = 50, color=colors[1])\n",
    "        plt.title(cp, fontweight='bold')\n",
    "        #plt.savefig(save_path+'original_'+cp+'.png',dpi=300, bbox_inches = 'tight')"
   ]
  },
  {
   "cell_type": "code",
   "execution_count": 92,
   "id": "060e92c9",
   "metadata": {
    "ExecuteTime": {
     "end_time": "2024-07-30T11:31:32.257592Z",
     "start_time": "2024-07-30T11:31:32.228975Z"
    },
    "run_control": {
     "marked": true
    }
   },
   "outputs": [],
   "source": [
    "CPs['visual memory'] = np.log1p(CPs['visual memory'])\n",
    "CPs['reaction time'] = np.log(CPs['reaction time'])\n",
    "# CPs = CPs[CPs['trail making n'] !=0]\n",
    "# CPs = CPs[CPs['trail making a'] !=0]\n",
    "# CPs['trail making n'] = np.log(CPs['trail making n'])\n",
    "# CPs['trail making a'] = np.log(CPs['trail making a'])\n",
    "standardize = lambda x: (x-x.mean()) / x.std() \n",
    "CPs_z = CPs.pipe(standardize)"
   ]
  },
  {
   "cell_type": "code",
   "execution_count": 93,
   "id": "75625e20",
   "metadata": {
    "ExecuteTime": {
     "end_time": "2024-07-30T11:31:32.360188Z",
     "start_time": "2024-07-30T11:31:32.262189Z"
    }
   },
   "outputs": [
    {
     "name": "stdout",
     "output_type": "stream",
     "text": [
      "Correlation: -0.0369\n",
      "P-value: 0.0416\n"
     ]
    }
   ],
   "source": [
    "CPs_z.index = CPs_z.index.astype(str)\n",
    "CPs.index = CPs.index.astype(str)\n",
    "\n",
    "common_index = deviation_counts['negative_count'].index.intersection(CPs_z.index)\n",
    "negative_counts_aligned = deviation_counts['negative_count'].reindex(common_index)\n",
    "CPs_z_aligned = CPs_z.reindex(common_index)\n",
    "pca = PCA(n_components=CPs_z_aligned.shape[1])\n",
    "\n",
    "pca.fit(CPs_z_aligned)\n",
    "transformed_data = pca.transform(CPs_z_aligned)\n",
    "first_component_values = transformed_data[:, 0]\n",
    "correlation, p_value = spearmanr(negative_counts_aligned, first_component_values)\n",
    "\n",
    "print(f\"Correlation: {correlation:.4f}\")\n",
    "print(f\"P-value: {p_value:.4f}\")"
   ]
  },
  {
   "cell_type": "code",
   "execution_count": 94,
   "id": "249bc023",
   "metadata": {
    "ExecuteTime": {
     "end_time": "2024-07-30T11:31:32.386092Z",
     "start_time": "2024-07-30T11:31:32.380876Z"
    }
   },
   "outputs": [
    {
     "data": {
      "text/plain": [
       "3043"
      ]
     },
     "execution_count": 94,
     "metadata": {},
     "output_type": "execute_result"
    }
   ],
   "source": [
    "len(common_index)"
   ]
  },
  {
   "cell_type": "code",
   "execution_count": 95,
   "id": "ff844915",
   "metadata": {
    "ExecuteTime": {
     "end_time": "2024-07-30T11:31:32.414173Z",
     "start_time": "2024-07-30T11:31:32.391146Z"
    }
   },
   "outputs": [
    {
     "name": "stdout",
     "output_type": "stream",
     "text": [
      "Correlation: 0.0304\n",
      "P-value: 0.0932\n"
     ]
    }
   ],
   "source": [
    "positive_counts_aligned = deviation_counts['positive_count'].reindex(common_index)\n",
    "correlation, p_value = spearmanr(positive_counts_aligned, first_component_values)\n",
    "print(f\"Correlation: {correlation:.4f}\")\n",
    "print(f\"P-value: {p_value:.4f}\")"
   ]
  },
  {
   "cell_type": "code",
   "execution_count": 96,
   "id": "ae6dcd40",
   "metadata": {
    "ExecuteTime": {
     "end_time": "2024-07-30T11:31:32.426510Z",
     "start_time": "2024-07-30T11:31:32.415543Z"
    }
   },
   "outputs": [],
   "source": [
    "explained_variance_ratio = pca.explained_variance_ratio_\n",
    "\n",
    "if plot:\n",
    "    plt.figure()\n",
    "    plt.plot(range(1, len(explained_variance_ratio)+1), explained_variance_ratio, marker='.', color=colors[0])\n",
    "    plt.xlabel('Principal Component', fontsize=14)\n",
    "    plt.ylabel('Explained Variance Ratio', fontsize=14)\n",
    "    plt.title('Explained Variance per PC Cognition', fontweight='bold', fontsize=14)\n",
    "    plt.savefig(f'/home/preclineu/chafra/Desktop/figures/UKB/PCA_cog.png', dpi=300, bbox_inches = 'tight')\n",
    "    plt.show()\n",
    "    \n",
    "    plt.figure(figsize=(8, 6))\n",
    "    sns.distplot(negative_counts_aligned, hist=False, rug=True, color=colors[0])\n",
    "    plt.title('Count voxels with large Negative  Z-scores', fontweight='bold', fontsize=20)  \n",
    "    plt.xlabel('Number Negative Deviations', fontsize=20)  \n",
    "    plt.ylabel('Density', fontsize=20) \n",
    "\n",
    "    plt.tight_layout()  \n",
    "    plt.savefig(save_path + 'density_plot_z_scores.png', dpi=300, bbox_inches='tight')\n",
    "    plt.show()"
   ]
  },
  {
   "cell_type": "code",
   "execution_count": 97,
   "id": "c3c203af",
   "metadata": {
    "ExecuteTime": {
     "end_time": "2024-07-30T11:31:32.438295Z",
     "start_time": "2024-07-30T11:31:32.431487Z"
    },
    "jupyter": {
     "source_hidden": true
    },
    "scrolled": false,
    "tags": []
   },
   "outputs": [],
   "source": [
    "if plot:\n",
    "    for cp in cp_name_list:\n",
    "        plt.figure()\n",
    "        sns.histplot(data=CPs_z[cp], bins=50, color=colors[1])\n",
    "        plt.title(cp, fontweight='bold', fontsize=16)\n",
    "        plt.xlabel('Count', fontsize=16)  \n",
    "        plt.ylabel(cp, fontsize=16)  \n",
    "        skewness = round(CPs_z[cp].skew(), 3)\n",
    "        kurtosis = round(CPs_z[cp].kurtosis(), 3)\n",
    "        max_count = np.round(CPs_z[cp], 1).value_counts().max()\n",
    "        plt.xlim(-5, 5)\n",
    "        plt.xticks(fontsize=16)\n",
    "        plt.yticks(fontsize=16)\n",
    "        #plt.text(x=0, y=9500, s=f\"skewness={skewness} kurtosis={kurtosis}\", ha='center', fontsize=12)\n",
    "        plt.savefig('/home/preclineu/chafra/Desktop/figures/' + cp + '.png', dpi=300, bbox_inches='tight')\n"
   ]
  },
  {
   "cell_type": "code",
   "execution_count": 98,
   "id": "cb81e2df",
   "metadata": {
    "ExecuteTime": {
     "end_time": "2024-07-30T11:31:32.462220Z",
     "start_time": "2024-07-30T11:31:32.444586Z"
    }
   },
   "outputs": [],
   "source": [
    "UKB_cnv_schiz = UKB_cnv[UKB_cnv['Pathogenic_CNV'].isin(['15q11.2del', '15q13.3del','16p11.2dup', '16p12.1del', '1q21.1del', '1q21.1dup', '22q11.2del', '3q29del', 'NRXN1del', 'PWS_dup', 'WBS_dup'])]\n",
    "UKB_cnv_dev = UKB_cnv[UKB_cnv['Pathogenic_CNV'].isin(['15q11.2dup', '15q24dup', '16p11.2del', '16p11.2distal_del', '16p11.2distal_dup', '16p13.11del', '17p13.3(PAFAH1B1)del', '17p13.3(YWHAE)del', '17p13.3(PAFAH1B1)dup', '17p13.3(YWHAE)dup', '17q11.2del(NF1)', '17q11.2dup(NF1)', '17q12dup','17q21.31del', '22q11.2distal_del', '22q11.2distal_dup', '22q11.2dup',  '2q11.2del', '2q13del', '2q13dup', '8p23.1dup',  'Potocki-Lupski', '17q12del', 'TAR_del', 'TAR_dup',  'WBS_del', 'W-Hdup'])]"
   ]
  },
  {
   "cell_type": "code",
   "execution_count": 99,
   "id": "c38f3c85",
   "metadata": {
    "ExecuteTime": {
     "end_time": "2024-07-30T11:31:32.681433Z",
     "start_time": "2024-07-30T11:31:32.467280Z"
    }
   },
   "outputs": [],
   "source": [
    "idx = np.intersect1d(CPs_z.index, UKB_cnv.index)\n",
    "idx_schiz = np.intersect1d(CPs_z.index, UKB_cnv_schiz.index)\n",
    "idx_dev = np.intersect1d(CPs_z.index, UKB_cnv_dev.index)"
   ]
  },
  {
   "cell_type": "code",
   "execution_count": 100,
   "id": "f2b4de38-3f3e-4ef0-a76d-140205b28f31",
   "metadata": {
    "ExecuteTime": {
     "end_time": "2024-07-30T11:31:32.694568Z",
     "start_time": "2024-07-30T11:31:32.686188Z"
    }
   },
   "outputs": [],
   "source": [
    "if plot:\n",
    "    plt.figure(figsize=(10, 6))\n",
    "    sns.kdeplot(data=CPs['fluid intelligence'].loc[idx], color=colors[1], label='S-CNV carriers')\n",
    "    sns.kdeplot(data=CPs['fluid intelligence'].loc[idx_dev], color=colors[3], label='D-CNV carriers')\n",
    "    sns.kdeplot(data=CPs['fluid intelligence'][~CPs.index.isin(idx)], bw_method=0.3, color=colors[2], label='non-CNV')\n",
    "    plt.title('Density Plot', fontweight='bold')\n",
    "    plt.xlabel('Fluid Intelligence')\n",
    "    plt.ylabel('Density')\n",
    "    plt.tight_layout()  \n",
    "    plt.savefig(save_path + 'density_plot.png', dpi=300, bbox_inches='tight')\n",
    "    plt.show()\n",
    "\n",
    "    combined_data = CPs['fluid intelligence'].loc[idx].append(CPs['fluid intelligence'].loc[idx_dev])\n",
    "    plt.figure(figsize=(8, 6))\n",
    "    sns.kdeplot(data=combined_data, color=colors[1], label='Pathogenic CNV carriers')\n",
    "    sns.kdeplot(data=CPs['fluid intelligence'][~CPs.index.isin(idx) & ~CPs.index.isin(idx_dev)], bw_method=0.3, color=colors[2], label='non-CNV')\n",
    "    plt.title('Density Plot', fontweight='bold', fontsize=18)  \n",
    "    plt.xlabel('Fluid Intelligence', fontsize=18)  \n",
    "    plt.ylabel('Density', fontsize=18)  \n",
    "    plt.tight_layout()  \n",
    "    plt.savefig(save_path + 'density_plot2.png', dpi=300, bbox_inches='tight')\n",
    "    plt.show()"
   ]
  },
  {
   "cell_type": "code",
   "execution_count": 101,
   "id": "71db9a20",
   "metadata": {
    "ExecuteTime": {
     "end_time": "2024-07-30T11:31:32.709476Z",
     "start_time": "2024-07-30T11:31:32.699376Z"
    }
   },
   "outputs": [
    {
     "data": {
      "text/plain": [
       "42"
      ]
     },
     "execution_count": 101,
     "metadata": {},
     "output_type": "execute_result"
    }
   ],
   "source": [
    "list_develop_cnvs = CNV_summary['UKB_name'][(CNV_summary['Coe_significant']==1.0) & (CNV_summary['Sz-CNV']!=1.0)]\n",
    "len(list_develop_cnvs)"
   ]
  },
  {
   "cell_type": "markdown",
   "id": "4959c472",
   "metadata": {
    "ExecuteTime": {
     "end_time": "2023-07-05T08:36:46.241894Z",
     "start_time": "2023-07-05T08:36:46.237677Z"
    }
   },
   "source": [
    "# Rank  correlation"
   ]
  },
  {
   "cell_type": "code",
   "execution_count": 102,
   "id": "7acf25c7-ecf4-44f6-973d-15f938f1d8f7",
   "metadata": {
    "ExecuteTime": {
     "end_time": "2024-07-30T11:31:32.935364Z",
     "start_time": "2024-07-30T11:31:32.713948Z"
    }
   },
   "outputs": [
    {
     "name": "stdout",
     "output_type": "stream",
     "text": [
      "Rank correlation negative counts: 0.0012135838664285694\n",
      "p-value: 0.9853637681903366\n",
      "Rank correlation positive counts: -0.029786227276149352\n",
      "p-value: 0.6524540894497929\n"
     ]
    }
   ],
   "source": [
    "deviation_counts['CNV'].unique()\n",
    "\n",
    "data = [\n",
    "    ['TAR_del', 'chr1:145,39??145,81', 17, '75 (0.018)', 0, -0.11, 17],\n",
    "    ['TAR_dup', 'chr1:145,39??145,81', 17, '436 (0.1)', 5, -0.12, 7],\n",
    "    ['1q21.1del', 'chr1:146,53??147,39', 9, '112 (0.027)', 7, -0.27, 28],\n",
    "    ['1q21.1dup', 'chr1:146,53??147,39', 9, '176 (0.042)', 5, -0.08, 14],\n",
    "    ['NRXN1del', 'chr2:50,14??51,26', 1, '162 (0.039)', 4, -0.19, 13],\n",
    "    ['2q11.2del', 'chr2:96,74??97,68', 22, '31 (0.007)', 1, -0.13, 13],\n",
    "    ['2q13del(NPHP1)', 'chr2:110,86??110,98', 3, '2446 (0.58)', 0, -0.01, 4],\n",
    "    ['2q13dup(NPHP1)', 'chr2:110,86??110,98', 3, '1972 (0.47)', 0, 0.01, 9],\n",
    "    ['2q13del', 'chr2:111,39??112,01', 3, '53 (0.013)', 3, -0.16, 17],\n",
    "    ['2q13dup', 'chr2:111,39??112,01', 3, '71 (0.017)', 0, -0.02, 6],\n",
    "    ['2q21.1dup', 'chr2:131,48??131,93', 5, '59 (0.014)', 0, 0.07, 9],\n",
    "    ['10q11.21q11.23del', 'chr10:49,39??51,06', 19, '57 (0.014)', 4, -0.18, 7],\n",
    "    ['10q11.21q11.23dup', 'chr10:49,39??51,06', 19, '41 (0.01)', 0, 0.03, 11],\n",
    "    ['13q12del(CRYL1)', 'chr13:20,98??21,10', 2, '379 (0.09)', 1, 0.01, 6],\n",
    "    ['13q12.12del', 'chr13:23,56??24,88', 10, '84 (0.02)', 2, -0.16, 4],\n",
    "    ['13q12.12dup', 'chr13:23,56??24,88', 10, '233 (0.055)', 0, -0.01, 3],\n",
    "    ['15q11.2del', 'chr15:22,81??23,09', 5, '1661 (0.39)', 9, -0.15, 8],\n",
    "    ['15q11.2dup', 'chr15:22,81??23,09', 5, '2039 (0.48)', 5, -0.03, 5],\n",
    "    ['15q11q13dup_BP3-BP4(APBA2,TJP)', 'chr15:29,16??30,38', 4, '53 (0.013)', 2, -0.18, 4],\n",
    "    ['15q13.3dup', 'chr15:31,08??32,46', 8, '240 (0.057)', 6, -0.09, 8],\n",
    "    ['15q13.3dup(CHRNA7)', 'chr15:32,02??32,46', 1, '3023 (0.72)', 1, 0.01, 5],\n",
    "    ['16p13.11del', 'chr16:15,51??16,29', 7, '131 (0.031)', 6, -0.26, 17],\n",
    "    ['16p13.11dup', 'chr16:15,51??16,29', 7, '825 (0.2)', 7, -0.06, 7],\n",
    "    ['16p12.1del', 'chr16:21,95??22,43', 8, '245 (0.058)', 7, -0.10, 11],\n",
    "    ['16p12.1dup', 'chr16:21,95??22,43', 8, '198 (0.047)', 0, -0.09, 3],\n",
    "    ['16p11.2distaldel', 'chr16:28,82??29,05', 11, '58 (0.014)', 7, -0.41, 23],\n",
    "    ['16p11.2distaldup', 'chr16:28,82??29,05', 11, '136 (0.032)', 4, -0.20, 11],\n",
    "    ['16p11.2del', 'chr16:29,65??30,20', 30, '104 (0.025)', 7, -0.34, 38],\n",
    "    ['16p11.2dup', 'chr16:29,65??30,20', 30, '134 (0.032)', 8, -0.41, 29],\n",
    "    ['17p12del(HNPP)', 'chr17:14,14??15,43', 8, '237 (0.056)', 0, 0.01, 5],\n",
    "    ['17p12dup(CMT1A)', 'chr17:14,14??15,43', 8, '124 (0.030)', 2, -0.04, 9],\n",
    "    ['17q12dup', 'chr17:34,81??36,22', 17, '100 (0.024)', 4, -0.18, 14],\n",
    "    ['22q11.2dup', 'chr22:19,04??21,47', 61, '279 (0.066)', 11, -0.32, 14]\n",
    "]\n",
    "\n",
    "columns = ['CNV locus', 'Genomic location (Mb)', 'Number of genes in CNV', 'Number of CNV carriers (%)',\n",
    "           'Number of significant results', 'Average effect size', 'Penetrance (%)']\n",
    "\n",
    "df = pd.DataFrame(data, columns=columns)\n",
    "sorted_df = df.sort_values(by='Average effect size', ascending=True)\n",
    "\n",
    "\n",
    "sorted_df[~sorted_df['CNV locus'].isin(deviation_counts['CNV'].unique())]\n",
    "\n",
    "sorted_df.columns\n",
    "\n",
    "deviation_counts['Average_effect_size'] = 0\n",
    "deviation_counts['Penetrance'] = 0\n",
    "\n",
    "#average_effect_size = 0\n",
    "for i in range(len(sorted_df)):\n",
    "    average_effect_size = sorted_df.loc[sorted_df['CNV locus'] == sorted_df['CNV locus'][i], ['Average effect size']].values\n",
    "    deviation_counts.loc[deviation_counts['CNV'] == sorted_df['CNV locus'][i], ['Average_effect_size']] = average_effect_size\n",
    "\n",
    "filtered_df = deviation_counts[(deviation_counts['Average_effect_size'] < 0)]\n",
    "\n",
    "filtered_df\n",
    "\n",
    "filtered_df = deviation_counts[(deviation_counts['Average_effect_size'] < 0)]\n",
    "\n",
    "ranked_column1 =  filtered_df['Average_effect_size'].rank()\n",
    "ranked_column2 = filtered_df['negative_count'].rank()\n",
    "\n",
    "# Calculate rank correlation and p-value\n",
    "rank_correlation, p_value = spearmanr(ranked_column1, ranked_column2)\n",
    "\n",
    "print(\"Rank correlation negative counts:\", rank_correlation)\n",
    "print(\"p-value:\", p_value)\n",
    "\n",
    "filtered_df = deviation_counts[(deviation_counts['Average_effect_size'] < 0)]\n",
    "\n",
    "ranked_column1 = filtered_df['Average_effect_size'].rank()\n",
    "ranked_column2 = filtered_df['positive_count'].rank()\n",
    "\n",
    "# Calculate rank correlation and p-value\n",
    "rank_correlation, p_value = spearmanr(ranked_column1, ranked_column2)\n",
    "\n",
    "print(\"Rank correlation positive counts:\", rank_correlation)\n",
    "print(\"p-value:\", p_value)"
   ]
  },
  {
   "cell_type": "markdown",
   "id": "c07232bf",
   "metadata": {},
   "source": [
    "# Correlation cognitive component"
   ]
  },
  {
   "cell_type": "code",
   "execution_count": 103,
   "id": "fe07a3c3",
   "metadata": {
    "ExecuteTime": {
     "end_time": "2024-07-30T11:31:32.957648Z",
     "start_time": "2024-07-30T11:31:32.939508Z"
    }
   },
   "outputs": [
    {
     "name": "stdout",
     "output_type": "stream",
     "text": [
      "Mean Absolute Error (MAE): 1.2362\n",
      "Mean Squared Error (MSE): 2.4047\n",
      "R^2 Score: 0.0048\n"
     ]
    }
   ],
   "source": [
    "X_train, X_test, y_train, y_test = train_test_split(negative_counts_aligned.values.reshape(-1, 1), \n",
    "                                                    first_component_values, \n",
    "                                                    test_size=0.3, \n",
    "                                                    random_state=42)\n",
    "\n",
    "enet = ElasticNet(random_state=0)\n",
    "\n",
    "enet.fit(X_train, y_train)\n",
    "\n",
    "# Predict on the test set\n",
    "y_pred = enet.predict(X_test)\n",
    "\n",
    "# Evaluation metrics\n",
    "mae = mean_absolute_error(y_test, y_pred)\n",
    "mse = mean_squared_error(y_test, y_pred)\n",
    "r2 = r2_score(y_test, y_pred)\n",
    "\n",
    "print(f\"Mean Absolute Error (MAE): {mae:.4f}\")\n",
    "print(f\"Mean Squared Error (MSE): {mse:.4f}\")\n",
    "print(f\"R^2 Score: {r2:.4f}\")\n"
   ]
  },
  {
   "cell_type": "code",
   "execution_count": 104,
   "id": "e2342f29",
   "metadata": {
    "ExecuteTime": {
     "end_time": "2024-07-30T11:35:43.838630Z",
     "start_time": "2024-07-30T11:31:32.962536Z"
    }
   },
   "outputs": [
    {
     "name": "stdout",
     "output_type": "stream",
     "text": [
      "Mean Absolute Error (MAE): 1.2537\n",
      "Mean Squared Error (MSE): 2.4655\n",
      "R^2 Score: -0.0204\n"
     ]
    }
   ],
   "source": [
    "Z_df_aligned = Z_df.reindex(common_index)\n",
    "\n",
    "X_train, X_test, y_train, y_test = train_test_split(Z_df_aligned, first_component_values, test_size=0.3, random_state=42)\n",
    "\n",
    "pca = PCA(n_components=2076)\n",
    "pca_data_train = pca.fit_transform(X_train)\n",
    "pca_data_test = pca.transform(X_test)\n",
    "\n",
    "enet = ElasticNet()\n",
    "enet.fit(pca_data_train, y_train)\n",
    "y_pred = enet.predict(pca_data_test)\n",
    "\n",
    "mae = mean_absolute_error(y_test, y_pred)\n",
    "mse = mean_squared_error(y_test, y_pred)\n",
    "r2 = r2_score(y_test, y_pred)\n",
    "\n",
    "print(f\"Mean Absolute Error (MAE): {mae:.4f}\")\n",
    "print(f\"Mean Squared Error (MSE): {mse:.4f}\")\n",
    "print(f\"R^2 Score: {r2:.4f}\")"
   ]
  },
  {
   "cell_type": "code",
   "execution_count": 105,
   "id": "b46cbf64",
   "metadata": {
    "ExecuteTime": {
     "end_time": "2024-07-30T11:35:43.851691Z",
     "start_time": "2024-07-30T11:35:43.844432Z"
    }
   },
   "outputs": [
    {
     "data": {
      "text/plain": [
       "0.00625325"
      ]
     },
     "execution_count": 105,
     "metadata": {},
     "output_type": "execute_result"
    }
   ],
   "source": [
    "# Get coefficients (betas)\n",
    "coefficients = enet.coef_\n",
    "np.max(np.abs(coefficients))"
   ]
  },
  {
   "cell_type": "code",
   "execution_count": 106,
   "id": "7ad81562",
   "metadata": {
    "ExecuteTime": {
     "end_time": "2024-07-30T11:35:44.395209Z",
     "start_time": "2024-07-30T11:35:43.852887Z"
    },
    "scrolled": true
   },
   "outputs": [
    {
     "name": "stdout",
     "output_type": "stream",
     "text": [
      "Coefficient: 0.0063\n",
      "Coefficient: 0.0036\n",
      "Coefficient: 0.0034\n",
      "Coefficient: -0.0033\n",
      "Coefficient: 0.0031\n",
      "Coefficient: -0.0030\n",
      "Coefficient: -0.0026\n",
      "Coefficient: -0.0026\n",
      "Coefficient: 0.0024\n",
      "Coefficient: -0.0023\n",
      "Coefficient: 0.0023\n",
      "Coefficient: -0.0022\n",
      "Coefficient: 0.0022\n",
      "Coefficient: 0.0021\n",
      "Coefficient: 0.0021\n",
      "Coefficient: -0.0020\n",
      "Coefficient: 0.0020\n",
      "Coefficient: -0.0020\n",
      "Coefficient: 0.0019\n",
      "Coefficient: -0.0019\n",
      "Coefficient: 0.0019\n",
      "Coefficient: -0.0019\n",
      "Coefficient: -0.0018\n",
      "Coefficient: 0.0018\n",
      "Coefficient: -0.0018\n",
      "Coefficient: 0.0018\n",
      "Coefficient: -0.0018\n",
      "Coefficient: 0.0017\n",
      "Coefficient: 0.0017\n",
      "Coefficient: -0.0017\n",
      "Coefficient: 0.0017\n",
      "Coefficient: 0.0016\n",
      "Coefficient: -0.0016\n",
      "Coefficient: 0.0016\n",
      "Coefficient: -0.0016\n",
      "Coefficient: 0.0016\n",
      "Coefficient: 0.0016\n",
      "Coefficient: 0.0015\n",
      "Coefficient: 0.0015\n",
      "Coefficient: 0.0015\n",
      "Coefficient: -0.0015\n",
      "Coefficient: 0.0015\n",
      "Coefficient: -0.0014\n",
      "Coefficient: 0.0014\n",
      "Coefficient: -0.0013\n",
      "Coefficient: -0.0013\n",
      "Coefficient: -0.0013\n",
      "Coefficient: 0.0013\n",
      "Coefficient: 0.0013\n",
      "Coefficient: -0.0013\n",
      "Coefficient: 0.0012\n",
      "Coefficient: -0.0012\n",
      "Coefficient: -0.0012\n",
      "Coefficient: -0.0012\n",
      "Coefficient: 0.0012\n",
      "Coefficient: -0.0011\n",
      "Coefficient: -0.0011\n",
      "Coefficient: -0.0011\n",
      "Coefficient: -0.0011\n",
      "Coefficient: 0.0011\n",
      "Coefficient: -0.0011\n",
      "Coefficient: -0.0011\n",
      "Coefficient: 0.0011\n",
      "Coefficient: -0.0011\n",
      "Coefficient: -0.0011\n",
      "Coefficient: 0.0010\n",
      "Coefficient: 0.0010\n",
      "Coefficient: 0.0010\n",
      "Coefficient: 0.0010\n",
      "Coefficient: -0.0010\n",
      "Coefficient: -0.0010\n",
      "Coefficient: -0.0009\n",
      "Coefficient: 0.0009\n",
      "Coefficient: 0.0009\n",
      "Coefficient: -0.0009\n",
      "Coefficient: 0.0009\n",
      "Coefficient: -0.0008\n",
      "Coefficient: 0.0008\n",
      "Coefficient: 0.0008\n",
      "Coefficient: -0.0008\n",
      "Coefficient: -0.0008\n",
      "Coefficient: 0.0008\n",
      "Coefficient: 0.0008\n",
      "Coefficient: -0.0008\n",
      "Coefficient: 0.0008\n",
      "Coefficient: 0.0008\n",
      "Coefficient: 0.0008\n",
      "Coefficient: 0.0007\n",
      "Coefficient: 0.0007\n",
      "Coefficient: -0.0006\n",
      "Coefficient: 0.0006\n",
      "Coefficient: 0.0006\n",
      "Coefficient: 0.0006\n",
      "Coefficient: 0.0006\n",
      "Coefficient: -0.0006\n",
      "Coefficient: 0.0006\n",
      "Coefficient: -0.0006\n",
      "Coefficient: -0.0006\n",
      "Coefficient: 0.0006\n",
      "Coefficient: -0.0005\n",
      "Coefficient: 0.0005\n",
      "Coefficient: 0.0005\n",
      "Coefficient: -0.0005\n",
      "Coefficient: 0.0005\n",
      "Coefficient: -0.0005\n",
      "Coefficient: -0.0004\n",
      "Coefficient: -0.0004\n",
      "Coefficient: -0.0004\n",
      "Coefficient: -0.0004\n",
      "Coefficient: -0.0004\n",
      "Coefficient: 0.0004\n",
      "Coefficient: -0.0004\n",
      "Coefficient: 0.0004\n",
      "Coefficient: 0.0004\n",
      "Coefficient: 0.0004\n",
      "Coefficient: -0.0004\n",
      "Coefficient: 0.0004\n",
      "Coefficient: -0.0003\n",
      "Coefficient: 0.0003\n",
      "Coefficient: -0.0003\n",
      "Coefficient: -0.0003\n",
      "Coefficient: -0.0003\n",
      "Coefficient: -0.0003\n",
      "Coefficient: 0.0003\n",
      "Coefficient: -0.0003\n",
      "Coefficient: -0.0003\n",
      "Coefficient: -0.0003\n",
      "Coefficient: -0.0003\n",
      "Coefficient: 0.0003\n",
      "Coefficient: 0.0003\n",
      "Coefficient: 0.0003\n",
      "Coefficient: -0.0002\n",
      "Coefficient: 0.0002\n",
      "Coefficient: -0.0002\n",
      "Coefficient: 0.0002\n",
      "Coefficient: -0.0002\n",
      "Coefficient: -0.0002\n",
      "Coefficient: -0.0002\n",
      "Coefficient: -0.0002\n",
      "Coefficient: 0.0002\n",
      "Coefficient: -0.0002\n",
      "Coefficient: -0.0002\n",
      "Coefficient: 0.0001\n",
      "Coefficient: -0.0001\n",
      "Coefficient: 0.0001\n",
      "Coefficient: 0.0001\n",
      "Coefficient: -0.0001\n",
      "Coefficient: -0.0001\n",
      "Coefficient: 0.0001\n",
      "Coefficient: -0.0001\n",
      "Coefficient: -0.0001\n",
      "Coefficient: 0.0001\n",
      "Coefficient: -0.0001\n",
      "Coefficient: -0.0001\n",
      "Coefficient: 0.0001\n",
      "Coefficient: 0.0001\n",
      "Coefficient: -0.0001\n",
      "Coefficient: -0.0001\n",
      "Coefficient: -0.0001\n",
      "Coefficient: -0.0001\n",
      "Coefficient: -0.0001\n",
      "Coefficient: 0.0001\n",
      "Coefficient: -0.0000\n",
      "Coefficient: -0.0000\n",
      "Coefficient: 0.0000\n",
      "Coefficient: -0.0000\n",
      "Coefficient: -0.0000\n",
      "Coefficient: 0.0000\n",
      "Coefficient: 0.0000\n",
      "Coefficient: -0.0000\n",
      "Coefficient: 0.0000\n",
      "Coefficient: -0.0000\n",
      "Coefficient: 0.0000\n",
      "Coefficient: -0.0000\n",
      "Coefficient: 0.0000\n",
      "Coefficient: -0.0000\n",
      "Coefficient: -0.0000\n",
      "Coefficient: -0.0000\n",
      "Coefficient: 0.0000\n",
      "Coefficient: -0.0000\n",
      "Coefficient: -0.0000\n",
      "Coefficient: 0.0000\n",
      "Coefficient: 0.0000\n",
      "Coefficient: 0.0000\n",
      "Coefficient: -0.0000\n",
      "Coefficient: -0.0000\n",
      "Coefficient: -0.0000\n",
      "Coefficient: 0.0000\n",
      "Coefficient: -0.0000\n",
      "Coefficient: -0.0000\n",
      "Coefficient: 0.0000\n",
      "Coefficient: 0.0000\n",
      "Coefficient: 0.0000\n",
      "Coefficient: -0.0000\n",
      "Coefficient: 0.0000\n",
      "Coefficient: 0.0000\n",
      "Coefficient: -0.0000\n",
      "Coefficient: 0.0000\n",
      "Coefficient: 0.0000\n",
      "Coefficient: -0.0000\n",
      "Coefficient: 0.0000\n",
      "Coefficient: -0.0000\n",
      "Coefficient: -0.0000\n",
      "Coefficient: -0.0000\n",
      "Coefficient: -0.0000\n",
      "Coefficient: 0.0000\n",
      "Coefficient: 0.0000\n",
      "Coefficient: -0.0000\n",
      "Coefficient: -0.0000\n",
      "Coefficient: -0.0000\n",
      "Coefficient: 0.0000\n",
      "Coefficient: 0.0000\n",
      "Coefficient: -0.0000\n",
      "Coefficient: -0.0000\n",
      "Coefficient: 0.0000\n",
      "Coefficient: -0.0000\n",
      "Coefficient: -0.0000\n",
      "Coefficient: 0.0000\n",
      "Coefficient: -0.0000\n",
      "Coefficient: 0.0000\n",
      "Coefficient: 0.0000\n",
      "Coefficient: -0.0000\n",
      "Coefficient: -0.0000\n",
      "Coefficient: -0.0000\n",
      "Coefficient: -0.0000\n",
      "Coefficient: -0.0000\n",
      "Coefficient: 0.0000\n",
      "Coefficient: 0.0000\n",
      "Coefficient: -0.0000\n",
      "Coefficient: -0.0000\n",
      "Coefficient: -0.0000\n",
      "Coefficient: 0.0000\n",
      "Coefficient: 0.0000\n",
      "Coefficient: -0.0000\n",
      "Coefficient: -0.0000\n",
      "Coefficient: 0.0000\n",
      "Coefficient: -0.0000\n",
      "Coefficient: 0.0000\n",
      "Coefficient: 0.0000\n",
      "Coefficient: -0.0000\n",
      "Coefficient: 0.0000\n",
      "Coefficient: -0.0000\n",
      "Coefficient: -0.0000\n",
      "Coefficient: 0.0000\n",
      "Coefficient: 0.0000\n",
      "Coefficient: -0.0000\n",
      "Coefficient: -0.0000\n",
      "Coefficient: -0.0000\n",
      "Coefficient: -0.0000\n",
      "Coefficient: 0.0000\n",
      "Coefficient: 0.0000\n",
      "Coefficient: -0.0000\n",
      "Coefficient: 0.0000\n",
      "Coefficient: -0.0000\n",
      "Coefficient: 0.0000\n",
      "Coefficient: 0.0000\n",
      "Coefficient: 0.0000\n",
      "Coefficient: 0.0000\n",
      "Coefficient: -0.0000\n",
      "Coefficient: -0.0000\n",
      "Coefficient: -0.0000\n",
      "Coefficient: -0.0000\n",
      "Coefficient: 0.0000\n",
      "Coefficient: 0.0000\n",
      "Coefficient: -0.0000\n",
      "Coefficient: -0.0000\n",
      "Coefficient: 0.0000\n",
      "Coefficient: -0.0000\n",
      "Coefficient: -0.0000\n",
      "Coefficient: -0.0000\n",
      "Coefficient: 0.0000\n",
      "Coefficient: 0.0000\n",
      "Coefficient: -0.0000\n",
      "Coefficient: -0.0000\n",
      "Coefficient: 0.0000\n",
      "Coefficient: -0.0000\n",
      "Coefficient: 0.0000\n",
      "Coefficient: 0.0000\n",
      "Coefficient: -0.0000\n",
      "Coefficient: -0.0000\n",
      "Coefficient: -0.0000\n",
      "Coefficient: 0.0000\n",
      "Coefficient: 0.0000\n",
      "Coefficient: 0.0000\n",
      "Coefficient: 0.0000\n",
      "Coefficient: 0.0000\n",
      "Coefficient: 0.0000\n",
      "Coefficient: -0.0000\n",
      "Coefficient: -0.0000\n",
      "Coefficient: 0.0000\n",
      "Coefficient: 0.0000\n",
      "Coefficient: 0.0000\n",
      "Coefficient: -0.0000\n",
      "Coefficient: -0.0000\n",
      "Coefficient: -0.0000\n",
      "Coefficient: -0.0000\n",
      "Coefficient: -0.0000\n",
      "Coefficient: -0.0000\n",
      "Coefficient: 0.0000\n",
      "Coefficient: -0.0000\n",
      "Coefficient: -0.0000\n",
      "Coefficient: -0.0000\n",
      "Coefficient: 0.0000\n",
      "Coefficient: -0.0000\n",
      "Coefficient: 0.0000\n",
      "Coefficient: -0.0000\n",
      "Coefficient: 0.0000\n",
      "Coefficient: -0.0000\n",
      "Coefficient: -0.0000\n",
      "Coefficient: -0.0000\n",
      "Coefficient: -0.0000\n",
      "Coefficient: -0.0000\n",
      "Coefficient: 0.0000\n",
      "Coefficient: 0.0000\n",
      "Coefficient: -0.0000\n",
      "Coefficient: 0.0000\n",
      "Coefficient: -0.0000\n",
      "Coefficient: -0.0000\n",
      "Coefficient: -0.0000\n",
      "Coefficient: -0.0000\n",
      "Coefficient: 0.0000\n",
      "Coefficient: 0.0000\n",
      "Coefficient: -0.0000\n",
      "Coefficient: -0.0000\n",
      "Coefficient: -0.0000\n",
      "Coefficient: -0.0000\n",
      "Coefficient: 0.0000\n",
      "Coefficient: 0.0000\n",
      "Coefficient: -0.0000\n",
      "Coefficient: -0.0000\n",
      "Coefficient: -0.0000\n",
      "Coefficient: -0.0000\n",
      "Coefficient: -0.0000\n",
      "Coefficient: -0.0000\n",
      "Coefficient: 0.0000\n",
      "Coefficient: -0.0000\n",
      "Coefficient: -0.0000\n",
      "Coefficient: -0.0000\n",
      "Coefficient: 0.0000\n",
      "Coefficient: 0.0000\n",
      "Coefficient: 0.0000\n",
      "Coefficient: -0.0000\n",
      "Coefficient: 0.0000\n",
      "Coefficient: 0.0000\n",
      "Coefficient: -0.0000\n",
      "Coefficient: -0.0000\n",
      "Coefficient: 0.0000\n",
      "Coefficient: 0.0000\n",
      "Coefficient: -0.0000\n",
      "Coefficient: 0.0000\n",
      "Coefficient: -0.0000\n",
      "Coefficient: 0.0000\n",
      "Coefficient: -0.0000\n",
      "Coefficient: 0.0000\n",
      "Coefficient: 0.0000\n",
      "Coefficient: 0.0000\n",
      "Coefficient: 0.0000\n",
      "Coefficient: 0.0000\n",
      "Coefficient: 0.0000\n",
      "Coefficient: -0.0000\n",
      "Coefficient: -0.0000\n",
      "Coefficient: -0.0000\n",
      "Coefficient: -0.0000\n",
      "Coefficient: -0.0000\n",
      "Coefficient: -0.0000\n",
      "Coefficient: 0.0000\n",
      "Coefficient: 0.0000\n",
      "Coefficient: -0.0000\n",
      "Coefficient: -0.0000\n",
      "Coefficient: -0.0000\n",
      "Coefficient: -0.0000\n",
      "Coefficient: -0.0000\n",
      "Coefficient: -0.0000\n",
      "Coefficient: 0.0000\n",
      "Coefficient: -0.0000\n",
      "Coefficient: 0.0000\n",
      "Coefficient: -0.0000\n",
      "Coefficient: -0.0000\n",
      "Coefficient: -0.0000\n",
      "Coefficient: -0.0000\n",
      "Coefficient: 0.0000\n",
      "Coefficient: -0.0000\n",
      "Coefficient: -0.0000\n",
      "Coefficient: 0.0000\n",
      "Coefficient: -0.0000\n",
      "Coefficient: 0.0000\n",
      "Coefficient: 0.0000\n",
      "Coefficient: -0.0000\n",
      "Coefficient: 0.0000\n",
      "Coefficient: -0.0000\n",
      "Coefficient: -0.0000\n",
      "Coefficient: -0.0000\n",
      "Coefficient: 0.0000\n",
      "Coefficient: -0.0000\n",
      "Coefficient: -0.0000\n",
      "Coefficient: 0.0000\n",
      "Coefficient: -0.0000\n",
      "Coefficient: 0.0000\n",
      "Coefficient: -0.0000\n",
      "Coefficient: -0.0000\n",
      "Coefficient: 0.0000\n",
      "Coefficient: 0.0000\n",
      "Coefficient: 0.0000\n",
      "Coefficient: -0.0000\n",
      "Coefficient: 0.0000\n",
      "Coefficient: 0.0000\n",
      "Coefficient: -0.0000\n",
      "Coefficient: -0.0000\n",
      "Coefficient: 0.0000\n",
      "Coefficient: 0.0000\n",
      "Coefficient: -0.0000\n",
      "Coefficient: 0.0000\n",
      "Coefficient: 0.0000\n",
      "Coefficient: -0.0000\n",
      "Coefficient: 0.0000\n",
      "Coefficient: 0.0000\n",
      "Coefficient: -0.0000\n",
      "Coefficient: -0.0000\n",
      "Coefficient: 0.0000\n",
      "Coefficient: 0.0000\n",
      "Coefficient: 0.0000\n",
      "Coefficient: -0.0000\n",
      "Coefficient: -0.0000\n",
      "Coefficient: 0.0000\n",
      "Coefficient: -0.0000\n",
      "Coefficient: 0.0000\n",
      "Coefficient: 0.0000\n",
      "Coefficient: -0.0000\n",
      "Coefficient: 0.0000\n",
      "Coefficient: 0.0000\n",
      "Coefficient: -0.0000\n",
      "Coefficient: -0.0000\n",
      "Coefficient: 0.0000\n",
      "Coefficient: 0.0000\n",
      "Coefficient: 0.0000\n",
      "Coefficient: 0.0000\n",
      "Coefficient: -0.0000\n",
      "Coefficient: 0.0000\n",
      "Coefficient: 0.0000\n",
      "Coefficient: 0.0000\n",
      "Coefficient: 0.0000\n",
      "Coefficient: 0.0000\n",
      "Coefficient: -0.0000\n",
      "Coefficient: 0.0000\n",
      "Coefficient: 0.0000\n",
      "Coefficient: 0.0000\n",
      "Coefficient: -0.0000\n",
      "Coefficient: -0.0000\n",
      "Coefficient: 0.0000\n",
      "Coefficient: -0.0000\n",
      "Coefficient: -0.0000\n",
      "Coefficient: -0.0000\n",
      "Coefficient: 0.0000\n",
      "Coefficient: 0.0000\n",
      "Coefficient: 0.0000\n",
      "Coefficient: 0.0000\n",
      "Coefficient: -0.0000\n",
      "Coefficient: 0.0000\n",
      "Coefficient: 0.0000\n",
      "Coefficient: 0.0000\n",
      "Coefficient: -0.0000\n",
      "Coefficient: 0.0000\n",
      "Coefficient: 0.0000\n",
      "Coefficient: -0.0000\n",
      "Coefficient: 0.0000\n",
      "Coefficient: -0.0000\n",
      "Coefficient: 0.0000\n",
      "Coefficient: -0.0000\n",
      "Coefficient: -0.0000\n",
      "Coefficient: -0.0000\n",
      "Coefficient: -0.0000\n",
      "Coefficient: -0.0000\n",
      "Coefficient: -0.0000\n",
      "Coefficient: -0.0000\n",
      "Coefficient: -0.0000\n",
      "Coefficient: 0.0000\n",
      "Coefficient: -0.0000\n",
      "Coefficient: -0.0000\n",
      "Coefficient: 0.0000\n",
      "Coefficient: 0.0000\n",
      "Coefficient: 0.0000\n",
      "Coefficient: 0.0000\n",
      "Coefficient: 0.0000\n",
      "Coefficient: 0.0000\n",
      "Coefficient: -0.0000\n",
      "Coefficient: 0.0000\n",
      "Coefficient: 0.0000\n",
      "Coefficient: 0.0000\n",
      "Coefficient: 0.0000\n",
      "Coefficient: -0.0000\n",
      "Coefficient: 0.0000\n",
      "Coefficient: -0.0000\n",
      "Coefficient: -0.0000\n",
      "Coefficient: 0.0000\n",
      "Coefficient: -0.0000\n",
      "Coefficient: -0.0000\n",
      "Coefficient: -0.0000\n",
      "Coefficient: 0.0000\n",
      "Coefficient: -0.0000\n",
      "Coefficient: 0.0000\n",
      "Coefficient: -0.0000\n",
      "Coefficient: 0.0000\n",
      "Coefficient: -0.0000\n",
      "Coefficient: 0.0000\n",
      "Coefficient: -0.0000\n",
      "Coefficient: 0.0000\n",
      "Coefficient: -0.0000\n",
      "Coefficient: 0.0000\n",
      "Coefficient: -0.0000\n",
      "Coefficient: 0.0000\n",
      "Coefficient: -0.0000\n",
      "Coefficient: 0.0000\n",
      "Coefficient: 0.0000\n",
      "Coefficient: -0.0000\n",
      "Coefficient: -0.0000\n",
      "Coefficient: 0.0000\n",
      "Coefficient: -0.0000\n",
      "Coefficient: 0.0000\n",
      "Coefficient: 0.0000\n",
      "Coefficient: -0.0000\n",
      "Coefficient: 0.0000\n",
      "Coefficient: -0.0000\n",
      "Coefficient: 0.0000\n",
      "Coefficient: 0.0000\n",
      "Coefficient: -0.0000\n",
      "Coefficient: -0.0000\n",
      "Coefficient: 0.0000\n",
      "Coefficient: -0.0000\n",
      "Coefficient: 0.0000\n",
      "Coefficient: -0.0000\n",
      "Coefficient: -0.0000\n",
      "Coefficient: 0.0000\n",
      "Coefficient: 0.0000\n",
      "Coefficient: 0.0000\n",
      "Coefficient: 0.0000\n",
      "Coefficient: -0.0000\n",
      "Coefficient: -0.0000\n",
      "Coefficient: -0.0000\n",
      "Coefficient: 0.0000\n",
      "Coefficient: -0.0000\n",
      "Coefficient: -0.0000\n",
      "Coefficient: 0.0000\n",
      "Coefficient: 0.0000\n",
      "Coefficient: 0.0000\n",
      "Coefficient: -0.0000\n",
      "Coefficient: 0.0000\n",
      "Coefficient: 0.0000\n",
      "Coefficient: -0.0000\n",
      "Coefficient: -0.0000\n",
      "Coefficient: -0.0000\n",
      "Coefficient: 0.0000\n",
      "Coefficient: 0.0000\n",
      "Coefficient: -0.0000\n",
      "Coefficient: 0.0000\n",
      "Coefficient: -0.0000\n",
      "Coefficient: -0.0000\n",
      "Coefficient: -0.0000\n",
      "Coefficient: 0.0000\n",
      "Coefficient: -0.0000\n",
      "Coefficient: -0.0000\n",
      "Coefficient: 0.0000\n",
      "Coefficient: 0.0000\n",
      "Coefficient: -0.0000\n",
      "Coefficient: -0.0000\n",
      "Coefficient: -0.0000\n",
      "Coefficient: -0.0000\n",
      "Coefficient: 0.0000\n",
      "Coefficient: -0.0000\n",
      "Coefficient: 0.0000\n",
      "Coefficient: 0.0000\n",
      "Coefficient: 0.0000\n",
      "Coefficient: -0.0000\n",
      "Coefficient: 0.0000\n",
      "Coefficient: -0.0000\n",
      "Coefficient: -0.0000\n",
      "Coefficient: 0.0000\n",
      "Coefficient: -0.0000\n",
      "Coefficient: 0.0000\n",
      "Coefficient: 0.0000\n",
      "Coefficient: 0.0000\n",
      "Coefficient: -0.0000\n",
      "Coefficient: -0.0000\n",
      "Coefficient: -0.0000\n",
      "Coefficient: 0.0000\n",
      "Coefficient: -0.0000\n",
      "Coefficient: -0.0000\n",
      "Coefficient: -0.0000\n",
      "Coefficient: 0.0000\n",
      "Coefficient: 0.0000\n",
      "Coefficient: 0.0000\n",
      "Coefficient: -0.0000\n",
      "Coefficient: -0.0000\n",
      "Coefficient: -0.0000\n",
      "Coefficient: 0.0000\n",
      "Coefficient: 0.0000\n",
      "Coefficient: 0.0000\n",
      "Coefficient: 0.0000\n",
      "Coefficient: -0.0000\n",
      "Coefficient: 0.0000\n",
      "Coefficient: -0.0000\n",
      "Coefficient: -0.0000\n",
      "Coefficient: 0.0000\n",
      "Coefficient: 0.0000\n",
      "Coefficient: 0.0000\n",
      "Coefficient: -0.0000\n",
      "Coefficient: 0.0000\n",
      "Coefficient: -0.0000\n",
      "Coefficient: 0.0000\n",
      "Coefficient: -0.0000\n",
      "Coefficient: -0.0000\n",
      "Coefficient: 0.0000\n",
      "Coefficient: 0.0000\n",
      "Coefficient: 0.0000\n",
      "Coefficient: -0.0000\n",
      "Coefficient: -0.0000\n",
      "Coefficient: -0.0000\n",
      "Coefficient: -0.0000\n",
      "Coefficient: 0.0000\n",
      "Coefficient: 0.0000\n",
      "Coefficient: 0.0000\n",
      "Coefficient: -0.0000\n",
      "Coefficient: 0.0000\n",
      "Coefficient: 0.0000\n",
      "Coefficient: -0.0000\n",
      "Coefficient: -0.0000\n",
      "Coefficient: 0.0000\n",
      "Coefficient: 0.0000\n",
      "Coefficient: -0.0000\n",
      "Coefficient: -0.0000\n",
      "Coefficient: -0.0000\n",
      "Coefficient: -0.0000\n",
      "Coefficient: -0.0000\n",
      "Coefficient: 0.0000\n",
      "Coefficient: -0.0000\n",
      "Coefficient: 0.0000\n",
      "Coefficient: -0.0000\n",
      "Coefficient: -0.0000\n",
      "Coefficient: -0.0000\n",
      "Coefficient: 0.0000\n",
      "Coefficient: 0.0000\n",
      "Coefficient: -0.0000\n",
      "Coefficient: 0.0000\n",
      "Coefficient: 0.0000\n",
      "Coefficient: -0.0000\n",
      "Coefficient: -0.0000\n",
      "Coefficient: -0.0000\n",
      "Coefficient: 0.0000\n",
      "Coefficient: -0.0000\n",
      "Coefficient: 0.0000\n",
      "Coefficient: -0.0000\n",
      "Coefficient: -0.0000\n",
      "Coefficient: -0.0000\n",
      "Coefficient: -0.0000\n",
      "Coefficient: -0.0000\n",
      "Coefficient: -0.0000\n",
      "Coefficient: 0.0000\n",
      "Coefficient: 0.0000\n",
      "Coefficient: 0.0000\n",
      "Coefficient: -0.0000\n",
      "Coefficient: 0.0000\n",
      "Coefficient: -0.0000\n",
      "Coefficient: -0.0000\n",
      "Coefficient: 0.0000\n",
      "Coefficient: 0.0000\n",
      "Coefficient: 0.0000\n",
      "Coefficient: 0.0000\n",
      "Coefficient: 0.0000\n",
      "Coefficient: 0.0000\n",
      "Coefficient: -0.0000\n",
      "Coefficient: 0.0000\n",
      "Coefficient: 0.0000\n",
      "Coefficient: 0.0000\n",
      "Coefficient: 0.0000\n",
      "Coefficient: -0.0000\n",
      "Coefficient: -0.0000\n",
      "Coefficient: 0.0000\n",
      "Coefficient: 0.0000\n",
      "Coefficient: 0.0000\n",
      "Coefficient: -0.0000\n",
      "Coefficient: -0.0000\n",
      "Coefficient: -0.0000\n",
      "Coefficient: -0.0000\n",
      "Coefficient: -0.0000\n",
      "Coefficient: 0.0000\n",
      "Coefficient: -0.0000\n",
      "Coefficient: 0.0000\n",
      "Coefficient: -0.0000\n",
      "Coefficient: -0.0000\n",
      "Coefficient: 0.0000\n",
      "Coefficient: 0.0000\n",
      "Coefficient: 0.0000\n",
      "Coefficient: -0.0000\n",
      "Coefficient: 0.0000\n",
      "Coefficient: -0.0000\n",
      "Coefficient: -0.0000\n",
      "Coefficient: 0.0000\n",
      "Coefficient: 0.0000\n",
      "Coefficient: 0.0000\n",
      "Coefficient: -0.0000\n",
      "Coefficient: 0.0000\n",
      "Coefficient: 0.0000\n",
      "Coefficient: -0.0000\n",
      "Coefficient: -0.0000\n",
      "Coefficient: -0.0000\n",
      "Coefficient: -0.0000\n",
      "Coefficient: 0.0000\n",
      "Coefficient: -0.0000\n",
      "Coefficient: -0.0000\n",
      "Coefficient: -0.0000\n",
      "Coefficient: 0.0000\n",
      "Coefficient: -0.0000\n",
      "Coefficient: -0.0000\n",
      "Coefficient: -0.0000\n",
      "Coefficient: -0.0000\n",
      "Coefficient: -0.0000\n",
      "Coefficient: 0.0000\n",
      "Coefficient: 0.0000\n",
      "Coefficient: -0.0000\n",
      "Coefficient: -0.0000\n",
      "Coefficient: -0.0000\n",
      "Coefficient: 0.0000\n",
      "Coefficient: -0.0000\n",
      "Coefficient: 0.0000\n",
      "Coefficient: -0.0000\n",
      "Coefficient: -0.0000\n",
      "Coefficient: 0.0000\n",
      "Coefficient: -0.0000\n",
      "Coefficient: -0.0000\n",
      "Coefficient: 0.0000\n",
      "Coefficient: 0.0000\n",
      "Coefficient: 0.0000\n",
      "Coefficient: 0.0000\n",
      "Coefficient: 0.0000\n",
      "Coefficient: -0.0000\n",
      "Coefficient: -0.0000\n",
      "Coefficient: 0.0000\n",
      "Coefficient: 0.0000\n",
      "Coefficient: -0.0000\n",
      "Coefficient: -0.0000\n",
      "Coefficient: 0.0000\n",
      "Coefficient: 0.0000\n",
      "Coefficient: 0.0000\n",
      "Coefficient: -0.0000\n",
      "Coefficient: -0.0000\n",
      "Coefficient: -0.0000\n",
      "Coefficient: 0.0000\n",
      "Coefficient: -0.0000\n",
      "Coefficient: -0.0000\n",
      "Coefficient: 0.0000\n",
      "Coefficient: -0.0000\n",
      "Coefficient: 0.0000\n",
      "Coefficient: -0.0000\n",
      "Coefficient: -0.0000\n",
      "Coefficient: -0.0000\n",
      "Coefficient: -0.0000\n",
      "Coefficient: -0.0000\n",
      "Coefficient: 0.0000\n",
      "Coefficient: 0.0000\n",
      "Coefficient: 0.0000\n",
      "Coefficient: 0.0000\n",
      "Coefficient: 0.0000\n",
      "Coefficient: -0.0000\n",
      "Coefficient: -0.0000\n",
      "Coefficient: -0.0000\n",
      "Coefficient: 0.0000\n",
      "Coefficient: -0.0000\n",
      "Coefficient: 0.0000\n",
      "Coefficient: -0.0000\n",
      "Coefficient: 0.0000\n",
      "Coefficient: -0.0000\n",
      "Coefficient: 0.0000\n",
      "Coefficient: 0.0000\n",
      "Coefficient: 0.0000\n",
      "Coefficient: 0.0000\n",
      "Coefficient: 0.0000\n",
      "Coefficient: -0.0000\n",
      "Coefficient: 0.0000\n",
      "Coefficient: -0.0000\n",
      "Coefficient: -0.0000\n",
      "Coefficient: 0.0000\n",
      "Coefficient: -0.0000\n",
      "Coefficient: -0.0000\n",
      "Coefficient: -0.0000\n",
      "Coefficient: 0.0000\n",
      "Coefficient: 0.0000\n",
      "Coefficient: 0.0000\n",
      "Coefficient: -0.0000\n",
      "Coefficient: -0.0000\n",
      "Coefficient: 0.0000\n",
      "Coefficient: -0.0000\n",
      "Coefficient: -0.0000\n",
      "Coefficient: -0.0000\n",
      "Coefficient: -0.0000\n",
      "Coefficient: -0.0000\n",
      "Coefficient: -0.0000\n",
      "Coefficient: 0.0000\n",
      "Coefficient: -0.0000\n",
      "Coefficient: -0.0000\n",
      "Coefficient: -0.0000\n",
      "Coefficient: 0.0000\n",
      "Coefficient: 0.0000\n",
      "Coefficient: -0.0000\n",
      "Coefficient: -0.0000\n",
      "Coefficient: -0.0000\n",
      "Coefficient: 0.0000\n",
      "Coefficient: -0.0000\n",
      "Coefficient: -0.0000\n",
      "Coefficient: 0.0000\n",
      "Coefficient: 0.0000\n",
      "Coefficient: -0.0000\n",
      "Coefficient: -0.0000\n",
      "Coefficient: 0.0000\n",
      "Coefficient: -0.0000\n",
      "Coefficient: -0.0000\n",
      "Coefficient: -0.0000\n",
      "Coefficient: -0.0000\n",
      "Coefficient: -0.0000\n",
      "Coefficient: -0.0000\n",
      "Coefficient: 0.0000\n",
      "Coefficient: 0.0000\n",
      "Coefficient: 0.0000\n",
      "Coefficient: -0.0000\n",
      "Coefficient: 0.0000\n",
      "Coefficient: 0.0000\n",
      "Coefficient: -0.0000\n",
      "Coefficient: 0.0000\n",
      "Coefficient: -0.0000\n",
      "Coefficient: -0.0000\n",
      "Coefficient: 0.0000\n",
      "Coefficient: -0.0000\n",
      "Coefficient: 0.0000\n",
      "Coefficient: 0.0000\n",
      "Coefficient: 0.0000\n",
      "Coefficient: 0.0000\n",
      "Coefficient: 0.0000\n",
      "Coefficient: -0.0000\n",
      "Coefficient: 0.0000\n",
      "Coefficient: -0.0000\n",
      "Coefficient: -0.0000\n",
      "Coefficient: -0.0000\n",
      "Coefficient: -0.0000\n",
      "Coefficient: -0.0000\n",
      "Coefficient: 0.0000\n",
      "Coefficient: -0.0000\n",
      "Coefficient: -0.0000\n",
      "Coefficient: 0.0000\n",
      "Coefficient: -0.0000\n",
      "Coefficient: 0.0000\n",
      "Coefficient: 0.0000\n",
      "Coefficient: 0.0000\n",
      "Coefficient: 0.0000\n",
      "Coefficient: 0.0000\n",
      "Coefficient: -0.0000\n",
      "Coefficient: -0.0000\n",
      "Coefficient: -0.0000\n",
      "Coefficient: -0.0000\n",
      "Coefficient: -0.0000\n",
      "Coefficient: 0.0000\n",
      "Coefficient: 0.0000\n",
      "Coefficient: -0.0000\n",
      "Coefficient: -0.0000\n",
      "Coefficient: 0.0000\n",
      "Coefficient: -0.0000\n",
      "Coefficient: -0.0000\n",
      "Coefficient: 0.0000\n",
      "Coefficient: -0.0000\n",
      "Coefficient: 0.0000\n",
      "Coefficient: -0.0000\n",
      "Coefficient: 0.0000\n",
      "Coefficient: 0.0000\n",
      "Coefficient: -0.0000\n",
      "Coefficient: -0.0000\n",
      "Coefficient: -0.0000\n",
      "Coefficient: 0.0000\n",
      "Coefficient: 0.0000\n",
      "Coefficient: -0.0000\n",
      "Coefficient: -0.0000\n",
      "Coefficient: -0.0000\n",
      "Coefficient: -0.0000\n",
      "Coefficient: -0.0000\n",
      "Coefficient: -0.0000\n",
      "Coefficient: -0.0000\n",
      "Coefficient: -0.0000\n",
      "Coefficient: -0.0000\n",
      "Coefficient: 0.0000\n",
      "Coefficient: -0.0000\n",
      "Coefficient: -0.0000\n",
      "Coefficient: 0.0000\n",
      "Coefficient: -0.0000\n",
      "Coefficient: -0.0000\n",
      "Coefficient: 0.0000\n",
      "Coefficient: 0.0000\n",
      "Coefficient: 0.0000\n",
      "Coefficient: 0.0000\n",
      "Coefficient: 0.0000\n",
      "Coefficient: 0.0000\n",
      "Coefficient: -0.0000\n",
      "Coefficient: 0.0000\n",
      "Coefficient: -0.0000\n",
      "Coefficient: 0.0000\n",
      "Coefficient: -0.0000\n",
      "Coefficient: -0.0000\n",
      "Coefficient: 0.0000\n",
      "Coefficient: -0.0000\n",
      "Coefficient: 0.0000\n",
      "Coefficient: -0.0000\n",
      "Coefficient: -0.0000\n",
      "Coefficient: 0.0000\n",
      "Coefficient: -0.0000\n",
      "Coefficient: 0.0000\n",
      "Coefficient: 0.0000\n",
      "Coefficient: 0.0000\n",
      "Coefficient: -0.0000\n",
      "Coefficient: -0.0000\n",
      "Coefficient: 0.0000\n",
      "Coefficient: -0.0000\n",
      "Coefficient: 0.0000\n",
      "Coefficient: -0.0000\n",
      "Coefficient: 0.0000\n",
      "Coefficient: 0.0000\n",
      "Coefficient: -0.0000\n",
      "Coefficient: 0.0000\n",
      "Coefficient: 0.0000\n",
      "Coefficient: 0.0000\n",
      "Coefficient: 0.0000\n",
      "Coefficient: 0.0000\n",
      "Coefficient: 0.0000\n",
      "Coefficient: 0.0000\n",
      "Coefficient: 0.0000\n",
      "Coefficient: -0.0000\n",
      "Coefficient: -0.0000\n",
      "Coefficient: -0.0000\n",
      "Coefficient: 0.0000\n",
      "Coefficient: -0.0000\n",
      "Coefficient: 0.0000\n",
      "Coefficient: -0.0000\n",
      "Coefficient: 0.0000\n",
      "Coefficient: -0.0000\n",
      "Coefficient: -0.0000\n",
      "Coefficient: 0.0000\n",
      "Coefficient: -0.0000\n",
      "Coefficient: -0.0000\n",
      "Coefficient: 0.0000\n",
      "Coefficient: 0.0000\n",
      "Coefficient: 0.0000\n",
      "Coefficient: -0.0000\n",
      "Coefficient: -0.0000\n",
      "Coefficient: 0.0000\n",
      "Coefficient: 0.0000\n",
      "Coefficient: 0.0000\n",
      "Coefficient: 0.0000\n",
      "Coefficient: -0.0000\n",
      "Coefficient: -0.0000\n",
      "Coefficient: 0.0000\n",
      "Coefficient: 0.0000\n",
      "Coefficient: 0.0000\n",
      "Coefficient: -0.0000\n",
      "Coefficient: -0.0000\n",
      "Coefficient: -0.0000\n",
      "Coefficient: -0.0000\n",
      "Coefficient: -0.0000\n",
      "Coefficient: 0.0000\n",
      "Coefficient: 0.0000\n",
      "Coefficient: 0.0000\n",
      "Coefficient: -0.0000\n",
      "Coefficient: -0.0000\n",
      "Coefficient: 0.0000\n",
      "Coefficient: 0.0000\n",
      "Coefficient: 0.0000\n",
      "Coefficient: 0.0000\n",
      "Coefficient: -0.0000\n",
      "Coefficient: 0.0000\n",
      "Coefficient: 0.0000\n",
      "Coefficient: 0.0000\n",
      "Coefficient: -0.0000\n",
      "Coefficient: -0.0000\n",
      "Coefficient: 0.0000\n",
      "Coefficient: -0.0000\n",
      "Coefficient: 0.0000\n",
      "Coefficient: -0.0000\n",
      "Coefficient: 0.0000\n",
      "Coefficient: -0.0000\n",
      "Coefficient: -0.0000\n",
      "Coefficient: 0.0000\n",
      "Coefficient: 0.0000\n",
      "Coefficient: -0.0000\n",
      "Coefficient: -0.0000\n",
      "Coefficient: -0.0000\n",
      "Coefficient: 0.0000\n",
      "Coefficient: 0.0000\n",
      "Coefficient: 0.0000\n",
      "Coefficient: -0.0000\n",
      "Coefficient: 0.0000\n",
      "Coefficient: -0.0000\n",
      "Coefficient: 0.0000\n",
      "Coefficient: 0.0000\n",
      "Coefficient: 0.0000\n",
      "Coefficient: 0.0000\n",
      "Coefficient: -0.0000\n",
      "Coefficient: -0.0000\n",
      "Coefficient: -0.0000\n",
      "Coefficient: -0.0000\n",
      "Coefficient: -0.0000\n",
      "Coefficient: -0.0000\n",
      "Coefficient: -0.0000\n",
      "Coefficient: 0.0000\n",
      "Coefficient: 0.0000\n",
      "Coefficient: -0.0000\n",
      "Coefficient: 0.0000\n",
      "Coefficient: -0.0000\n",
      "Coefficient: -0.0000\n",
      "Coefficient: 0.0000\n",
      "Coefficient: 0.0000\n",
      "Coefficient: -0.0000\n",
      "Coefficient: 0.0000\n",
      "Coefficient: -0.0000\n",
      "Coefficient: -0.0000\n",
      "Coefficient: 0.0000\n",
      "Coefficient: 0.0000\n",
      "Coefficient: 0.0000\n",
      "Coefficient: 0.0000\n",
      "Coefficient: -0.0000\n",
      "Coefficient: -0.0000\n",
      "Coefficient: -0.0000\n",
      "Coefficient: 0.0000\n",
      "Coefficient: -0.0000\n",
      "Coefficient: 0.0000\n",
      "Coefficient: -0.0000\n",
      "Coefficient: -0.0000\n",
      "Coefficient: -0.0000\n",
      "Coefficient: -0.0000\n",
      "Coefficient: -0.0000\n",
      "Coefficient: 0.0000\n",
      "Coefficient: -0.0000\n",
      "Coefficient: 0.0000\n",
      "Coefficient: 0.0000\n",
      "Coefficient: 0.0000\n",
      "Coefficient: 0.0000\n",
      "Coefficient: 0.0000\n",
      "Coefficient: 0.0000\n",
      "Coefficient: 0.0000\n",
      "Coefficient: 0.0000\n",
      "Coefficient: -0.0000\n",
      "Coefficient: -0.0000\n",
      "Coefficient: 0.0000\n",
      "Coefficient: 0.0000\n",
      "Coefficient: -0.0000\n",
      "Coefficient: -0.0000\n",
      "Coefficient: 0.0000\n",
      "Coefficient: -0.0000\n",
      "Coefficient: -0.0000\n",
      "Coefficient: -0.0000\n",
      "Coefficient: 0.0000\n",
      "Coefficient: -0.0000\n",
      "Coefficient: -0.0000\n",
      "Coefficient: -0.0000\n",
      "Coefficient: -0.0000\n",
      "Coefficient: -0.0000\n",
      "Coefficient: -0.0000\n",
      "Coefficient: -0.0000\n",
      "Coefficient: 0.0000\n",
      "Coefficient: 0.0000\n",
      "Coefficient: 0.0000\n",
      "Coefficient: -0.0000\n",
      "Coefficient: 0.0000\n",
      "Coefficient: -0.0000\n",
      "Coefficient: 0.0000\n",
      "Coefficient: -0.0000\n",
      "Coefficient: 0.0000\n",
      "Coefficient: 0.0000\n",
      "Coefficient: -0.0000\n",
      "Coefficient: 0.0000\n",
      "Coefficient: -0.0000\n",
      "Coefficient: -0.0000\n",
      "Coefficient: 0.0000\n",
      "Coefficient: 0.0000\n",
      "Coefficient: 0.0000\n",
      "Coefficient: -0.0000\n",
      "Coefficient: 0.0000\n",
      "Coefficient: -0.0000\n",
      "Coefficient: -0.0000\n",
      "Coefficient: 0.0000\n",
      "Coefficient: -0.0000\n",
      "Coefficient: 0.0000\n",
      "Coefficient: 0.0000\n",
      "Coefficient: 0.0000\n",
      "Coefficient: 0.0000\n",
      "Coefficient: 0.0000\n",
      "Coefficient: 0.0000\n",
      "Coefficient: 0.0000\n",
      "Coefficient: -0.0000\n",
      "Coefficient: 0.0000\n",
      "Coefficient: 0.0000\n",
      "Coefficient: 0.0000\n",
      "Coefficient: 0.0000\n",
      "Coefficient: 0.0000\n",
      "Coefficient: 0.0000\n",
      "Coefficient: 0.0000\n",
      "Coefficient: -0.0000\n",
      "Coefficient: -0.0000\n",
      "Coefficient: 0.0000\n",
      "Coefficient: 0.0000\n",
      "Coefficient: 0.0000\n",
      "Coefficient: 0.0000\n",
      "Coefficient: 0.0000\n",
      "Coefficient: 0.0000\n",
      "Coefficient: -0.0000\n",
      "Coefficient: 0.0000\n",
      "Coefficient: 0.0000\n",
      "Coefficient: 0.0000\n",
      "Coefficient: -0.0000\n",
      "Coefficient: -0.0000\n",
      "Coefficient: 0.0000\n",
      "Coefficient: 0.0000\n",
      "Coefficient: -0.0000\n",
      "Coefficient: -0.0000\n",
      "Coefficient: 0.0000\n",
      "Coefficient: -0.0000\n",
      "Coefficient: 0.0000\n",
      "Coefficient: 0.0000\n",
      "Coefficient: 0.0000\n",
      "Coefficient: 0.0000\n",
      "Coefficient: 0.0000\n",
      "Coefficient: -0.0000\n",
      "Coefficient: 0.0000\n",
      "Coefficient: 0.0000\n",
      "Coefficient: -0.0000\n",
      "Coefficient: -0.0000\n",
      "Coefficient: -0.0000\n",
      "Coefficient: 0.0000\n",
      "Coefficient: 0.0000\n",
      "Coefficient: -0.0000\n",
      "Coefficient: -0.0000\n",
      "Coefficient: -0.0000\n",
      "Coefficient: 0.0000\n",
      "Coefficient: 0.0000\n",
      "Coefficient: 0.0000\n",
      "Coefficient: -0.0000\n",
      "Coefficient: -0.0000\n",
      "Coefficient: -0.0000\n",
      "Coefficient: 0.0000\n",
      "Coefficient: 0.0000\n",
      "Coefficient: -0.0000\n",
      "Coefficient: 0.0000\n",
      "Coefficient: 0.0000\n",
      "Coefficient: -0.0000\n",
      "Coefficient: -0.0000\n",
      "Coefficient: -0.0000\n",
      "Coefficient: -0.0000\n",
      "Coefficient: 0.0000\n",
      "Coefficient: 0.0000\n",
      "Coefficient: 0.0000\n",
      "Coefficient: -0.0000\n",
      "Coefficient: 0.0000\n",
      "Coefficient: -0.0000\n",
      "Coefficient: 0.0000\n",
      "Coefficient: 0.0000\n",
      "Coefficient: -0.0000\n",
      "Coefficient: 0.0000\n",
      "Coefficient: 0.0000\n",
      "Coefficient: 0.0000\n",
      "Coefficient: -0.0000\n",
      "Coefficient: -0.0000\n",
      "Coefficient: -0.0000\n",
      "Coefficient: 0.0000\n",
      "Coefficient: -0.0000\n",
      "Coefficient: -0.0000\n",
      "Coefficient: -0.0000\n",
      "Coefficient: 0.0000\n",
      "Coefficient: 0.0000\n",
      "Coefficient: -0.0000\n",
      "Coefficient: 0.0000\n",
      "Coefficient: 0.0000\n",
      "Coefficient: 0.0000\n",
      "Coefficient: 0.0000\n",
      "Coefficient: -0.0000\n",
      "Coefficient: -0.0000\n",
      "Coefficient: 0.0000\n",
      "Coefficient: -0.0000\n",
      "Coefficient: -0.0000\n",
      "Coefficient: 0.0000\n",
      "Coefficient: 0.0000\n",
      "Coefficient: -0.0000\n",
      "Coefficient: 0.0000\n",
      "Coefficient: 0.0000\n",
      "Coefficient: -0.0000\n",
      "Coefficient: -0.0000\n",
      "Coefficient: -0.0000\n",
      "Coefficient: 0.0000\n",
      "Coefficient: -0.0000\n",
      "Coefficient: 0.0000\n",
      "Coefficient: -0.0000\n",
      "Coefficient: -0.0000\n",
      "Coefficient: -0.0000\n",
      "Coefficient: 0.0000\n",
      "Coefficient: -0.0000\n",
      "Coefficient: -0.0000\n",
      "Coefficient: 0.0000\n",
      "Coefficient: -0.0000\n",
      "Coefficient: 0.0000\n",
      "Coefficient: 0.0000\n",
      "Coefficient: 0.0000\n",
      "Coefficient: 0.0000\n",
      "Coefficient: -0.0000\n",
      "Coefficient: -0.0000\n",
      "Coefficient: 0.0000\n",
      "Coefficient: 0.0000\n",
      "Coefficient: -0.0000\n",
      "Coefficient: 0.0000\n",
      "Coefficient: 0.0000\n",
      "Coefficient: 0.0000\n",
      "Coefficient: 0.0000\n",
      "Coefficient: -0.0000\n",
      "Coefficient: -0.0000\n",
      "Coefficient: 0.0000\n",
      "Coefficient: -0.0000\n",
      "Coefficient: -0.0000\n",
      "Coefficient: -0.0000\n",
      "Coefficient: 0.0000\n",
      "Coefficient: -0.0000\n",
      "Coefficient: -0.0000\n",
      "Coefficient: -0.0000\n",
      "Coefficient: -0.0000\n",
      "Coefficient: -0.0000\n",
      "Coefficient: -0.0000\n",
      "Coefficient: 0.0000\n",
      "Coefficient: -0.0000\n",
      "Coefficient: -0.0000\n",
      "Coefficient: -0.0000\n",
      "Coefficient: 0.0000\n",
      "Coefficient: 0.0000\n",
      "Coefficient: 0.0000\n",
      "Coefficient: 0.0000\n",
      "Coefficient: 0.0000\n",
      "Coefficient: -0.0000\n",
      "Coefficient: 0.0000\n",
      "Coefficient: 0.0000\n",
      "Coefficient: -0.0000\n",
      "Coefficient: -0.0000\n",
      "Coefficient: -0.0000\n",
      "Coefficient: 0.0000\n",
      "Coefficient: 0.0000\n",
      "Coefficient: 0.0000\n",
      "Coefficient: 0.0000\n",
      "Coefficient: 0.0000\n",
      "Coefficient: 0.0000\n",
      "Coefficient: 0.0000\n",
      "Coefficient: 0.0000\n",
      "Coefficient: -0.0000\n",
      "Coefficient: -0.0000\n",
      "Coefficient: -0.0000\n",
      "Coefficient: -0.0000\n",
      "Coefficient: -0.0000\n",
      "Coefficient: -0.0000\n",
      "Coefficient: 0.0000\n",
      "Coefficient: -0.0000\n",
      "Coefficient: 0.0000\n",
      "Coefficient: -0.0000\n",
      "Coefficient: -0.0000\n",
      "Coefficient: -0.0000\n",
      "Coefficient: 0.0000\n",
      "Coefficient: -0.0000\n",
      "Coefficient: 0.0000\n",
      "Coefficient: -0.0000\n",
      "Coefficient: -0.0000\n",
      "Coefficient: -0.0000\n",
      "Coefficient: -0.0000\n",
      "Coefficient: -0.0000\n",
      "Coefficient: -0.0000\n",
      "Coefficient: -0.0000\n",
      "Coefficient: -0.0000\n",
      "Coefficient: 0.0000\n",
      "Coefficient: 0.0000\n",
      "Coefficient: -0.0000\n",
      "Coefficient: 0.0000\n",
      "Coefficient: -0.0000\n",
      "Coefficient: -0.0000\n",
      "Coefficient: -0.0000\n",
      "Coefficient: 0.0000\n",
      "Coefficient: -0.0000\n",
      "Coefficient: -0.0000\n",
      "Coefficient: 0.0000\n",
      "Coefficient: -0.0000\n",
      "Coefficient: -0.0000\n",
      "Coefficient: 0.0000\n",
      "Coefficient: -0.0000\n",
      "Coefficient: 0.0000\n",
      "Coefficient: 0.0000\n",
      "Coefficient: -0.0000\n",
      "Coefficient: 0.0000\n",
      "Coefficient: -0.0000\n",
      "Coefficient: 0.0000\n",
      "Coefficient: 0.0000\n",
      "Coefficient: -0.0000\n",
      "Coefficient: -0.0000\n",
      "Coefficient: -0.0000\n",
      "Coefficient: -0.0000\n",
      "Coefficient: -0.0000\n",
      "Coefficient: -0.0000\n",
      "Coefficient: 0.0000\n",
      "Coefficient: 0.0000\n",
      "Coefficient: 0.0000\n",
      "Coefficient: -0.0000\n",
      "Coefficient: 0.0000\n",
      "Coefficient: 0.0000\n",
      "Coefficient: 0.0000\n",
      "Coefficient: -0.0000\n",
      "Coefficient: 0.0000\n",
      "Coefficient: -0.0000\n",
      "Coefficient: 0.0000\n",
      "Coefficient: 0.0000\n",
      "Coefficient: -0.0000\n",
      "Coefficient: -0.0000\n",
      "Coefficient: -0.0000\n",
      "Coefficient: -0.0000\n",
      "Coefficient: -0.0000\n",
      "Coefficient: -0.0000\n",
      "Coefficient: -0.0000\n",
      "Coefficient: 0.0000\n",
      "Coefficient: -0.0000\n",
      "Coefficient: 0.0000\n",
      "Coefficient: -0.0000\n",
      "Coefficient: -0.0000\n",
      "Coefficient: 0.0000\n",
      "Coefficient: 0.0000\n",
      "Coefficient: -0.0000\n",
      "Coefficient: -0.0000\n",
      "Coefficient: 0.0000\n",
      "Coefficient: -0.0000\n",
      "Coefficient: -0.0000\n",
      "Coefficient: 0.0000\n",
      "Coefficient: -0.0000\n",
      "Coefficient: 0.0000\n",
      "Coefficient: 0.0000\n",
      "Coefficient: -0.0000\n",
      "Coefficient: -0.0000\n",
      "Coefficient: 0.0000\n",
      "Coefficient: 0.0000\n",
      "Coefficient: -0.0000\n",
      "Coefficient: 0.0000\n",
      "Coefficient: -0.0000\n",
      "Coefficient: -0.0000\n",
      "Coefficient: 0.0000\n",
      "Coefficient: -0.0000\n",
      "Coefficient: 0.0000\n",
      "Coefficient: 0.0000\n",
      "Coefficient: 0.0000\n",
      "Coefficient: 0.0000\n",
      "Coefficient: 0.0000\n",
      "Coefficient: 0.0000\n",
      "Coefficient: -0.0000\n",
      "Coefficient: 0.0000\n",
      "Coefficient: -0.0000\n",
      "Coefficient: 0.0000\n",
      "Coefficient: 0.0000\n",
      "Coefficient: -0.0000\n",
      "Coefficient: -0.0000\n",
      "Coefficient: -0.0000\n",
      "Coefficient: -0.0000\n",
      "Coefficient: 0.0000\n",
      "Coefficient: 0.0000\n",
      "Coefficient: 0.0000\n",
      "Coefficient: 0.0000\n",
      "Coefficient: -0.0000\n",
      "Coefficient: 0.0000\n",
      "Coefficient: 0.0000\n",
      "Coefficient: -0.0000\n",
      "Coefficient: 0.0000\n",
      "Coefficient: 0.0000\n",
      "Coefficient: 0.0000\n",
      "Coefficient: 0.0000\n",
      "Coefficient: -0.0000\n",
      "Coefficient: -0.0000\n",
      "Coefficient: -0.0000\n",
      "Coefficient: -0.0000\n",
      "Coefficient: 0.0000\n",
      "Coefficient: 0.0000\n",
      "Coefficient: 0.0000\n",
      "Coefficient: 0.0000\n",
      "Coefficient: -0.0000\n",
      "Coefficient: -0.0000\n",
      "Coefficient: -0.0000\n",
      "Coefficient: 0.0000\n",
      "Coefficient: -0.0000\n",
      "Coefficient: -0.0000\n",
      "Coefficient: 0.0000\n",
      "Coefficient: 0.0000\n",
      "Coefficient: -0.0000\n",
      "Coefficient: 0.0000\n",
      "Coefficient: 0.0000\n",
      "Coefficient: -0.0000\n",
      "Coefficient: -0.0000\n",
      "Coefficient: 0.0000\n",
      "Coefficient: 0.0000\n",
      "Coefficient: 0.0000\n",
      "Coefficient: -0.0000\n",
      "Coefficient: 0.0000\n",
      "Coefficient: -0.0000\n",
      "Coefficient: -0.0000\n",
      "Coefficient: -0.0000\n",
      "Coefficient: 0.0000\n",
      "Coefficient: -0.0000\n",
      "Coefficient: -0.0000\n",
      "Coefficient: 0.0000\n",
      "Coefficient: 0.0000\n",
      "Coefficient: -0.0000\n",
      "Coefficient: 0.0000\n",
      "Coefficient: 0.0000\n",
      "Coefficient: -0.0000\n",
      "Coefficient: -0.0000\n",
      "Coefficient: -0.0000\n",
      "Coefficient: -0.0000\n",
      "Coefficient: -0.0000\n",
      "Coefficient: -0.0000\n",
      "Coefficient: -0.0000\n",
      "Coefficient: -0.0000\n",
      "Coefficient: 0.0000\n",
      "Coefficient: -0.0000\n",
      "Coefficient: 0.0000\n",
      "Coefficient: 0.0000\n",
      "Coefficient: -0.0000\n",
      "Coefficient: -0.0000\n",
      "Coefficient: 0.0000\n",
      "Coefficient: -0.0000\n",
      "Coefficient: 0.0000\n",
      "Coefficient: 0.0000\n",
      "Coefficient: -0.0000\n",
      "Coefficient: -0.0000\n",
      "Coefficient: 0.0000\n",
      "Coefficient: -0.0000\n",
      "Coefficient: 0.0000\n",
      "Coefficient: 0.0000\n",
      "Coefficient: -0.0000\n",
      "Coefficient: 0.0000\n",
      "Coefficient: -0.0000\n",
      "Coefficient: -0.0000\n",
      "Coefficient: -0.0000\n",
      "Coefficient: 0.0000\n",
      "Coefficient: 0.0000\n",
      "Coefficient: -0.0000\n",
      "Coefficient: -0.0000\n",
      "Coefficient: -0.0000\n",
      "Coefficient: 0.0000\n",
      "Coefficient: 0.0000\n",
      "Coefficient: 0.0000\n",
      "Coefficient: -0.0000\n",
      "Coefficient: -0.0000\n",
      "Coefficient: -0.0000\n",
      "Coefficient: 0.0000\n",
      "Coefficient: -0.0000\n",
      "Coefficient: 0.0000\n",
      "Coefficient: 0.0000\n",
      "Coefficient: 0.0000\n",
      "Coefficient: -0.0000\n",
      "Coefficient: -0.0000\n",
      "Coefficient: 0.0000\n",
      "Coefficient: 0.0000\n",
      "Coefficient: -0.0000\n",
      "Coefficient: -0.0000\n",
      "Coefficient: -0.0000\n",
      "Coefficient: 0.0000\n",
      "Coefficient: 0.0000\n",
      "Coefficient: -0.0000\n",
      "Coefficient: 0.0000\n",
      "Coefficient: 0.0000\n",
      "Coefficient: -0.0000\n",
      "Coefficient: 0.0000\n",
      "Coefficient: 0.0000\n",
      "Coefficient: 0.0000\n",
      "Coefficient: -0.0000\n",
      "Coefficient: -0.0000\n",
      "Coefficient: -0.0000\n",
      "Coefficient: -0.0000\n",
      "Coefficient: -0.0000\n",
      "Coefficient: -0.0000\n",
      "Coefficient: 0.0000\n",
      "Coefficient: 0.0000\n",
      "Coefficient: 0.0000\n",
      "Coefficient: 0.0000\n",
      "Coefficient: 0.0000\n",
      "Coefficient: -0.0000\n",
      "Coefficient: 0.0000\n",
      "Coefficient: -0.0000\n",
      "Coefficient: 0.0000\n",
      "Coefficient: -0.0000\n",
      "Coefficient: -0.0000\n",
      "Coefficient: -0.0000\n",
      "Coefficient: -0.0000\n",
      "Coefficient: 0.0000\n",
      "Coefficient: 0.0000\n",
      "Coefficient: -0.0000\n",
      "Coefficient: -0.0000\n",
      "Coefficient: -0.0000\n",
      "Coefficient: 0.0000\n",
      "Coefficient: 0.0000\n",
      "Coefficient: 0.0000\n",
      "Coefficient: 0.0000\n",
      "Coefficient: -0.0000\n",
      "Coefficient: 0.0000\n",
      "Coefficient: -0.0000\n",
      "Coefficient: 0.0000\n",
      "Coefficient: -0.0000\n",
      "Coefficient: -0.0000\n",
      "Coefficient: -0.0000\n",
      "Coefficient: -0.0000\n",
      "Coefficient: 0.0000\n",
      "Coefficient: -0.0000\n",
      "Coefficient: -0.0000\n",
      "Coefficient: 0.0000\n",
      "Coefficient: -0.0000\n",
      "Coefficient: -0.0000\n",
      "Coefficient: 0.0000\n",
      "Coefficient: -0.0000\n",
      "Coefficient: -0.0000\n",
      "Coefficient: -0.0000\n",
      "Coefficient: -0.0000\n",
      "Coefficient: -0.0000\n",
      "Coefficient: -0.0000\n",
      "Coefficient: 0.0000\n",
      "Coefficient: 0.0000\n",
      "Coefficient: 0.0000\n",
      "Coefficient: 0.0000\n",
      "Coefficient: -0.0000\n",
      "Coefficient: -0.0000\n",
      "Coefficient: 0.0000\n",
      "Coefficient: 0.0000\n",
      "Coefficient: -0.0000\n",
      "Coefficient: 0.0000\n",
      "Coefficient: 0.0000\n",
      "Coefficient: 0.0000\n",
      "Coefficient: -0.0000\n",
      "Coefficient: -0.0000\n",
      "Coefficient: -0.0000\n",
      "Coefficient: -0.0000\n",
      "Coefficient: 0.0000\n",
      "Coefficient: -0.0000\n",
      "Coefficient: 0.0000\n",
      "Coefficient: -0.0000\n",
      "Coefficient: 0.0000\n",
      "Coefficient: -0.0000\n",
      "Coefficient: 0.0000\n",
      "Coefficient: -0.0000\n",
      "Coefficient: -0.0000\n",
      "Coefficient: -0.0000\n",
      "Coefficient: 0.0000\n",
      "Coefficient: -0.0000\n",
      "Coefficient: 0.0000\n",
      "Coefficient: -0.0000\n",
      "Coefficient: -0.0000\n",
      "Coefficient: 0.0000\n",
      "Coefficient: -0.0000\n",
      "Coefficient: -0.0000\n",
      "Coefficient: 0.0000\n",
      "Coefficient: -0.0000\n",
      "Coefficient: 0.0000\n",
      "Coefficient: -0.0000\n",
      "Coefficient: 0.0000\n",
      "Coefficient: -0.0000\n",
      "Coefficient: 0.0000\n",
      "Coefficient: 0.0000\n",
      "Coefficient: 0.0000\n",
      "Coefficient: -0.0000\n",
      "Coefficient: -0.0000\n",
      "Coefficient: 0.0000\n",
      "Coefficient: 0.0000\n",
      "Coefficient: 0.0000\n",
      "Coefficient: -0.0000\n",
      "Coefficient: -0.0000\n",
      "Coefficient: 0.0000\n",
      "Coefficient: 0.0000\n",
      "Coefficient: 0.0000\n",
      "Coefficient: -0.0000\n",
      "Coefficient: -0.0000\n",
      "Coefficient: -0.0000\n",
      "Coefficient: 0.0000\n",
      "Coefficient: 0.0000\n",
      "Coefficient: -0.0000\n",
      "Coefficient: 0.0000\n",
      "Coefficient: 0.0000\n",
      "Coefficient: -0.0000\n",
      "Coefficient: -0.0000\n",
      "Coefficient: -0.0000\n",
      "Coefficient: 0.0000\n",
      "Coefficient: -0.0000\n",
      "Coefficient: 0.0000\n",
      "Coefficient: 0.0000\n",
      "Coefficient: 0.0000\n",
      "Coefficient: 0.0000\n",
      "Coefficient: 0.0000\n",
      "Coefficient: 0.0000\n",
      "Coefficient: -0.0000\n",
      "Coefficient: 0.0000\n",
      "Coefficient: 0.0000\n",
      "Coefficient: 0.0000\n",
      "Coefficient: 0.0000\n",
      "Coefficient: -0.0000\n",
      "Coefficient: 0.0000\n",
      "Coefficient: 0.0000\n",
      "Coefficient: -0.0000\n",
      "Coefficient: -0.0000\n",
      "Coefficient: 0.0000\n",
      "Coefficient: 0.0000\n",
      "Coefficient: 0.0000\n",
      "Coefficient: 0.0000\n",
      "Coefficient: 0.0000\n",
      "Coefficient: -0.0000\n",
      "Coefficient: -0.0000\n",
      "Coefficient: 0.0000\n",
      "Coefficient: -0.0000\n",
      "Coefficient: 0.0000\n",
      "Coefficient: 0.0000\n",
      "Coefficient: 0.0000\n",
      "Coefficient: 0.0000\n",
      "Coefficient: -0.0000\n",
      "Coefficient: -0.0000\n",
      "Coefficient: -0.0000\n",
      "Coefficient: -0.0000\n",
      "Coefficient: 0.0000\n",
      "Coefficient: -0.0000\n",
      "Coefficient: 0.0000\n",
      "Coefficient: -0.0000\n",
      "Coefficient: 0.0000\n",
      "Coefficient: 0.0000\n",
      "Coefficient: 0.0000\n",
      "Coefficient: 0.0000\n",
      "Coefficient: 0.0000\n",
      "Coefficient: 0.0000\n",
      "Coefficient: 0.0000\n",
      "Coefficient: -0.0000\n",
      "Coefficient: -0.0000\n",
      "Coefficient: 0.0000\n",
      "Coefficient: 0.0000\n",
      "Coefficient: -0.0000\n",
      "Coefficient: 0.0000\n",
      "Coefficient: -0.0000\n",
      "Coefficient: -0.0000\n",
      "Coefficient: 0.0000\n",
      "Coefficient: 0.0000\n",
      "Coefficient: -0.0000\n",
      "Coefficient: -0.0000\n",
      "Coefficient: -0.0000\n",
      "Coefficient: -0.0000\n",
      "Coefficient: 0.0000\n",
      "Coefficient: -0.0000\n",
      "Coefficient: 0.0000\n",
      "Coefficient: 0.0000\n",
      "Coefficient: -0.0000\n",
      "Coefficient: 0.0000\n",
      "Coefficient: 0.0000\n",
      "Coefficient: 0.0000\n",
      "Coefficient: 0.0000\n",
      "Coefficient: -0.0000\n",
      "Coefficient: -0.0000\n",
      "Coefficient: 0.0000\n",
      "Coefficient: 0.0000\n",
      "Coefficient: 0.0000\n",
      "Coefficient: 0.0000\n",
      "Coefficient: -0.0000\n",
      "Coefficient: 0.0000\n",
      "Coefficient: 0.0000\n",
      "Coefficient: 0.0000\n",
      "Coefficient: 0.0000\n",
      "Coefficient: 0.0000\n",
      "Coefficient: 0.0000\n",
      "Coefficient: 0.0000\n",
      "Coefficient: 0.0000\n",
      "Coefficient: 0.0000\n",
      "Coefficient: -0.0000\n",
      "Coefficient: 0.0000\n",
      "Coefficient: -0.0000\n",
      "Coefficient: -0.0000\n",
      "Coefficient: -0.0000\n",
      "Coefficient: -0.0000\n",
      "Coefficient: -0.0000\n",
      "Coefficient: -0.0000\n",
      "Coefficient: -0.0000\n",
      "Coefficient: -0.0000\n",
      "Coefficient: -0.0000\n",
      "Coefficient: 0.0000\n",
      "Coefficient: 0.0000\n",
      "Coefficient: -0.0000\n",
      "Coefficient: -0.0000\n",
      "Coefficient: 0.0000\n",
      "Coefficient: -0.0000\n",
      "Coefficient: -0.0000\n",
      "Coefficient: 0.0000\n",
      "Coefficient: 0.0000\n",
      "Coefficient: 0.0000\n",
      "Coefficient: -0.0000\n",
      "Coefficient: -0.0000\n",
      "Coefficient: -0.0000\n",
      "Coefficient: 0.0000\n",
      "Coefficient: -0.0000\n",
      "Coefficient: -0.0000\n",
      "Coefficient: -0.0000\n",
      "Coefficient: 0.0000\n",
      "Coefficient: -0.0000\n",
      "Coefficient: -0.0000\n",
      "Coefficient: -0.0000\n",
      "Coefficient: 0.0000\n",
      "Coefficient: 0.0000\n",
      "Coefficient: -0.0000\n",
      "Coefficient: 0.0000\n",
      "Coefficient: -0.0000\n",
      "Coefficient: 0.0000\n",
      "Coefficient: 0.0000\n",
      "Coefficient: -0.0000\n",
      "Coefficient: -0.0000\n",
      "Coefficient: -0.0000\n",
      "Coefficient: -0.0000\n",
      "Coefficient: 0.0000\n",
      "Coefficient: -0.0000\n",
      "Coefficient: 0.0000\n",
      "Coefficient: 0.0000\n",
      "Coefficient: -0.0000\n",
      "Coefficient: 0.0000\n",
      "Coefficient: 0.0000\n",
      "Coefficient: 0.0000\n",
      "Coefficient: 0.0000\n",
      "Coefficient: -0.0000\n",
      "Coefficient: -0.0000\n",
      "Coefficient: 0.0000\n",
      "Coefficient: -0.0000\n",
      "Coefficient: 0.0000\n",
      "Coefficient: 0.0000\n",
      "Coefficient: 0.0000\n",
      "Coefficient: 0.0000\n",
      "Coefficient: -0.0000\n",
      "Coefficient: 0.0000\n",
      "Coefficient: 0.0000\n",
      "Coefficient: 0.0000\n",
      "Coefficient: -0.0000\n",
      "Coefficient: -0.0000\n",
      "Coefficient: -0.0000\n",
      "Coefficient: -0.0000\n",
      "Coefficient: -0.0000\n",
      "Coefficient: 0.0000\n",
      "Coefficient: 0.0000\n",
      "Coefficient: -0.0000\n",
      "Coefficient: -0.0000\n",
      "Coefficient: 0.0000\n",
      "Coefficient: -0.0000\n",
      "Coefficient: -0.0000\n",
      "Coefficient: -0.0000\n",
      "Coefficient: -0.0000\n",
      "Coefficient: 0.0000\n",
      "Coefficient: 0.0000\n",
      "Coefficient: 0.0000\n",
      "Coefficient: -0.0000\n",
      "Coefficient: -0.0000\n",
      "Coefficient: -0.0000\n",
      "Coefficient: 0.0000\n",
      "Coefficient: 0.0000\n",
      "Coefficient: -0.0000\n",
      "Coefficient: 0.0000\n",
      "Coefficient: 0.0000\n",
      "Coefficient: -0.0000\n",
      "Coefficient: 0.0000\n",
      "Coefficient: 0.0000\n",
      "Coefficient: -0.0000\n",
      "Coefficient: 0.0000\n",
      "Coefficient: 0.0000\n",
      "Coefficient: 0.0000\n",
      "Coefficient: 0.0000\n",
      "Coefficient: -0.0000\n",
      "Coefficient: -0.0000\n",
      "Coefficient: 0.0000\n",
      "Coefficient: -0.0000\n",
      "Coefficient: -0.0000\n",
      "Coefficient: 0.0000\n",
      "Coefficient: -0.0000\n",
      "Coefficient: 0.0000\n",
      "Coefficient: 0.0000\n",
      "Coefficient: 0.0000\n",
      "Coefficient: 0.0000\n",
      "Coefficient: 0.0000\n",
      "Coefficient: -0.0000\n",
      "Coefficient: -0.0000\n",
      "Coefficient: 0.0000\n",
      "Coefficient: -0.0000\n",
      "Coefficient: 0.0000\n",
      "Coefficient: -0.0000\n",
      "Coefficient: 0.0000\n",
      "Coefficient: 0.0000\n",
      "Coefficient: -0.0000\n",
      "Coefficient: -0.0000\n",
      "Coefficient: -0.0000\n",
      "Coefficient: -0.0000\n",
      "Coefficient: 0.0000\n",
      "Coefficient: -0.0000\n",
      "Coefficient: -0.0000\n",
      "Coefficient: 0.0000\n",
      "Coefficient: -0.0000\n",
      "Coefficient: 0.0000\n",
      "Coefficient: 0.0000\n",
      "Coefficient: -0.0000\n",
      "Coefficient: -0.0000\n",
      "Coefficient: 0.0000\n",
      "Coefficient: 0.0000\n",
      "Coefficient: 0.0000\n",
      "Coefficient: -0.0000\n",
      "Coefficient: 0.0000\n",
      "Coefficient: 0.0000\n",
      "Coefficient: -0.0000\n",
      "Coefficient: -0.0000\n",
      "Coefficient: 0.0000\n",
      "Coefficient: -0.0000\n",
      "Coefficient: 0.0000\n",
      "Coefficient: -0.0000\n",
      "Coefficient: 0.0000\n",
      "Coefficient: -0.0000\n",
      "Coefficient: -0.0000\n",
      "Coefficient: 0.0000\n",
      "Coefficient: -0.0000\n",
      "Coefficient: -0.0000\n",
      "Coefficient: 0.0000\n",
      "Coefficient: -0.0000\n",
      "Coefficient: -0.0000\n",
      "Coefficient: 0.0000\n",
      "Coefficient: 0.0000\n",
      "Coefficient: 0.0000\n",
      "Coefficient: 0.0000\n",
      "Coefficient: 0.0000\n",
      "Coefficient: -0.0000\n",
      "Coefficient: -0.0000\n",
      "Coefficient: -0.0000\n",
      "Coefficient: 0.0000\n",
      "Coefficient: -0.0000\n",
      "Coefficient: 0.0000\n",
      "Coefficient: 0.0000\n",
      "Coefficient: 0.0000\n",
      "Coefficient: 0.0000\n",
      "Coefficient: 0.0000\n",
      "Coefficient: 0.0000\n",
      "Coefficient: -0.0000\n",
      "Coefficient: 0.0000\n",
      "Coefficient: -0.0000\n",
      "Coefficient: 0.0000\n",
      "Coefficient: 0.0000\n",
      "Coefficient: 0.0000\n",
      "Coefficient: -0.0000\n",
      "Coefficient: 0.0000\n",
      "Coefficient: 0.0000\n",
      "Coefficient: -0.0000\n",
      "Coefficient: -0.0000\n",
      "Coefficient: 0.0000\n",
      "Coefficient: -0.0000\n",
      "Coefficient: -0.0000\n",
      "Coefficient: 0.0000\n",
      "Coefficient: 0.0000\n",
      "Coefficient: 0.0000\n",
      "Coefficient: -0.0000\n",
      "Coefficient: 0.0000\n",
      "Coefficient: 0.0000\n",
      "Coefficient: -0.0000\n",
      "Coefficient: 0.0000\n",
      "Coefficient: 0.0000\n",
      "Coefficient: 0.0000\n",
      "Coefficient: -0.0000\n",
      "Coefficient: -0.0000\n",
      "Coefficient: 0.0000\n",
      "Coefficient: 0.0000\n",
      "Coefficient: -0.0000\n",
      "Coefficient: 0.0000\n",
      "Coefficient: 0.0000\n",
      "Coefficient: 0.0000\n",
      "Coefficient: -0.0000\n",
      "Coefficient: 0.0000\n",
      "Coefficient: -0.0000\n",
      "Coefficient: 0.0000\n",
      "Coefficient: -0.0000\n",
      "Coefficient: 0.0000\n",
      "Coefficient: 0.0000\n",
      "Coefficient: -0.0000\n",
      "Coefficient: -0.0000\n",
      "Coefficient: 0.0000\n",
      "Coefficient: -0.0000\n",
      "Coefficient: -0.0000\n",
      "Coefficient: -0.0000\n",
      "Coefficient: -0.0000\n",
      "Coefficient: 0.0000\n",
      "Coefficient: 0.0000\n",
      "Coefficient: 0.0000\n",
      "Coefficient: 0.0000\n",
      "Coefficient: -0.0000\n",
      "Coefficient: 0.0000\n",
      "Coefficient: -0.0000\n",
      "Coefficient: -0.0000\n",
      "Coefficient: 0.0000\n",
      "Coefficient: -0.0000\n",
      "Coefficient: -0.0000\n",
      "Coefficient: 0.0000\n",
      "Coefficient: 0.0000\n",
      "Coefficient: -0.0000\n",
      "Coefficient: -0.0000\n",
      "Coefficient: 0.0000\n",
      "Coefficient: 0.0000\n",
      "Coefficient: 0.0000\n",
      "Coefficient: 0.0000\n",
      "Coefficient: -0.0000\n",
      "Coefficient: -0.0000\n",
      "Coefficient: -0.0000\n",
      "Coefficient: -0.0000\n",
      "Coefficient: 0.0000\n",
      "Coefficient: 0.0000\n",
      "Coefficient: 0.0000\n",
      "Coefficient: -0.0000\n",
      "Coefficient: 0.0000\n",
      "Coefficient: -0.0000\n",
      "Coefficient: -0.0000\n",
      "Coefficient: 0.0000\n",
      "Coefficient: 0.0000\n"
     ]
    },
    {
     "name": "stdout",
     "output_type": "stream",
     "text": [
      "Coefficient: -0.0000\n",
      "Coefficient: 0.0000\n",
      "Coefficient: -0.0000\n",
      "Coefficient: -0.0000\n",
      "Coefficient: -0.0000\n",
      "Coefficient: 0.0000\n",
      "Coefficient: 0.0000\n",
      "Coefficient: 0.0000\n",
      "Coefficient: 0.0000\n",
      "Coefficient: -0.0000\n",
      "Coefficient: 0.0000\n",
      "Coefficient: 0.0000\n",
      "Coefficient: -0.0000\n",
      "Coefficient: 0.0000\n",
      "Coefficient: -0.0000\n",
      "Coefficient: 0.0000\n",
      "Coefficient: 0.0000\n",
      "Coefficient: -0.0000\n",
      "Coefficient: -0.0000\n",
      "Coefficient: 0.0000\n",
      "Coefficient: 0.0000\n",
      "Coefficient: 0.0000\n",
      "Coefficient: -0.0000\n",
      "Coefficient: -0.0000\n",
      "Coefficient: -0.0000\n",
      "Coefficient: -0.0000\n",
      "Coefficient: -0.0000\n",
      "Coefficient: 0.0000\n",
      "Coefficient: -0.0000\n",
      "Coefficient: 0.0000\n",
      "Coefficient: -0.0000\n",
      "Coefficient: 0.0000\n",
      "Coefficient: 0.0000\n",
      "Coefficient: -0.0000\n",
      "Coefficient: -0.0000\n",
      "Coefficient: 0.0000\n",
      "Coefficient: -0.0000\n",
      "Coefficient: -0.0000\n",
      "Coefficient: 0.0000\n",
      "Coefficient: 0.0000\n",
      "Coefficient: -0.0000\n",
      "Coefficient: 0.0000\n",
      "Coefficient: -0.0000\n",
      "Coefficient: -0.0000\n",
      "Coefficient: -0.0000\n",
      "Coefficient: -0.0000\n",
      "Coefficient: 0.0000\n",
      "Coefficient: -0.0000\n",
      "Coefficient: 0.0000\n",
      "Coefficient: 0.0000\n",
      "Coefficient: 0.0000\n",
      "Coefficient: -0.0000\n",
      "Coefficient: 0.0000\n",
      "Coefficient: 0.0000\n",
      "Coefficient: 0.0000\n",
      "Coefficient: 0.0000\n",
      "Coefficient: -0.0000\n",
      "Coefficient: 0.0000\n",
      "Coefficient: 0.0000\n",
      "Coefficient: -0.0000\n",
      "Coefficient: 0.0000\n",
      "Coefficient: -0.0000\n",
      "Coefficient: -0.0000\n",
      "Coefficient: -0.0000\n",
      "Coefficient: 0.0000\n",
      "Coefficient: 0.0000\n",
      "Coefficient: -0.0000\n",
      "Coefficient: -0.0000\n",
      "Coefficient: 0.0000\n",
      "Coefficient: 0.0000\n",
      "Coefficient: 0.0000\n",
      "Coefficient: -0.0000\n",
      "Coefficient: 0.0000\n",
      "Coefficient: 0.0000\n",
      "Coefficient: 0.0000\n",
      "Coefficient: -0.0000\n",
      "Coefficient: 0.0000\n",
      "Coefficient: 0.0000\n",
      "Coefficient: 0.0000\n",
      "Coefficient: 0.0000\n",
      "Coefficient: -0.0000\n",
      "Coefficient: -0.0000\n",
      "Coefficient: 0.0000\n",
      "Coefficient: 0.0000\n",
      "Coefficient: 0.0000\n",
      "Coefficient: 0.0000\n",
      "Coefficient: 0.0000\n",
      "Coefficient: -0.0000\n",
      "Coefficient: 0.0000\n",
      "Coefficient: -0.0000\n",
      "Coefficient: 0.0000\n",
      "Coefficient: -0.0000\n",
      "Coefficient: -0.0000\n",
      "Coefficient: 0.0000\n",
      "Coefficient: -0.0000\n",
      "Coefficient: -0.0000\n",
      "Coefficient: -0.0000\n",
      "Coefficient: 0.0000\n",
      "Coefficient: 0.0000\n",
      "Coefficient: -0.0000\n",
      "Coefficient: -0.0000\n",
      "Coefficient: -0.0000\n",
      "Coefficient: -0.0000\n",
      "Coefficient: -0.0000\n",
      "Coefficient: 0.0000\n",
      "Coefficient: -0.0000\n",
      "Coefficient: 0.0000\n",
      "Coefficient: -0.0000\n",
      "Coefficient: -0.0000\n",
      "Coefficient: -0.0000\n",
      "Coefficient: 0.0000\n",
      "Coefficient: -0.0000\n",
      "Coefficient: -0.0000\n",
      "Coefficient: 0.0000\n",
      "Coefficient: 0.0000\n",
      "Coefficient: 0.0000\n",
      "Coefficient: 0.0000\n",
      "Coefficient: 0.0000\n",
      "Coefficient: 0.0000\n",
      "Coefficient: -0.0000\n",
      "Coefficient: -0.0000\n",
      "Coefficient: 0.0000\n",
      "Coefficient: -0.0000\n",
      "Coefficient: 0.0000\n",
      "Coefficient: -0.0000\n",
      "Coefficient: 0.0000\n",
      "Coefficient: 0.0000\n",
      "Coefficient: 0.0000\n",
      "Coefficient: -0.0000\n",
      "Coefficient: -0.0000\n",
      "Coefficient: -0.0000\n",
      "Coefficient: -0.0000\n",
      "Coefficient: -0.0000\n",
      "Coefficient: -0.0000\n",
      "Coefficient: -0.0000\n",
      "Coefficient: -0.0000\n",
      "Coefficient: 0.0000\n",
      "Coefficient: 0.0000\n",
      "Coefficient: -0.0000\n",
      "Coefficient: -0.0000\n",
      "Coefficient: -0.0000\n",
      "Coefficient: -0.0000\n",
      "Coefficient: -0.0000\n",
      "Coefficient: -0.0000\n",
      "Coefficient: -0.0000\n",
      "Coefficient: -0.0000\n",
      "Coefficient: -0.0000\n",
      "Coefficient: 0.0000\n",
      "Coefficient: 0.0000\n",
      "Coefficient: 0.0000\n",
      "Coefficient: 0.0000\n",
      "Coefficient: 0.0000\n",
      "Coefficient: 0.0000\n",
      "Coefficient: -0.0000\n",
      "Coefficient: 0.0000\n",
      "Coefficient: 0.0000\n",
      "Coefficient: -0.0000\n",
      "Coefficient: -0.0000\n",
      "Coefficient: -0.0000\n",
      "Coefficient: -0.0000\n",
      "Coefficient: 0.0000\n",
      "Coefficient: -0.0000\n",
      "Coefficient: -0.0000\n",
      "Coefficient: -0.0000\n"
     ]
    }
   ],
   "source": [
    "# Get the indices that would sort the coefficients in ascending order\n",
    "sorted_indices = np.argsort(abs(coefficients))\n",
    "\n",
    "# Reverse the indices to get descending order\n",
    "sorted_indices_descending = sorted_indices[::-1]\n",
    "\n",
    "# Get the ordered coefficients using the sorted indices\n",
    "ordered_coefficients = coefficients[sorted_indices_descending]\n",
    "\n",
    "# Print the ordered coefficients\n",
    "for coefficient in ordered_coefficients:\n",
    "    print(f\"Coefficient: {coefficient:.4f}\")\n"
   ]
  },
  {
   "cell_type": "code",
   "execution_count": 107,
   "id": "cce62c59",
   "metadata": {
    "ExecuteTime": {
     "end_time": "2024-07-30T11:35:44.403939Z",
     "start_time": "2024-07-30T11:35:44.397210Z"
    }
   },
   "outputs": [],
   "source": [
    "pca_index_list = sorted_indices_descending[0:10]"
   ]
  },
  {
   "cell_type": "code",
   "execution_count": 108,
   "id": "19f73b16",
   "metadata": {
    "ExecuteTime": {
     "end_time": "2024-07-30T11:35:45.665530Z",
     "start_time": "2024-07-30T11:35:44.408592Z"
    }
   },
   "outputs": [],
   "source": [
    "i = 0\n",
    "for index in pca_index_list:\n",
    "    pca_loadings = pca.components_[index]\n",
    "    pca_loadings = pca_loadings.reshape((len(pca_loadings),1))\n",
    "    i += 1\n",
    "    ptksave(pca_loadings.T, os.path.join(save_path, 'pca'+str(i)+'.nii.gz'), example=ex_nii, mask=mask_nii)"
   ]
  },
  {
   "cell_type": "code",
   "execution_count": 109,
   "id": "85aaf97c",
   "metadata": {
    "ExecuteTime": {
     "end_time": "2024-07-30T11:35:45.695029Z",
     "start_time": "2024-07-30T11:35:45.685113Z"
    }
   },
   "outputs": [
    {
     "data": {
      "text/plain": [
       "'/home/preclineu/chafra/Desktop/figures/UKB/pca1.nii.gz'"
      ]
     },
     "execution_count": 109,
     "metadata": {},
     "output_type": "execute_result"
    }
   ],
   "source": [
    "os.path.join(save_path, 'pca1.nii.gz')"
   ]
  },
  {
   "cell_type": "code",
   "execution_count": 110,
   "id": "d0186e5c",
   "metadata": {
    "ExecuteTime": {
     "end_time": "2024-07-30T11:35:45.705385Z",
     "start_time": "2024-07-30T11:35:45.699611Z"
    }
   },
   "outputs": [],
   "source": [
    "# Z_one_sub = Z_df.loc[index].values\n",
    "#     Z_one_sub = Z_one_sub.reshape((len(Z_one_sub),1))\n",
    "#     all_z_subs.append(Z_one_sub)\n",
    "#     ptksave(Z_one_sub.T, os.path.join(save_path, cnv_to_model+'_Z_CNV_' + index + '_' + str(nr) + '.nii.gz'), example=ex_nii, mask=mask_nii)\n",
    "#     nr -= 1"
   ]
  },
  {
   "cell_type": "code",
   "execution_count": 111,
   "id": "1c41387e",
   "metadata": {
    "ExecuteTime": {
     "end_time": "2024-07-30T11:35:46.340240Z",
     "start_time": "2024-07-30T11:35:45.710333Z"
    }
   },
   "outputs": [
    {
     "data": {
      "image/png": "[encoded data removed]",
      "text/plain": [
       "<Figure size 432x288 with 1 Axes>"
      ]
     },
     "metadata": {
      "needs_background": "light"
     },
     "output_type": "display_data"
    }
   ],
   "source": [
    "explained_variance_ratio = pca.explained_variance_ratio_\n",
    "plt.figure()\n",
    "plt.plot(range(1, 51), explained_variance_ratio[0:50], marker='.', color=colors[0])\n",
    "plt.xlabel('Principal Component', fontsize=14)\n",
    "plt.ylabel('Explained Variance Ratio', fontsize=14)\n",
    "plt.title('Explained Variance per PC Z-Scores', fontweight='bold', fontsize=14)\n",
    "plt.savefig(f'/home/preclineu/chafra/Desktop/figures/UKB/PCA.png', dpi=300, bbox_inches = 'tight')\n",
    "plt.show()"
   ]
  },
  {
   "cell_type": "code",
   "execution_count": 112,
   "id": "1cf2c5d2",
   "metadata": {
    "ExecuteTime": {
     "end_time": "2024-07-30T11:35:46.363571Z",
     "start_time": "2024-07-30T11:35:46.359015Z"
    }
   },
   "outputs": [],
   "source": [
    "if plot:\n",
    "    cumulative_variance_ratio = np.cumsum(explained_variance_ratio)\n",
    "    plt.figure()\n",
    "    plt.plot(range(1, 51), cumulative_variance_ratio[0:50], marker='.', color=colors[0])\n",
    "    plt.xlabel('Principal Components',  fontsize=16)\n",
    "    plt.ylabel('Cumulative Explained Variance Ratio',  fontsize=16)\n",
    "    plt.title('Cumulative Explained Variance Plot',  fontsize=16)\n",
    "    plt.savefig(f'/home/preclineu/chafra/Desktop/figures/UKB/PCA_cumplot.png', dpi=300, bbox_inches = 'tight')\n",
    "    plt.show()"
   ]
  },
  {
   "cell_type": "markdown",
   "id": "1325a5a1",
   "metadata": {},
   "source": [
    "# Correlation polygenetic risk scores"
   ]
  },
  {
   "cell_type": "code",
   "execution_count": 113,
   "id": "341600a7",
   "metadata": {
    "ExecuteTime": {
     "end_time": "2024-07-30T11:35:51.604198Z",
     "start_time": "2024-07-30T11:35:46.382248Z"
    }
   },
   "outputs": [
    {
     "name": "stdout",
     "output_type": "stream",
     "text": [
      "6181\n",
      "6181\n",
      "6181\n",
      "6181\n",
      "6181\n",
      "6181\n",
      "6181\n",
      "   Item  Correlation   P-value  FDR P-value\n",
      "0   CUD     0.014107  0.267476     0.374466\n",
      "1   BIP     0.018567  0.144421     0.252737\n",
      "2   ASD     0.000027  0.998280     0.998280\n",
      "3   MDD     0.020885  0.100628     0.234800\n",
      "4   ANX     0.003768  0.767075     0.894921\n",
      "5  ADHD    -0.025307  0.046645     0.163258\n",
      "6   SCZ     0.025377  0.046041     0.163258\n"
     ]
    }
   ],
   "source": [
    "folder_path = '/home/preclineu/chafra/Desktop/data/polygenic_scores_UKB/'\n",
    "items = ['CUD', 'BIP', 'ASD', 'MDD', 'ANX', 'ADHD', 'SCZ']\n",
    "results = []\n",
    "\n",
    "for item in items:\n",
    "    file_path = os.path.join(folder_path, f'{item}_UKB.sscore')\n",
    "    pgs_df = pd.read_csv(file_path, sep='\\t', index_col='IID')\n",
    "    pgs_df.index = pgs_df.index.astype(str)\n",
    "    \n",
    "    scaler = StandardScaler()\n",
    "    pgs_df['SCORE1_AVG_standardized'] = scaler.fit_transform(pgs_df[['SCORE1_AVG']])\n",
    "    \n",
    "    common_index = Z_df.index.intersection(pgs_df.index)\n",
    "    print(len(common_index))\n",
    "    correlation, p_value = spearmanr(pgs_df['SCORE1_AVG_standardized'].loc[common_index], deviation_counts['negative_count'].loc[common_index])\n",
    "    \n",
    "    results.append({\n",
    "        'Item': item,\n",
    "        'Correlation': correlation,\n",
    "        'P-value': p_value\n",
    "    })\n",
    "\n",
    "# Extract p-values for FDR correction\n",
    "p_values = [result['P-value'] for result in results]\n",
    "_, fdr_corrected_p_values, _, _ = multipletests(p_values, alpha=0.05, method='fdr_bh')\n",
    "for result, fdr_p_value in zip(results, fdr_corrected_p_values):\n",
    "    result['FDR P-value'] = fdr_p_value\n",
    "\n",
    "results_df = pd.DataFrame(results)\n",
    "print(results_df)\n"
   ]
  },
  {
   "cell_type": "code",
   "execution_count": 114,
   "id": "8a0ca749",
   "metadata": {
    "ExecuteTime": {
     "end_time": "2024-07-30T11:35:51.643914Z",
     "start_time": "2024-07-30T11:35:51.624394Z"
    }
   },
   "outputs": [
    {
     "data": {
      "text/plain": [
       "6181"
      ]
     },
     "execution_count": 114,
     "metadata": {},
     "output_type": "execute_result"
    }
   ],
   "source": [
    "len(common_index)"
   ]
  },
  {
   "cell_type": "code",
   "execution_count": 115,
   "id": "2d55f5bc",
   "metadata": {
    "ExecuteTime": {
     "end_time": "2024-07-30T11:35:56.637156Z",
     "start_time": "2024-07-30T11:35:51.645518Z"
    }
   },
   "outputs": [
    {
     "name": "stdout",
     "output_type": "stream",
     "text": [
      "   Item  Correlation   P-value  FDR P-value\n",
      "0   CUD    -0.018987  0.135552     0.474432\n",
      "1   BIP    -0.009098  0.474536     0.672535\n",
      "2   ASD     0.001671  0.895505     0.895505\n",
      "3   MDD    -0.020445  0.107999     0.474432\n",
      "4   ANX    -0.008978  0.480382     0.672535\n",
      "5  ADHD     0.006165  0.627939     0.732595\n",
      "6   SCZ    -0.014669  0.248861     0.580675\n"
     ]
    }
   ],
   "source": [
    "results = []\n",
    "\n",
    "for item in items:\n",
    "    file_path = os.path.join(folder_path, f'{item}_UKB.sscore')\n",
    "    pgs_df = pd.read_csv(file_path, sep='\\t', index_col='IID')\n",
    "    pgs_df.index = pgs_df.index.astype(str)\n",
    "    \n",
    "    scaler = StandardScaler()\n",
    "    pgs_df['SCORE1_AVG_standardized'] = scaler.fit_transform(pgs_df[['SCORE1_AVG']])\n",
    "    \n",
    "    common_index = Z_df.index.intersection(pgs_df.index)\n",
    "    \n",
    "    correlation, p_value = spearmanr(pgs_df['SCORE1_AVG_standardized'].loc[common_index], deviation_counts['positive_count'].loc[common_index])\n",
    "    \n",
    "    results.append({\n",
    "        'Item': item,\n",
    "        'Correlation': correlation,\n",
    "        'P-value': p_value\n",
    "    })\n",
    "\n",
    "# Extract p-values for FDR correction\n",
    "p_values = [result['P-value'] for result in results]\n",
    "_, fdr_corrected_p_values, _, _ = multipletests(p_values, alpha=0.05, method='fdr_bh')\n",
    "for result, fdr_p_value in zip(results, fdr_corrected_p_values):\n",
    "    result['FDR P-value'] = fdr_p_value\n",
    "\n",
    "results_df = pd.DataFrame(results)\n",
    "print(results_df)"
   ]
  },
  {
   "cell_type": "code",
   "execution_count": null,
   "id": "ca6c5440",
   "metadata": {},
   "outputs": [],
   "source": []
  }
 ],
 "metadata": {
  "hide_input": false,
  "kernelspec": {
   "display_name": "Python 3",
   "language": "python",
   "name": "python3"
  },
  "language_info": {
   "codemirror_mode": {
    "name": "ipython",
    "version": 3
   },
   "file_extension": ".py",
   "mimetype": "text/x-python",
   "name": "python",
   "nbconvert_exporter": "python",
   "pygments_lexer": "ipython3",
   "version": "3.8.2"
  },
  "latex_envs": {
   "LaTeX_envs_menu_present": true,
   "autoclose": false,
   "autocomplete": true,
   "bibliofile": "biblio.bib",
   "cite_by": "apalike",
   "current_citInitial": 1,
   "eqLabelWithNumbers": true,
   "eqNumInitial": 1,
   "hotkeys": {
    "equation": "Ctrl-E",
    "itemize": "Ctrl-I"
   },
   "labels_anchors": false,
   "latex_user_defs": false,
   "report_style_numbering": false,
   "user_envs_cfg": false
  },
  "toc": {
   "base_numbering": 1,
   "nav_menu": {},
   "number_sections": true,
   "sideBar": true,
   "skip_h1_title": false,
   "title_cell": "Table of Contents",
   "title_sidebar": "Contents",
   "toc_cell": false,
   "toc_position": {
    "height": "calc(100% - 180px)",
    "left": "10px",
    "top": "150px",
    "width": "432.167px"
   },
   "toc_section_display": true,
   "toc_window_display": true
  },
  "varInspector": {
   "cols": {
    "lenName": 16,
    "lenType": 16,
    "lenVar": 40
   },
   "kernels_config": {
    "python": {
     "delete_cmd_postfix": "",
     "delete_cmd_prefix": "del ",
     "library": "var_list.py",
     "varRefreshCmd": "print(var_dic_list())"
    },
    "r": {
     "delete_cmd_postfix": ") ",
     "delete_cmd_prefix": "rm(",
     "library": "var_list.r",
     "varRefreshCmd": "cat(var_dic_list()) "
    }
   },
   "types_to_exclude": [
    "module",
    "function",
    "builtin_function_or_method",
    "instance",
    "_Feature"
   ],
   "window_display": false
  }
 },
 "nbformat": 4,
 "nbformat_minor": 5
}
